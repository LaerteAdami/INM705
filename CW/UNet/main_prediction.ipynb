{
 "cells": [
  {
   "cell_type": "code",
   "execution_count": 1,
   "id": "7eea1bf0-ca4c-4004-b2a2-2b98e2b267ef",
   "metadata": {},
   "outputs": [],
   "source": [
    "import time\n",
    "import os.path\n",
    "import argparse\n",
    "import numpy as np\n",
    "import matplotlib.pyplot as plt\n",
    "from UNet_model import *\n",
    "from PIL import Image\n",
    "import torchvision"
   ]
  },
  {
   "cell_type": "code",
   "execution_count": 2,
   "id": "a0ff5cd7-15f0-47b1-b14f-c471369e1e38",
   "metadata": {},
   "outputs": [
    {
     "name": "stderr",
     "output_type": "stream",
     "text": [
      "/users/adcy347/.local/lib/python3.9/site-packages/torchvision/transforms/transforms.py:329: UserWarning: Argument 'interpolation' of type int is deprecated since 0.13 and will be removed in 0.15. Please use InterpolationMode enum.\n",
      "  warnings.warn(\n"
     ]
    }
   ],
   "source": [
    "# our transform that is applied to all incoming images\n",
    "transform_image = torchvision.transforms.Compose([\n",
    "    torchvision.transforms.Resize(size=(128, 256), interpolation=Image.BILINEAR),\n",
    "    torchvision.transforms.ToTensor()\n",
    "])"
   ]
  },
  {
   "cell_type": "code",
   "execution_count": 3,
   "id": "355810f3-b506-455e-8a80-0b62027e7fb3",
   "metadata": {},
   "outputs": [
    {
     "name": "stdout",
     "output_type": "stream",
     "text": [
      "Dataset ImageFolder\n",
      "    Number of datapoints: 3\n",
      "    Root location: ./predictionImages\n",
      "    StandardTransform\n",
      "Transform: Compose(\n",
      "               Resize(size=(128, 256), interpolation=bilinear, max_size=None, antialias=None)\n",
      "               ToTensor()\n",
      "           )\n"
     ]
    },
    {
     "name": "stderr",
     "output_type": "stream",
     "text": [
      "/users/adcy347/.local/lib/python3.9/site-packages/torch/utils/data/dataloader.py:554: UserWarning: This DataLoader will create 4 worker processes in total. Our suggested max number of worker in current system is 1, which is smaller than what this DataLoader is going to create. Please be aware that excessive worker creation might get DataLoader running slow or even freeze, lower the worker number to avoid potential slowness/freeze if necessary.\n",
      "  warnings.warn(_create_warning_msg(\n"
     ]
    }
   ],
   "source": [
    "# load the images in the folder (Test Images)\n",
    "img_data = torchvision.datasets.ImageFolder(root=\"./predictionImages\", transform=transform_image)\n",
    "img_batch = torch.utils.data.DataLoader(img_data, batch_size=64, shuffle=False, num_workers=4)\n",
    "print(img_data)"
   ]
  },
  {
   "cell_type": "code",
   "execution_count": 4,
   "id": "bc4097f2-ed40-4405-b080-23ded5564f75",
   "metadata": {},
   "outputs": [
    {
     "name": "stdout",
     "output_type": "stream",
     "text": [
      "loading unet model...\n",
      "    - model restored from file....\n",
      "    - filename = ./checkpoints_epochs/train_UNet.pkl\n"
     ]
    }
   ],
   "source": [
    "# load pretrained model if it is there\n",
    "print(\"loading unet model...\")\n",
    "file_model = './checkpoints_epochs/train_UNet.pkl'\n",
    "if os.path.isfile(file_model):\n",
    "    generator = torch.load(file_model)\n",
    "    print(\"    - model restored from file....\")\n",
    "    print(\"    - filename = %s\" % file_model)\n",
    "else:\n",
    "    print(\"unable to load unet.pkl model file\")\n",
    "    exit()\n"
   ]
  },
  {
   "cell_type": "code",
   "execution_count": 5,
   "id": "b604097d-4331-4c67-89ee-2100558bbf0c",
   "metadata": {},
   "outputs": [],
   "source": [
    "# make the result directory\n",
    "if not os.path.exists('./predict/'):\n",
    "    os.makedirs('./predict/')"
   ]
  },
  {
   "cell_type": "code",
   "execution_count": 6,
   "id": "166f4879-6e5f-48e8-8d6e-181a6f0d4620",
   "metadata": {},
   "outputs": [
    {
     "name": "stdout",
     "output_type": "stream",
     "text": [
      "\n",
      "evaluating network (will take a while)...\n"
     ]
    }
   ],
   "source": [
    "# Loop through the dataset and evaluate how well the network predicts\n",
    "print(\"\\nevaluating network (will take a while)...\")\n",
    "for idx_batch, (imagergb, labelrgb) in enumerate(img_batch):\n",
    "\n",
    "    # send to the GPU and do a forward pass\n",
    "    x = Variable(imagergb).cuda(0)\n",
    "    y = generator.forward(x)\n",
    "\n",
    "    # max over the classes should be the prediction\n",
    "    # our prediction is [N, classes, W, H]\n",
    "    # so we max over the second dimension and take the max response\n",
    "    pred_class = torch.zeros((y.size()[0], y.size()[2], y.size()[3]))\n",
    "    for idx in range(0, y.size()[0]):\n",
    "        pred_class[idx] = torch.argmax(y[idx], dim=0).cpu().int()\n",
    "    \n",
    "    # unsqueese so we have [N, 1, W, H] size\n",
    "    # this allows for debug saving of the images to file...\n",
    "    pred_class = pred_class.unsqueeze(1).float()\n",
    "    \n",
    "    # debug saving generated classes to file\n",
    "    v_utils.save_image(pred_class.float()/y.size()[1], \"./predict/gen_image_{}_{}.png\".format(0, idx_batch))\n",
    "    v_utils.save_image(x.cpu().data, \"./predict/original_image_{}_{}.png\".format(0, idx_batch))"
   ]
  },
  {
   "cell_type": "code",
   "execution_count": null,
   "id": "83920d68-1713-4122-93ad-94649541a8fe",
   "metadata": {},
   "outputs": [],
   "source": []
  }
 ],
 "metadata": {
  "kernelspec": {
   "display_name": "Python 3 (ipykernel)",
   "language": "python",
   "name": "python3"
  },
  "language_info": {
   "codemirror_mode": {
    "name": "ipython",
    "version": 3
   },
   "file_extension": ".py",
   "mimetype": "text/x-python",
   "name": "python",
   "nbconvert_exporter": "python",
   "pygments_lexer": "ipython3",
   "version": "3.9.5"
  }
 },
 "nbformat": 4,
 "nbformat_minor": 5
}
