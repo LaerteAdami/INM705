{
 "cells": [
  {
   "cell_type": "code",
   "execution_count": 3,
   "id": "c470845e-5fa0-4bdd-bdbf-9c8b545d0c11",
   "metadata": {},
   "outputs": [],
   "source": [
    "import time\n",
    "import os.path\n",
    "import argparse\n",
    "import numpy as np\n",
    "import matplotlib.pyplot as plt\n",
    "from UNet_model import UnetGenerator\n",
    "from dataset_handler import CityscapesDataset"
   ]
  },
  {
   "cell_type": "code",
   "execution_count": null,
   "id": "8054fa48-409c-45d1-b44f-3f9971a2a7e4",
   "metadata": {},
   "outputs": [],
   "source": [
    "# hyper-parameters (learning rate and how many epochs we will train for)\n",
    "lr = 0.0002\n",
    "epochs = 20"
   ]
  },
  {
   "cell_type": "code",
   "execution_count": null,
   "id": "9beea706-93f9-4f4f-8060-b1247b90728f",
   "metadata": {},
   "outputs": [],
   "source": [
    "# cityscapes dataset loading\n",
    "img_data = CityscapesDataset(args.datadir, split='train', mode='fine', augment=True)\n",
    "img_batch = torch.utils.data.DataLoader(img_data, batch_size=args.batch_size, shuffle=True, num_workers=4)\n",
    "print(img_data)"
   ]
  }
 ],
 "metadata": {
  "kernelspec": {
   "display_name": "Python 3 (ipykernel)",
   "language": "python",
   "name": "python3"
  },
  "language_info": {
   "codemirror_mode": {
    "name": "ipython",
    "version": 3
   },
   "file_extension": ".py",
   "mimetype": "text/x-python",
   "name": "python",
   "nbconvert_exporter": "python",
   "pygments_lexer": "ipython3",
   "version": "3.9.5"
  }
 },
 "nbformat": 4,
 "nbformat_minor": 5
}
