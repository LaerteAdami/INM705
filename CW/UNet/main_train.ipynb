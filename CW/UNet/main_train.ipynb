{
 "cells": [
  {
   "cell_type": "code",
   "execution_count": 1,
   "id": "c470845e-5fa0-4bdd-bdbf-9c8b545d0c11",
   "metadata": {},
   "outputs": [],
   "source": [
    "import time\n",
    "import os.path\n",
    "import argparse\n",
    "import numpy as np\n",
    "import matplotlib.pyplot as plt\n",
    "from UNet_model import *\n",
    "from dataset_handler import *"
   ]
  },
  {
   "cell_type": "code",
   "execution_count": 2,
   "id": "8054fa48-409c-45d1-b44f-3f9971a2a7e4",
   "metadata": {},
   "outputs": [],
   "source": [
    "# hyper-parameters (learning rate and how many epochs we will train for)\n",
    "#lr = 0.0002\n",
    "lr = 0.00001\n",
    "epochs = 12"
   ]
  },
  {
   "cell_type": "code",
   "execution_count": 3,
   "id": "9beea706-93f9-4f4f-8060-b1247b90728f",
   "metadata": {
    "tags": []
   },
   "outputs": [
    {
     "name": "stdout",
     "output_type": "stream",
     "text": [
      "Dataset CityscapesDataset\n",
      "    Number of images: 2975\n",
      "    Split: train\n",
      "    Mode: gtFine\n",
      "    Root Location: /mnt/data/course/psarin/inm705/\n",
      "\n"
     ]
    },
    {
     "name": "stderr",
     "output_type": "stream",
     "text": [
      "/users/adcy347/.local/lib/python3.9/site-packages/torch/utils/data/dataloader.py:554: UserWarning: This DataLoader will create 4 worker processes in total. Our suggested max number of worker in current system is 1, which is smaller than what this DataLoader is going to create. Please be aware that excessive worker creation might get DataLoader running slow or even freeze, lower the worker number to avoid potential slowness/freeze if necessary.\n",
      "  warnings.warn(_create_warning_msg(\n"
     ]
    }
   ],
   "source": [
    "# cityscapes dataset loading\n",
    "img_data = CityscapesDataset(\"/mnt/data/course/psarin/inm705/\", split='train', mode='fine')\n",
    "img_batch = torch.utils.data.DataLoader(img_data, batch_size=64, shuffle=True, num_workers=4)\n",
    "print(img_data)\n",
    "#/mnt/data/course/psarin/inm705/leftImg8bit\n",
    "#/mnt/data/course/psarin/inm705/gtFine_trainvaltest/gtFine"
   ]
  },
  {
   "cell_type": "code",
   "execution_count": 4,
   "id": "1bb84da8-cb96-421c-8563-c1b5a24d263c",
   "metadata": {},
   "outputs": [],
   "source": [
    "# loss function\n",
    "# we want to do some binary classification on it (cityscapes classes)\n",
    "recon_loss_func = nn.CrossEntropyLoss()\n",
    "num_classes = img_data.num_classes  # background, road, sky, car"
   ]
  },
  {
   "cell_type": "code",
   "execution_count": 5,
   "id": "819e63b6-4a69-4ce3-ac32-bf71fbfcda18",
   "metadata": {},
   "outputs": [
    {
     "name": "stdout",
     "output_type": "stream",
     "text": [
      "creating unet model...\n"
     ]
    }
   ],
   "source": [
    "# initiate generator and optimizer\n",
    "print(\"creating unet model...\")\n",
    "generator = nn.DataParallel(UnetGenerator(3, img_data.num_classes, 64), device_ids=[i for i in range(1)]).cuda()\n",
    "gen_optimizer = torch.optim.Adam(generator.parameters(), lr=lr, weight_decay=0.001)"
   ]
  },
  {
   "cell_type": "code",
   "execution_count": 6,
   "id": "4f7be497-1250-4dc1-9b4e-ef548127bf20",
   "metadata": {},
   "outputs": [
    {
     "name": "stdout",
     "output_type": "stream",
     "text": [
      "    - model restored from file....\n",
      "    - filename = ./checkpoints_epochs/train_UNet_17epoch.pkl\n"
     ]
    }
   ],
   "source": [
    "# load pretrained model if it is there\n",
    "file_model = './checkpoints_epochs/train_UNet_17epoch.pkl'\n",
    "if os.path.isfile(file_model):\n",
    "    generator = torch.load(file_model)\n",
    "    print(\"    - model restored from file....\")\n",
    "    print(\"    - filename = %s\" % file_model)"
   ]
  },
  {
   "cell_type": "code",
   "execution_count": 7,
   "id": "29d561e7-2db9-4007-b556-1562fe51d21d",
   "metadata": {},
   "outputs": [],
   "source": [
    "# or log file that has the output of our loss\n",
    "file_loss = open('./unet_loss', 'w')"
   ]
  },
  {
   "cell_type": "code",
   "execution_count": 8,
   "id": "651835b0-53fc-49d6-81d8-72794d51ff3d",
   "metadata": {},
   "outputs": [],
   "source": [
    "# make the result directory\n",
    "if not os.path.exists('./result/'):\n",
    "    os.makedirs('./result/')"
   ]
  },
  {
   "cell_type": "code",
   "execution_count": 9,
   "id": "e05fe038-fac2-4ed2-b60c-8f1bea38fc9e",
   "metadata": {
    "scrolled": true,
    "tags": []
   },
   "outputs": [
    {
     "name": "stderr",
     "output_type": "stream",
     "text": [
      "/users/adcy347/.local/lib/python3.9/site-packages/torchvision/transforms/functional.py:442: UserWarning: Argument 'interpolation' of type int is deprecated since 0.13 and will be removed in 0.15. Please use InterpolationMode enum.\n",
      "  warnings.warn(\n",
      "/users/adcy347/.local/lib/python3.9/site-packages/torchvision/transforms/functional.py:442: UserWarning: Argument 'interpolation' of type int is deprecated since 0.13 and will be removed in 0.15. Please use InterpolationMode enum.\n",
      "  warnings.warn(\n",
      "/users/adcy347/.local/lib/python3.9/site-packages/torchvision/transforms/functional.py:442: UserWarning: Argument 'interpolation' of type int is deprecated since 0.13 and will be removed in 0.15. Please use InterpolationMode enum.\n",
      "  warnings.warn(\n",
      "/users/adcy347/.local/lib/python3.9/site-packages/torchvision/transforms/functional.py:442: UserWarning: Argument 'interpolation' of type int is deprecated since 0.13 and will be removed in 0.15. Please use InterpolationMode enum.\n",
      "  warnings.warn(\n"
     ]
    },
    {
     "name": "stdout",
     "output_type": "stream",
     "text": [
      "epoch = 0 | loss = 1.1652849912643433\n"
     ]
    },
    {
     "name": "stderr",
     "output_type": "stream",
     "text": [
      "/users/adcy347/.local/lib/python3.9/site-packages/torchvision/transforms/functional.py:442: UserWarning: Argument 'interpolation' of type int is deprecated since 0.13 and will be removed in 0.15. Please use InterpolationMode enum.\n",
      "  warnings.warn(\n",
      "/users/adcy347/.local/lib/python3.9/site-packages/torchvision/transforms/functional.py:442: UserWarning: Argument 'interpolation' of type int is deprecated since 0.13 and will be removed in 0.15. Please use InterpolationMode enum.\n",
      "  warnings.warn(\n",
      "/users/adcy347/.local/lib/python3.9/site-packages/torchvision/transforms/functional.py:442: UserWarning: Argument 'interpolation' of type int is deprecated since 0.13 and will be removed in 0.15. Please use InterpolationMode enum.\n",
      "  warnings.warn(\n",
      "/users/adcy347/.local/lib/python3.9/site-packages/torchvision/transforms/functional.py:442: UserWarning: Argument 'interpolation' of type int is deprecated since 0.13 and will be removed in 0.15. Please use InterpolationMode enum.\n",
      "  warnings.warn(\n"
     ]
    },
    {
     "name": "stdout",
     "output_type": "stream",
     "text": [
      "epoch = 1 | loss = 1.1659525632858276\n"
     ]
    },
    {
     "name": "stderr",
     "output_type": "stream",
     "text": [
      "/users/adcy347/.local/lib/python3.9/site-packages/torchvision/transforms/functional.py:442: UserWarning: Argument 'interpolation' of type int is deprecated since 0.13 and will be removed in 0.15. Please use InterpolationMode enum.\n",
      "  warnings.warn(\n",
      "/users/adcy347/.local/lib/python3.9/site-packages/torchvision/transforms/functional.py:442: UserWarning: Argument 'interpolation' of type int is deprecated since 0.13 and will be removed in 0.15. Please use InterpolationMode enum.\n",
      "  warnings.warn(\n",
      "/users/adcy347/.local/lib/python3.9/site-packages/torchvision/transforms/functional.py:442: UserWarning: Argument 'interpolation' of type int is deprecated since 0.13 and will be removed in 0.15. Please use InterpolationMode enum.\n",
      "  warnings.warn(\n",
      "/users/adcy347/.local/lib/python3.9/site-packages/torchvision/transforms/functional.py:442: UserWarning: Argument 'interpolation' of type int is deprecated since 0.13 and will be removed in 0.15. Please use InterpolationMode enum.\n",
      "  warnings.warn(\n"
     ]
    },
    {
     "name": "stdout",
     "output_type": "stream",
     "text": [
      "epoch = 2 | loss = 1.1529920101165771\n"
     ]
    },
    {
     "name": "stderr",
     "output_type": "stream",
     "text": [
      "/users/adcy347/.local/lib/python3.9/site-packages/torchvision/transforms/functional.py:442: UserWarning: Argument 'interpolation' of type int is deprecated since 0.13 and will be removed in 0.15. Please use InterpolationMode enum.\n",
      "  warnings.warn(\n",
      "/users/adcy347/.local/lib/python3.9/site-packages/torchvision/transforms/functional.py:442: UserWarning: Argument 'interpolation' of type int is deprecated since 0.13 and will be removed in 0.15. Please use InterpolationMode enum.\n",
      "  warnings.warn(\n",
      "/users/adcy347/.local/lib/python3.9/site-packages/torchvision/transforms/functional.py:442: UserWarning: Argument 'interpolation' of type int is deprecated since 0.13 and will be removed in 0.15. Please use InterpolationMode enum.\n",
      "  warnings.warn(\n",
      "/users/adcy347/.local/lib/python3.9/site-packages/torchvision/transforms/functional.py:442: UserWarning: Argument 'interpolation' of type int is deprecated since 0.13 and will be removed in 0.15. Please use InterpolationMode enum.\n",
      "  warnings.warn(\n"
     ]
    },
    {
     "name": "stdout",
     "output_type": "stream",
     "text": [
      "epoch = 3 | loss = 1.154135823249817\n"
     ]
    },
    {
     "name": "stderr",
     "output_type": "stream",
     "text": [
      "/users/adcy347/.local/lib/python3.9/site-packages/torchvision/transforms/functional.py:442: UserWarning: Argument 'interpolation' of type int is deprecated since 0.13 and will be removed in 0.15. Please use InterpolationMode enum.\n",
      "  warnings.warn(\n",
      "/users/adcy347/.local/lib/python3.9/site-packages/torchvision/transforms/functional.py:442: UserWarning: Argument 'interpolation' of type int is deprecated since 0.13 and will be removed in 0.15. Please use InterpolationMode enum.\n",
      "  warnings.warn(\n",
      "/users/adcy347/.local/lib/python3.9/site-packages/torchvision/transforms/functional.py:442: UserWarning: Argument 'interpolation' of type int is deprecated since 0.13 and will be removed in 0.15. Please use InterpolationMode enum.\n",
      "  warnings.warn(\n",
      "/users/adcy347/.local/lib/python3.9/site-packages/torchvision/transforms/functional.py:442: UserWarning: Argument 'interpolation' of type int is deprecated since 0.13 and will be removed in 0.15. Please use InterpolationMode enum.\n",
      "  warnings.warn(\n"
     ]
    },
    {
     "name": "stdout",
     "output_type": "stream",
     "text": [
      "epoch = 4 | loss = 1.1487218141555786\n"
     ]
    },
    {
     "name": "stderr",
     "output_type": "stream",
     "text": [
      "/users/adcy347/.local/lib/python3.9/site-packages/torchvision/transforms/functional.py:442: UserWarning: Argument 'interpolation' of type int is deprecated since 0.13 and will be removed in 0.15. Please use InterpolationMode enum.\n",
      "  warnings.warn(\n",
      "/users/adcy347/.local/lib/python3.9/site-packages/torchvision/transforms/functional.py:442: UserWarning: Argument 'interpolation' of type int is deprecated since 0.13 and will be removed in 0.15. Please use InterpolationMode enum.\n",
      "  warnings.warn(\n",
      "/users/adcy347/.local/lib/python3.9/site-packages/torchvision/transforms/functional.py:442: UserWarning: Argument 'interpolation' of type int is deprecated since 0.13 and will be removed in 0.15. Please use InterpolationMode enum.\n",
      "  warnings.warn(\n",
      "/users/adcy347/.local/lib/python3.9/site-packages/torchvision/transforms/functional.py:442: UserWarning: Argument 'interpolation' of type int is deprecated since 0.13 and will be removed in 0.15. Please use InterpolationMode enum.\n",
      "  warnings.warn(\n"
     ]
    },
    {
     "name": "stdout",
     "output_type": "stream",
     "text": [
      "epoch = 5 | loss = 1.1526705026626587\n"
     ]
    },
    {
     "name": "stderr",
     "output_type": "stream",
     "text": [
      "/users/adcy347/.local/lib/python3.9/site-packages/torchvision/transforms/functional.py:442: UserWarning: Argument 'interpolation' of type int is deprecated since 0.13 and will be removed in 0.15. Please use InterpolationMode enum.\n",
      "  warnings.warn(\n",
      "/users/adcy347/.local/lib/python3.9/site-packages/torchvision/transforms/functional.py:442: UserWarning: Argument 'interpolation' of type int is deprecated since 0.13 and will be removed in 0.15. Please use InterpolationMode enum.\n",
      "  warnings.warn(\n",
      "/users/adcy347/.local/lib/python3.9/site-packages/torchvision/transforms/functional.py:442: UserWarning: Argument 'interpolation' of type int is deprecated since 0.13 and will be removed in 0.15. Please use InterpolationMode enum.\n",
      "  warnings.warn(\n",
      "/users/adcy347/.local/lib/python3.9/site-packages/torchvision/transforms/functional.py:442: UserWarning: Argument 'interpolation' of type int is deprecated since 0.13 and will be removed in 0.15. Please use InterpolationMode enum.\n",
      "  warnings.warn(\n"
     ]
    },
    {
     "name": "stdout",
     "output_type": "stream",
     "text": [
      "epoch = 6 | loss = 1.1709208488464355\n"
     ]
    },
    {
     "name": "stderr",
     "output_type": "stream",
     "text": [
      "/users/adcy347/.local/lib/python3.9/site-packages/torchvision/transforms/functional.py:442: UserWarning: Argument 'interpolation' of type int is deprecated since 0.13 and will be removed in 0.15. Please use InterpolationMode enum.\n",
      "  warnings.warn(\n",
      "/users/adcy347/.local/lib/python3.9/site-packages/torchvision/transforms/functional.py:442: UserWarning: Argument 'interpolation' of type int is deprecated since 0.13 and will be removed in 0.15. Please use InterpolationMode enum.\n",
      "  warnings.warn(\n",
      "/users/adcy347/.local/lib/python3.9/site-packages/torchvision/transforms/functional.py:442: UserWarning: Argument 'interpolation' of type int is deprecated since 0.13 and will be removed in 0.15. Please use InterpolationMode enum.\n",
      "  warnings.warn(\n",
      "/users/adcy347/.local/lib/python3.9/site-packages/torchvision/transforms/functional.py:442: UserWarning: Argument 'interpolation' of type int is deprecated since 0.13 and will be removed in 0.15. Please use InterpolationMode enum.\n",
      "  warnings.warn(\n"
     ]
    },
    {
     "name": "stdout",
     "output_type": "stream",
     "text": [
      "epoch = 7 | loss = 1.1548783779144287\n"
     ]
    },
    {
     "name": "stderr",
     "output_type": "stream",
     "text": [
      "/users/adcy347/.local/lib/python3.9/site-packages/torchvision/transforms/functional.py:442: UserWarning: Argument 'interpolation' of type int is deprecated since 0.13 and will be removed in 0.15. Please use InterpolationMode enum.\n",
      "  warnings.warn(\n",
      "/users/adcy347/.local/lib/python3.9/site-packages/torchvision/transforms/functional.py:442: UserWarning: Argument 'interpolation' of type int is deprecated since 0.13 and will be removed in 0.15. Please use InterpolationMode enum.\n",
      "  warnings.warn(\n",
      "/users/adcy347/.local/lib/python3.9/site-packages/torchvision/transforms/functional.py:442: UserWarning: Argument 'interpolation' of type int is deprecated since 0.13 and will be removed in 0.15. Please use InterpolationMode enum.\n",
      "  warnings.warn(\n",
      "/users/adcy347/.local/lib/python3.9/site-packages/torchvision/transforms/functional.py:442: UserWarning: Argument 'interpolation' of type int is deprecated since 0.13 and will be removed in 0.15. Please use InterpolationMode enum.\n",
      "  warnings.warn(\n"
     ]
    },
    {
     "name": "stdout",
     "output_type": "stream",
     "text": [
      "epoch = 8 | loss = 1.1639699935913086\n"
     ]
    },
    {
     "name": "stderr",
     "output_type": "stream",
     "text": [
      "/users/adcy347/.local/lib/python3.9/site-packages/torchvision/transforms/functional.py:442: UserWarning: Argument 'interpolation' of type int is deprecated since 0.13 and will be removed in 0.15. Please use InterpolationMode enum.\n",
      "  warnings.warn(\n",
      "/users/adcy347/.local/lib/python3.9/site-packages/torchvision/transforms/functional.py:442: UserWarning: Argument 'interpolation' of type int is deprecated since 0.13 and will be removed in 0.15. Please use InterpolationMode enum.\n",
      "  warnings.warn(\n",
      "/users/adcy347/.local/lib/python3.9/site-packages/torchvision/transforms/functional.py:442: UserWarning: Argument 'interpolation' of type int is deprecated since 0.13 and will be removed in 0.15. Please use InterpolationMode enum.\n",
      "  warnings.warn(\n",
      "/users/adcy347/.local/lib/python3.9/site-packages/torchvision/transforms/functional.py:442: UserWarning: Argument 'interpolation' of type int is deprecated since 0.13 and will be removed in 0.15. Please use InterpolationMode enum.\n",
      "  warnings.warn(\n"
     ]
    },
    {
     "name": "stdout",
     "output_type": "stream",
     "text": [
      "epoch = 9 | loss = 1.1569418907165527\n"
     ]
    },
    {
     "name": "stderr",
     "output_type": "stream",
     "text": [
      "/users/adcy347/.local/lib/python3.9/site-packages/torchvision/transforms/functional.py:442: UserWarning: Argument 'interpolation' of type int is deprecated since 0.13 and will be removed in 0.15. Please use InterpolationMode enum.\n",
      "  warnings.warn(\n",
      "/users/adcy347/.local/lib/python3.9/site-packages/torchvision/transforms/functional.py:442: UserWarning: Argument 'interpolation' of type int is deprecated since 0.13 and will be removed in 0.15. Please use InterpolationMode enum.\n",
      "  warnings.warn(\n",
      "/users/adcy347/.local/lib/python3.9/site-packages/torchvision/transforms/functional.py:442: UserWarning: Argument 'interpolation' of type int is deprecated since 0.13 and will be removed in 0.15. Please use InterpolationMode enum.\n",
      "  warnings.warn(\n",
      "/users/adcy347/.local/lib/python3.9/site-packages/torchvision/transforms/functional.py:442: UserWarning: Argument 'interpolation' of type int is deprecated since 0.13 and will be removed in 0.15. Please use InterpolationMode enum.\n",
      "  warnings.warn(\n"
     ]
    },
    {
     "name": "stdout",
     "output_type": "stream",
     "text": [
      "epoch = 10 | loss = 1.1505744457244873\n"
     ]
    },
    {
     "name": "stderr",
     "output_type": "stream",
     "text": [
      "/users/adcy347/.local/lib/python3.9/site-packages/torchvision/transforms/functional.py:442: UserWarning: Argument 'interpolation' of type int is deprecated since 0.13 and will be removed in 0.15. Please use InterpolationMode enum.\n",
      "  warnings.warn(\n",
      "/users/adcy347/.local/lib/python3.9/site-packages/torchvision/transforms/functional.py:442: UserWarning: Argument 'interpolation' of type int is deprecated since 0.13 and will be removed in 0.15. Please use InterpolationMode enum.\n",
      "  warnings.warn(\n",
      "/users/adcy347/.local/lib/python3.9/site-packages/torchvision/transforms/functional.py:442: UserWarning: Argument 'interpolation' of type int is deprecated since 0.13 and will be removed in 0.15. Please use InterpolationMode enum.\n",
      "  warnings.warn(\n",
      "/users/adcy347/.local/lib/python3.9/site-packages/torchvision/transforms/functional.py:442: UserWarning: Argument 'interpolation' of type int is deprecated since 0.13 and will be removed in 0.15. Please use InterpolationMode enum.\n",
      "  warnings.warn(\n"
     ]
    },
    {
     "name": "stdout",
     "output_type": "stream",
     "text": [
      "epoch = 11 | loss = 1.155949354171753\n"
     ]
    }
   ],
   "source": [
    "# finally!!! the training loop!!!\n",
    "for epoch in range(epochs):\n",
    "    for idx_batch, (imagergb, labelmask, labelrgb) in enumerate(img_batch):\n",
    "\n",
    "        # zero the grad of the network before feed-forward\n",
    "        gen_optimizer.zero_grad()\n",
    "\n",
    "        # send to the GPU and do a forward pass\n",
    "        x = Variable(imagergb).cuda(0)\n",
    "        y_ = Variable(labelmask).cuda(0)\n",
    "        y = generator.forward(x)\n",
    "\n",
    "        # we \"squeeze\" the groundtruth if we are using cross-entropy loss\n",
    "        # this is because it expects to have a [N, W, H] image where the values\n",
    "        # in the 2D image correspond to the class that that pixel should be 0 < pix[u,v] < classes\n",
    "        \n",
    "        y_ = torch.squeeze(y_)\n",
    "\n",
    "        # finally calculate the loss and back propagate\n",
    "        loss = recon_loss_func(y, y_)\n",
    "        file_loss.write(str(loss.item())+\"\\n\")\n",
    "        loss.backward()\n",
    "        gen_optimizer.step()\n",
    "\n",
    "        # every 400 images, save the current images\n",
    "        # also checkpoint the model to disk\n",
    "        if idx_batch % 400 == 0:\n",
    "\n",
    "            # nice debug print of this epoch and its loss\n",
    "            print(\"epoch = \"+str(epoch)+\" | loss = \"+str(loss.item()))\n",
    "\n",
    "            # save the original image and label batches to file\n",
    "            #print(x.cpu().data)\n",
    "            #print(labelrgb.float())\n",
    "            v_utils.save_image(x.cpu().data, \"./result/original_image_{}_{}.png\".format(epoch, idx_batch))\n",
    "            v_utils.save_image(labelrgb.float(), \"./result/label_image_{}_{}.png\".format(epoch, idx_batch))\n",
    "\n",
    "            # max over the classes should be the prediction\n",
    "            # our prediction is [N, classes, W, H]\n",
    "            # so we max over the second dimension and take the max response\n",
    "            # if we are doing rgb reconstruction, then just directly save it to file\n",
    "            \n",
    "            y_threshed = torch.zeros((y.size()[0], 3, y.size()[2], y.size()[3]))\n",
    "            for idx in range(0, y.size()[0]):\n",
    "                maxindex = torch.argmax(y[idx], dim=0).cpu().int()\n",
    "                y_threshed[idx] = img_data.class_to_rgb(maxindex)\n",
    "            v_utils.save_image(y_threshed, \"./result/gen_image_{}_{}.png\".format(epoch, idx_batch))\n",
    "            \n",
    "\n",
    "            # finally checkpoint this file to disk\n",
    "            torch.save(generator, \"./checkpoints_epochs/train_UNet.pkl\")"
   ]
  },
  {
   "cell_type": "code",
   "execution_count": null,
   "id": "99c67816-4965-4489-9989-c18833b35b88",
   "metadata": {},
   "outputs": [],
   "source": []
  }
 ],
 "metadata": {
  "kernelspec": {
   "display_name": "Python 3 (ipykernel)",
   "language": "python",
   "name": "python3"
  },
  "language_info": {
   "codemirror_mode": {
    "name": "ipython",
    "version": 3
   },
   "file_extension": ".py",
   "mimetype": "text/x-python",
   "name": "python",
   "nbconvert_exporter": "python",
   "pygments_lexer": "ipython3",
   "version": "3.9.5"
  }
 },
 "nbformat": 4,
 "nbformat_minor": 5
}
