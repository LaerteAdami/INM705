{
 "cells": [
  {
   "cell_type": "markdown",
   "id": "a477737d",
   "metadata": {
    "tags": [
     "papermill-error-cell-tag"
    ]
   },
   "source": [
    "<span style=\"color:red; font-family:Helvetica Neue, Helvetica, Arial, sans-serif; font-size:2em;\">An Exception was encountered at '<a href=\"#papermill-error-cell\">In [5]</a>'.</span>"
   ]
  },
  {
   "cell_type": "markdown",
   "id": "53f9aa5f-1e91-43f4-aeb4-b9446ac3159c",
   "metadata": {
    "papermill": {
     "duration": 0.037971,
     "end_time": "2023-02-27T21:08:18.229755",
     "exception": false,
     "start_time": "2023-02-27T21:08:18.191784",
     "status": "completed"
    },
    "tags": []
   },
   "source": [
    "# INM705"
   ]
  },
  {
   "cell_type": "markdown",
   "id": "32c9df99-2fbb-4502-83df-1de05b82facb",
   "metadata": {
    "papermill": {
     "duration": 0.025632,
     "end_time": "2023-02-27T21:08:18.286082",
     "exception": false,
     "start_time": "2023-02-27T21:08:18.260450",
     "status": "completed"
    },
    "tags": []
   },
   "source": [
    "from Utilities.FCN.myFcn import my_fcn_resnet50\n",
    "\n",
    "FCN_weights = FCN_ResNet50_Weights.DEFAULT\n",
    "backbone_weights = ResNet50_Weights.DEFAULT\n",
    "mymodel = my_fcn_resnet50(backbone_weights=backbone_weights).to(device)"
   ]
  },
  {
   "cell_type": "code",
   "execution_count": 1,
   "id": "8e30d5ba-cb54-4659-941e-c4b2b0d785c9",
   "metadata": {
    "execution": {
     "iopub.execute_input": "2023-02-27T21:08:18.341034Z",
     "iopub.status.busy": "2023-02-27T21:08:18.340535Z",
     "iopub.status.idle": "2023-02-27T21:08:21.639654Z",
     "shell.execute_reply": "2023-02-27T21:08:21.638675Z"
    },
    "papermill": {
     "duration": 3.330402,
     "end_time": "2023-02-27T21:08:21.639893",
     "exception": false,
     "start_time": "2023-02-27T21:08:18.309491",
     "status": "completed"
    },
    "tags": []
   },
   "outputs": [],
   "source": [
    "# https://github.com/goldbattle/pytorch_unet/blob/master/datasets.py\n",
    "\n",
    "# Custom functionalities\n",
    "#import visionNew\n",
    "from Utilities.metrics import meanPixelwiseAccuracy, meanIoU\n",
    "from Utilities.datasetHandler import CityscapesDataset\n",
    "from Utilities.modelHandler import modelFCN, modelUNet\n",
    "from Utilities.unet import UNet\n",
    "from Utilities.customLoss import DiceLoss\n",
    "\n",
    "import time\n",
    "import torch\n",
    "import torch.nn.functional as F\n",
    "from torchvision.io.image import read_image\n",
    "from torchvision.transforms.functional import to_pil_image\n",
    "from torch.utils.data import DataLoader\n",
    "from torch import nn\n",
    "from torchvision.models import ResNet50_Weights\n",
    "from torchvision.models.segmentation import fcn_resnet50, FCN_ResNet50_Weights\n",
    "from torch.nn import CrossEntropyLoss\n",
    "from torch.optim import Adam\n",
    "from torchvision.utils import draw_segmentation_masks\n",
    "import matplotlib.pyplot as plt\n",
    "\n",
    "device = torch.device('cpu')\n",
    "if torch.cuda.is_available(): device = torch.device('cuda')\n",
    "\n",
    "torch.cuda.empty_cache()"
   ]
  },
  {
   "cell_type": "markdown",
   "id": "04d2c447-fc4a-42d4-9f7b-56cb365ca21e",
   "metadata": {
    "papermill": {
     "duration": 0.027831,
     "end_time": "2023-02-27T21:08:21.705594",
     "exception": false,
     "start_time": "2023-02-27T21:08:21.677763",
     "status": "completed"
    },
    "tags": []
   },
   "source": [
    "## Data"
   ]
  },
  {
   "cell_type": "code",
   "execution_count": 2,
   "id": "70d04553-c49e-4a4e-948f-c80bb23d759c",
   "metadata": {
    "execution": {
     "iopub.execute_input": "2023-02-27T21:08:21.861386Z",
     "iopub.status.busy": "2023-02-27T21:08:21.860368Z",
     "iopub.status.idle": "2023-02-27T21:08:21.886409Z",
     "shell.execute_reply": "2023-02-27T21:08:21.885680Z"
    },
    "papermill": {
     "duration": 0.156354,
     "end_time": "2023-02-27T21:08:21.886631",
     "exception": false,
     "start_time": "2023-02-27T21:08:21.730277",
     "status": "completed"
    },
    "tags": []
   },
   "outputs": [],
   "source": [
    "### DATASET ###\n",
    "img_directory = '/mnt/data/course/psarin/inm705/leftImg8bit'\n",
    "ground_truth_directory = '/mnt/data/course/psarin/inm705/gtFine_trainvaltest/gtFine'\n",
    "n_classes = 6 # PAY ATTENTION AT SELF.TRAINID INSIDE THE DATASET\n",
    "resize_dimensions = (205,410)\n",
    "\n",
    "# Import datasets\n",
    "dt_train = CityscapesDataset(image_directory = img_directory,\n",
    "                            gt_directory = ground_truth_directory,\n",
    "                            phase = 'train',\n",
    "                            num_classes = n_classes,\n",
    "                            resize_dimensions = resize_dimensions)\n",
    "\n",
    "dt_val = CityscapesDataset(image_directory = img_directory,\n",
    "                            gt_directory = ground_truth_directory,\n",
    "                            phase = 'val',\n",
    "                            num_classes = n_classes,\n",
    "                            resize_dimensions = resize_dimensions)\n",
    "\n",
    "dt_test = CityscapesDataset(image_directory = img_directory,\n",
    "                            gt_directory = ground_truth_directory,\n",
    "                            phase = 'test',\n",
    "                            num_classes = n_classes,\n",
    "                            resize_dimensions = resize_dimensions)\n",
    "\n",
    "# Initialise dataloaders\n",
    "dataloader_args = {'batch_size':64, 'shuffle':False}\n",
    "\n",
    "## TRAIN dataset\n",
    "trainloader = DataLoader(dt_train, **dataloader_args)\n",
    "## VAL dataset\n",
    "valloader = DataLoader(dt_val, **dataloader_args)\n",
    "## TEST dataset\n",
    "testloader = DataLoader(dt_test, batch_size=10)\n",
    "\n",
    "\n",
    "cols = [(  0,  0,  0),(  0,  0,  0), (  0,  0,  0),(  0,  0,  0), (  0,  0,  0), (111, 74,  0),\n",
    "          ( 81,  0, 81), (128, 64,128), (244, 35,232), (250,170,160), (230,150,140), ( 70, 70, 70), \n",
    "          (102,102,156), (190,153,153), (180,165,180), (150,100,100), (150,120, 90), (153,153,153)\n",
    "          , (153,153,153)   , (250,170, 30)  , (220,220,  0)  , (107,142, 35)  , (152,251,152)  , ( 70,130,180) \n",
    "          , (220, 20, 60) , (255,  0,  0)  , (  0,  0,142)  , (  0,  0, 70), (  0, 60,100)  , (  0,  0, 90) \n",
    "          , (  0,  0,110) , (  0, 80,100) , (  0,  0,230), (119, 11, 32), (  0,  0,142) ]\n",
    "    "
   ]
  },
  {
   "cell_type": "code",
   "execution_count": 3,
   "id": "02cccf07-9642-4475-8689-64b1f7fa55d8",
   "metadata": {
    "execution": {
     "iopub.execute_input": "2023-02-27T21:08:21.954036Z",
     "iopub.status.busy": "2023-02-27T21:08:21.953377Z",
     "iopub.status.idle": "2023-02-27T21:08:22.490668Z",
     "shell.execute_reply": "2023-02-27T21:08:22.490947Z"
    },
    "papermill": {
     "duration": 0.57316,
     "end_time": "2023-02-27T21:08:22.491063",
     "exception": false,
     "start_time": "2023-02-27T21:08:21.917903",
     "status": "completed"
    },
    "tags": []
   },
   "outputs": [
    {
     "data": {
      "image/png": "[encoded data removed]",
      "text/plain": [
       "<PIL.Image.Image image mode=RGB size=410x205 at 0x2B350D1204F0>"
      ]
     },
     "execution_count": 3,
     "metadata": {},
     "output_type": "execute_result"
    }
   ],
   "source": [
    "# Check dataset\n",
    "X_viz, X_viz_norm = dt_train.get_image_visualization(5)\n",
    "gt_mask = dt_train.get_ground_truth(5)\n",
    "gt_mask = gt_mask.argmax(dim=0)\n",
    "\n",
    "bool_masks = gt_mask == torch.arange(n_classes)[:, None, None]\n",
    "\n",
    "sm = draw_segmentation_masks(X_viz, masks=bool_masks, alpha=0.6, colors = list(((0,0,0),( 70, 70, 70),(128,64,128),(107,142, 35),(70,130,180),(0,0,142))))\n",
    "to_pil_image(sm)"
   ]
  },
  {
   "cell_type": "markdown",
   "id": "5e509130-1a8e-44a5-be8a-dd1de76cf784",
   "metadata": {
    "papermill": {
     "duration": 0.01719,
     "end_time": "2023-02-27T21:08:22.528585",
     "exception": false,
     "start_time": "2023-02-27T21:08:22.511395",
     "status": "completed"
    },
    "tags": []
   },
   "source": [
    "## Model"
   ]
  },
  {
   "cell_type": "markdown",
   "id": "fe7a773b-294b-4597-a280-96ef5afae49e",
   "metadata": {
    "papermill": {
     "duration": 0.016689,
     "end_time": "2023-02-27T21:08:22.562396",
     "exception": false,
     "start_time": "2023-02-27T21:08:22.545707",
     "status": "completed"
    },
    "tags": []
   },
   "source": [
    "### FCN"
   ]
  },
  {
   "cell_type": "code",
   "execution_count": 4,
   "id": "179d3c1d-448c-418d-8238-c0a6d549bc51",
   "metadata": {
    "execution": {
     "iopub.execute_input": "2023-02-27T21:08:22.600122Z",
     "iopub.status.busy": "2023-02-27T21:08:22.599776Z",
     "iopub.status.idle": "2023-02-27T21:08:25.095699Z",
     "shell.execute_reply": "2023-02-27T21:08:25.094202Z"
    },
    "papermill": {
     "duration": 2.516989,
     "end_time": "2023-02-27T21:08:25.095925",
     "exception": false,
     "start_time": "2023-02-27T21:08:22.578936",
     "status": "completed"
    },
    "tags": []
   },
   "outputs": [],
   "source": [
    "##MODEL Pretrained with RESNET 50\n",
    "#Initialize model with the best available weights\n",
    "FCN_weights = FCN_ResNet50_Weights.DEFAULT\n",
    "backbone_weights = ResNet50_Weights.DEFAULT\n",
    "#model = fcn_resnet50(backbone_weights=backbone_weights).to(device)\n",
    "model = fcn_resnet50().to(device)\n",
    "\n",
    "model.backbone.requires_grad_(True)\n",
    "model.classifier[4] = nn.Conv2d(512, n_classes, kernel_size=(1, 1), stride=(1, 1))\n",
    "model.classifier.requires_grad_(True)\n",
    "\n",
    "cel = CrossEntropyLoss()\n",
    "ad = Adam(model.parameters(), lr=1e-5, weight_decay = 1e-3)\n",
    "\n",
    "fcn1 = modelFCN(model, loss_function=cel, optimizer = ad )\n",
    "fcn1.model.to(device);"
   ]
  },
  {
   "cell_type": "markdown",
   "id": "33b89ed3",
   "metadata": {
    "tags": [
     "papermill-error-cell-tag"
    ]
   },
   "source": [
    "<span id=\"papermill-error-cell\" style=\"color:red; font-family:Helvetica Neue, Helvetica, Arial, sans-serif; font-size:2em;\">Execution using papermill encountered an exception here and stopped:</span>"
   ]
  },
  {
   "cell_type": "code",
   "execution_count": 5,
   "id": "4238ab51-1b10-4328-91d0-22faf15232ed",
   "metadata": {
    "execution": {
     "iopub.execute_input": "2023-02-27T21:08:25.176333Z",
     "iopub.status.busy": "2023-02-27T21:08:25.175722Z",
     "iopub.status.idle": "2023-02-28T10:43:07.513876Z",
     "shell.execute_reply": "2023-02-28T10:43:07.512648Z"
    },
    "papermill": {
     "duration": 48882.376121,
     "end_time": "2023-02-28T10:43:07.514145",
     "exception": true,
     "start_time": "2023-02-27T21:08:25.138024",
     "status": "failed"
    },
    "tags": []
   },
   "outputs": [
    {
     "name": "stdout",
     "output_type": "stream",
     "text": [
      "Completed epoch 1\n"
     ]
    },
    {
     "name": "stdout",
     "output_type": "stream",
     "text": [
      "Completed epoch 2\n"
     ]
    },
    {
     "name": "stdout",
     "output_type": "stream",
     "text": [
      "Completed epoch 3\n"
     ]
    },
    {
     "name": "stdout",
     "output_type": "stream",
     "text": [
      "Completed epoch 4\n"
     ]
    },
    {
     "name": "stdout",
     "output_type": "stream",
     "text": [
      "Completed epoch 5\n"
     ]
    },
    {
     "name": "stdout",
     "output_type": "stream",
     "text": [
      "Completed epoch 6\n"
     ]
    },
    {
     "name": "stdout",
     "output_type": "stream",
     "text": [
      "Completed epoch 7\n"
     ]
    },
    {
     "name": "stdout",
     "output_type": "stream",
     "text": [
      "Completed epoch 8\n"
     ]
    },
    {
     "name": "stdout",
     "output_type": "stream",
     "text": [
      "Completed epoch 9\n"
     ]
    },
    {
     "name": "stdout",
     "output_type": "stream",
     "text": [
      "Completed epoch 10\n"
     ]
    },
    {
     "name": "stdout",
     "output_type": "stream",
     "text": [
      "Completed epoch 11\n"
     ]
    },
    {
     "name": "stdout",
     "output_type": "stream",
     "text": [
      "Completed epoch 12\n"
     ]
    },
    {
     "name": "stdout",
     "output_type": "stream",
     "text": [
      "Completed epoch 13\n"
     ]
    },
    {
     "name": "stdout",
     "output_type": "stream",
     "text": [
      "Completed epoch 14\n"
     ]
    },
    {
     "name": "stdout",
     "output_type": "stream",
     "text": [
      "Completed epoch 15\n"
     ]
    },
    {
     "name": "stdout",
     "output_type": "stream",
     "text": [
      "Completed epoch 16\n"
     ]
    },
    {
     "name": "stdout",
     "output_type": "stream",
     "text": [
      "Completed epoch 17\n"
     ]
    },
    {
     "name": "stdout",
     "output_type": "stream",
     "text": [
      "Completed epoch 18\n"
     ]
    },
    {
     "name": "stdout",
     "output_type": "stream",
     "text": [
      "Completed epoch 19\n"
     ]
    },
    {
     "name": "stdout",
     "output_type": "stream",
     "text": [
      "Completed epoch 20\n"
     ]
    },
    {
     "name": "stdout",
     "output_type": "stream",
     "text": [
      "Completed epoch 21\n"
     ]
    },
    {
     "name": "stdout",
     "output_type": "stream",
     "text": [
      "Completed epoch 22\n"
     ]
    },
    {
     "name": "stdout",
     "output_type": "stream",
     "text": [
      "Completed epoch 23\n"
     ]
    },
    {
     "name": "stdout",
     "output_type": "stream",
     "text": [
      "Completed epoch 24\n"
     ]
    },
    {
     "name": "stdout",
     "output_type": "stream",
     "text": [
      "Completed epoch 25\n"
     ]
    },
    {
     "name": "stdout",
     "output_type": "stream",
     "text": [
      "Completed epoch 26\n"
     ]
    },
    {
     "name": "stdout",
     "output_type": "stream",
     "text": [
      "Completed epoch 27\n"
     ]
    },
    {
     "name": "stdout",
     "output_type": "stream",
     "text": [
      "Completed epoch 28\n"
     ]
    },
    {
     "name": "stdout",
     "output_type": "stream",
     "text": [
      "Completed epoch 29\n"
     ]
    },
    {
     "name": "stdout",
     "output_type": "stream",
     "text": [
      "Completed epoch 30\n"
     ]
    },
    {
     "name": "stdout",
     "output_type": "stream",
     "text": [
      "Completed epoch 31\n"
     ]
    },
    {
     "name": "stdout",
     "output_type": "stream",
     "text": [
      "Completed epoch 32\n"
     ]
    },
    {
     "name": "stdout",
     "output_type": "stream",
     "text": [
      "Completed epoch 33\n"
     ]
    },
    {
     "name": "stdout",
     "output_type": "stream",
     "text": [
      "Completed epoch 34\n"
     ]
    },
    {
     "name": "stdout",
     "output_type": "stream",
     "text": [
      "Completed epoch 35\n"
     ]
    },
    {
     "name": "stdout",
     "output_type": "stream",
     "text": [
      "Completed epoch 36\n"
     ]
    },
    {
     "name": "stdout",
     "output_type": "stream",
     "text": [
      "Completed epoch 37\n"
     ]
    },
    {
     "name": "stdout",
     "output_type": "stream",
     "text": [
      "Completed epoch 38\n"
     ]
    },
    {
     "name": "stdout",
     "output_type": "stream",
     "text": [
      "Completed epoch 39\n"
     ]
    },
    {
     "name": "stdout",
     "output_type": "stream",
     "text": [
      "Completed epoch 40\n"
     ]
    },
    {
     "name": "stdout",
     "output_type": "stream",
     "text": [
      "Completed epoch 41\n"
     ]
    },
    {
     "name": "stdout",
     "output_type": "stream",
     "text": [
      "Completed epoch 42\n"
     ]
    },
    {
     "name": "stdout",
     "output_type": "stream",
     "text": [
      "Completed epoch 43\n"
     ]
    },
    {
     "name": "stdout",
     "output_type": "stream",
     "text": [
      "Completed epoch 44\n"
     ]
    },
    {
     "name": "stdout",
     "output_type": "stream",
     "text": [
      "Completed epoch 45\n"
     ]
    },
    {
     "name": "stdout",
     "output_type": "stream",
     "text": [
      "Completed epoch 46\n"
     ]
    },
    {
     "name": "stdout",
     "output_type": "stream",
     "text": [
      "Completed epoch 47\n"
     ]
    },
    {
     "name": "stdout",
     "output_type": "stream",
     "text": [
      "Completed epoch 48\n"
     ]
    },
    {
     "name": "stdout",
     "output_type": "stream",
     "text": [
      "Completed epoch 49\n"
     ]
    },
    {
     "name": "stdout",
     "output_type": "stream",
     "text": [
      "Completed epoch 50\n"
     ]
    },
    {
     "ename": "AttributeError",
     "evalue": "module 'matplotlib.pyplot' has no attribute 'save_fig'",
     "output_type": "error",
     "traceback": [
      "\u001b[0;31m---------------------------------------------------------------------------\u001b[0m",
      "\u001b[0;31mAttributeError\u001b[0m                            Traceback (most recent call last)",
      "\u001b[0;32m/tmp/ipykernel_113606/2277908221.py\u001b[0m in \u001b[0;36m<module>\u001b[0;34m\u001b[0m\n\u001b[1;32m      5\u001b[0m \u001b[0max\u001b[0m\u001b[0;34m.\u001b[0m\u001b[0mset_xlabel\u001b[0m\u001b[0;34m(\u001b[0m\u001b[0;34m\"Epochs\"\u001b[0m\u001b[0;34m)\u001b[0m\u001b[0;34m\u001b[0m\u001b[0;34m\u001b[0m\u001b[0m\n\u001b[1;32m      6\u001b[0m \u001b[0max\u001b[0m\u001b[0;34m.\u001b[0m\u001b[0mset_ylabel\u001b[0m\u001b[0;34m(\u001b[0m\u001b[0;34m\"Loss\"\u001b[0m\u001b[0;34m)\u001b[0m\u001b[0;34m;\u001b[0m\u001b[0;34m\u001b[0m\u001b[0;34m\u001b[0m\u001b[0m\n\u001b[0;32m----> 7\u001b[0;31m \u001b[0mplt\u001b[0m\u001b[0;34m.\u001b[0m\u001b[0msave_fig\u001b[0m\u001b[0;34m(\u001b[0m\u001b[0;34m\"Loss_50epochs\"\u001b[0m\u001b[0;34m)\u001b[0m\u001b[0;34m\u001b[0m\u001b[0;34m\u001b[0m\u001b[0m\n\u001b[0m",
      "\u001b[0;31mAttributeError\u001b[0m: module 'matplotlib.pyplot' has no attribute 'save_fig'"
     ]
    },
    {
     "data": {
      "image/png": "[encoded data removed]",
      "text/plain": [
       "<Figure size 432x288 with 1 Axes>"
      ]
     },
     "metadata": {
      "needs_background": "light"
     },
     "output_type": "display_data"
    }
   ],
   "source": [
    "L = fcn1.train_model(trainloader, total_epochs=50, save_every_epochs = 10, ckp_name=\"fcn_28_02_6classes\")\n",
    "\n",
    "fig, ax = plt.subplots()\n",
    "ax.plot(L)\n",
    "ax.set_xlabel(\"Epochs\")\n",
    "ax.set_ylabel(\"Loss\");\n",
    "plt.save_fig(\"Loss_50epochs\")"
   ]
  },
  {
   "cell_type": "markdown",
   "id": "34cda646-f264-4831-bc79-a8333cda95cb",
   "metadata": {
    "papermill": {
     "duration": null,
     "end_time": null,
     "exception": null,
     "start_time": null,
     "status": "pending"
    },
    "tags": []
   },
   "source": [
    "### U-Net"
   ]
  },
  {
   "cell_type": "markdown",
   "id": "d604ae68-5794-4df9-b9c6-a9ecbf50f661",
   "metadata": {
    "papermill": {
     "duration": null,
     "end_time": null,
     "exception": null,
     "start_time": null,
     "status": "pending"
    },
    "tags": []
   },
   "source": [
    "##MODEL\n",
    "model = UNet(enc_chs=(3,64,128,256,512,1024), dec_chs=(1024, 512, 256, 128, 64), num_class=n_classes, retain_dim=True, out_sz=resize_dimensions)\n",
    "#model = model.to(device)\n",
    "\n",
    "cel = CrossEntropyLoss()\n",
    "dl = DiceLoss()\n",
    "ad = Adam(model.parameters(), lr=1e-5, weight_decay = 1e-3)\n",
    "\n",
    "unet1 = modelUNet(model, loss_function=cel, optimizer = ad )\n",
    "unet1.model.to(device);"
   ]
  },
  {
   "cell_type": "markdown",
   "id": "3bc6586f-f99c-48af-8174-faf2c59ae1b5",
   "metadata": {
    "papermill": {
     "duration": null,
     "end_time": null,
     "exception": null,
     "start_time": null,
     "status": "pending"
    },
    "tags": []
   },
   "source": [
    "t_start = time.time()\n",
    "\n",
    "L = unet1.train_model(trainloader, total_epochs=10, save_every_epochs = 10, ckp_name=\"unet_10ep_25_02\")\n",
    "\n",
    "print(\"Training time: {} s\".format(time.time()-t_start))\n",
    "\n",
    "fig, ax = plt.subplots()\n",
    "ax.plot(L)\n",
    "ax.set_xlabel(\"Epochs\")\n",
    "ax.set_ylabel(\"Loss\");"
   ]
  },
  {
   "cell_type": "markdown",
   "id": "8843bb0f-ec09-406e-bb72-89afabaf95fb",
   "metadata": {
    "papermill": {
     "duration": null,
     "end_time": null,
     "exception": null,
     "start_time": null,
     "status": "pending"
    },
    "tags": []
   },
   "source": [
    "## Model validation"
   ]
  },
  {
   "cell_type": "code",
   "execution_count": null,
   "id": "94d76afa-5449-4f83-a6e9-6d38822ec415",
   "metadata": {
    "papermill": {
     "duration": null,
     "end_time": null,
     "exception": null,
     "start_time": null,
     "status": "pending"
    },
    "tags": []
   },
   "outputs": [],
   "source": [
    "# Load checkpoint\n",
    "fcn1.model.load_state_dict(torch.load(\"Checkpoints/fcn_27_02_20.pth\"))\n",
    "fcn1.model.eval();"
   ]
  },
  {
   "cell_type": "code",
   "execution_count": null,
   "id": "7fdf5b50-f58d-4153-8090-4d81e6e781a3",
   "metadata": {
    "papermill": {
     "duration": null,
     "end_time": null,
     "exception": null,
     "start_time": null,
     "status": "pending"
    },
    "tags": []
   },
   "outputs": [],
   "source": [
    "# Step 4: Use the model and visualize the prediction\n",
    "fcn1.model.eval()\n",
    "_, X_test, y_test = next(iter(valloader))\n",
    "X_test, y_test = X_test.to(device), y_test.to(device) \n",
    "\n",
    "fcn1.model.to(device)\n",
    "pred = fcn1.model(X_test)['out'] #METTILO PER FCN\n",
    "\n",
    "# Apply softmax and threshold value\n",
    "out = F.softmax(pred,dim=1)# > 0.5\n",
    "#out = out.int()\n",
    "out = torch.argmax(out, dim=1)\n",
    "\n",
    "print(\"Output dimension: {}\".format(out.size()))"
   ]
  },
  {
   "cell_type": "code",
   "execution_count": null,
   "id": "286f492c-0f52-4119-b372-39853fcb03c6",
   "metadata": {
    "papermill": {
     "duration": null,
     "end_time": null,
     "exception": null,
     "start_time": null,
     "status": "pending"
    },
    "tags": []
   },
   "outputs": [],
   "source": [
    "# Computing metrics\n",
    "#print(\"Mean Pixelwise Accuracy: {}\".format(round(meanPixelwiseAccuracy(out,y_test),2)))\n",
    "\n",
    "print(\"Mean IoU: {}\".format(round(meanIoU(out, y_test),3)))"
   ]
  },
  {
   "cell_type": "markdown",
   "id": "db4217b3-3369-4d9a-9a12-69227863b11f",
   "metadata": {
    "papermill": {
     "duration": null,
     "end_time": null,
     "exception": null,
     "start_time": null,
     "status": "pending"
    },
    "tags": []
   },
   "source": [
    "## Visualisation"
   ]
  },
  {
   "cell_type": "code",
   "execution_count": null,
   "id": "95786bcb-52c8-4d1e-98a3-03b69359a38c",
   "metadata": {
    "papermill": {
     "duration": null,
     "end_time": null,
     "exception": null,
     "start_time": null,
     "status": "pending"
    },
    "tags": []
   },
   "outputs": [],
   "source": [
    "n_test = 8\n",
    "\n",
    "X_viz, X_viz_norm = dt_val.get_image_visualization(n_test)\n",
    "gt_viz = dt_val.get_ground_truth(n_test)\n",
    "gt_viz = gt_viz.argmax(dim=0)\n",
    "\n",
    "# Process the input with the model\n",
    "pred_viz = fcn1.model(X_viz_norm.unsqueeze(0).to(device))['out'] #METTILO PER FCN\n",
    "\n",
    "#out_viz = torch.sigmoid(pred_viz) > 0.5\n",
    "#out_viz = out_viz.int()[0] # unpack the batch with [0]\n",
    "\n",
    "out_viz = F.softmax(pred_viz,dim=1)# > 0.5\n",
    "out_viz = torch.argmax(out_viz, dim=1)\n",
    "\n",
    "# Create the mask with argmax\n",
    "mask = out_viz#.argmax(dim=0)"
   ]
  },
  {
   "cell_type": "code",
   "execution_count": null,
   "id": "74f51bad-2a5f-4df2-9a65-1aefe64e20d5",
   "metadata": {
    "papermill": {
     "duration": null,
     "end_time": null,
     "exception": null,
     "start_time": null,
     "status": "pending"
    },
    "tags": []
   },
   "outputs": [],
   "source": [
    "# Single class visualisation\n",
    "class_id = 3\n",
    "single_class_mask = (mask == class_id)\n",
    "\n",
    "sm = draw_segmentation_masks(X_viz, masks=single_class_mask, alpha=0.7, colors = ( 81,  0, 81))\n",
    "to_pil_image(sm)"
   ]
  },
  {
   "cell_type": "code",
   "execution_count": null,
   "id": "563ed2a2-f378-45d3-82d4-826ca3e481f3",
   "metadata": {
    "papermill": {
     "duration": null,
     "end_time": null,
     "exception": null,
     "start_time": null,
     "status": "pending"
    },
    "tags": []
   },
   "outputs": [],
   "source": [
    "from torchvision.utils import make_grid\n",
    "\n",
    "# Multiple class visualisation\n",
    "bool_masks = mask.cpu() == torch.arange(n_classes)[:, None, None]\n",
    "gt_bool_masks = gt_viz.cpu() == torch.arange(n_classes)[:, None, None]\n",
    "\n",
    "sm = draw_segmentation_masks(X_viz, masks=bool_masks, alpha=0.5,  colors = list(((0,0,0),(128,64,128),(70,130,180),(0,0,142))))\n",
    "gt_sm = draw_segmentation_masks(X_viz, masks=gt_bool_masks, alpha=0.5, colors = list(((0,0,0),(128,64,128),(70,130,180),(0,0,142))))\n",
    "\n",
    "#to_pil_image(sm)\n",
    "\n",
    "dog_list = [sm, gt_sm]\n",
    "\n",
    "grid = make_grid(dog_list)\n",
    "to_pil_image(grid)"
   ]
  },
  {
   "cell_type": "code",
   "execution_count": null,
   "id": "ec46b6f9-deed-4f5c-8fae-16b576545972",
   "metadata": {
    "papermill": {
     "duration": null,
     "end_time": null,
     "exception": null,
     "start_time": null,
     "status": "pending"
    },
    "tags": []
   },
   "outputs": [],
   "source": [
    "sm_img = to_pil_image(sm)"
   ]
  },
  {
   "cell_type": "markdown",
   "id": "546b479e-af36-484d-994a-eabc2ae72796",
   "metadata": {
    "papermill": {
     "duration": null,
     "end_time": null,
     "exception": null,
     "start_time": null,
     "status": "pending"
    },
    "tags": []
   },
   "source": [
    "## Check the model"
   ]
  },
  {
   "cell_type": "markdown",
   "id": "75ad6842-44d9-403e-a51c-48d5a402c3e9",
   "metadata": {
    "papermill": {
     "duration": null,
     "end_time": null,
     "exception": null,
     "start_time": null,
     "status": "pending"
    },
    "tags": []
   },
   "source": [
    "from Utilities.torchsummaryNew import summary\n",
    "\n",
    "device = torch.device('cuda')\n",
    "\n",
    "x = torch.randn(1, 3, 224, 224).to(device)\n",
    "fcn1.model.to(device);\n",
    "\n",
    "summary(fcn1.model, (3, 128, 256))\n",
    "#summary(mymodel, (3, 128, 256))"
   ]
  },
  {
   "cell_type": "code",
   "execution_count": null,
   "id": "b25813e1-c628-440e-ab7e-90dac1a2f130",
   "metadata": {
    "papermill": {
     "duration": null,
     "end_time": null,
     "exception": null,
     "start_time": null,
     "status": "pending"
    },
    "tags": []
   },
   "outputs": [],
   "source": [
    "#from visionNew.torchvision.models.segmentation import fcn_resnet50\n",
    "\n",
    "#from torchvision.models.segmentation import fcn_resnet50, FCN_ResNet50_Weights"
   ]
  },
  {
   "cell_type": "markdown",
   "id": "41c2eb9f-092e-4fe6-9698-8b53ac1336a1",
   "metadata": {
    "papermill": {
     "duration": null,
     "end_time": null,
     "exception": null,
     "start_time": null,
     "status": "pending"
    },
    "tags": []
   },
   "source": [
    "## Labels"
   ]
  },
  {
   "cell_type": "code",
   "execution_count": null,
   "id": "b39104cf-76b3-4021-9f08-6ce82b35b8a7",
   "metadata": {
    "papermill": {
     "duration": null,
     "end_time": null,
     "exception": null,
     "start_time": null,
     "status": "pending"
    },
    "tags": []
   },
   "outputs": [],
   "source": [
    "from Utilities.cityscapesLables import CityscapesLabels\n",
    "\n",
    "labels = CityscapesLabels.get_labels()\n",
    "\n",
    "labels"
   ]
  },
  {
   "cell_type": "code",
   "execution_count": null,
   "id": "1d99adae-3c7f-4d2a-bae4-2baef36aa394",
   "metadata": {
    "papermill": {
     "duration": null,
     "end_time": null,
     "exception": null,
     "start_time": null,
     "status": "pending"
    },
    "tags": []
   },
   "outputs": [],
   "source": [
    "from collections import namedtuple\n",
    "\n",
    "Label = namedtuple( 'Label' , [\n",
    "            'name'        , \n",
    "            'id'          , # An integer ID that is associated with this label. The IDs are used to represent the label in ground truth images\n",
    "            'trainId'     , \n",
    "            'ignoreInEval', # Whether pixels having this class as ground truth label are ignored during evaluations or not\n",
    "            'color'       , # The color of this label\n",
    "            ] )\n",
    "\n",
    "#--------------------------------------------------------------------------------\n",
    "# A list of all labels\n",
    "#--------------------------------------------------------------------------------\n",
    "\n",
    "# Please adapt the train IDs as appropriate for your approach.\n",
    "# Note that you might want to ignore labels with ID 255 during training.\n",
    "# Further note that the current train IDs are only a suggestion. You can use whatever you like.\n",
    "# Make sure to provide your results using the original IDs and not the training IDs.\n",
    "# Note that many IDs are ignored in evaluation and thus you never need to predict these!\n",
    "\n",
    "labels = [\n",
    "            #       name                     id    trainId   ignoreInEval   color\n",
    "            Label(  'unlabeled'            ,  0 ,      255 ,  True         , (  0,  0,  0) ),\n",
    "            Label(  'ego vehicle'          ,  1 ,      255 ,  True         , (  0,  0,  0) ),\n",
    "            Label(  'rectification border' ,  2 ,      255 ,  True         , (  0,  0,  0) ),\n",
    "            Label(  'out of roi'           ,  3 ,      255 ,  True         , (  0,  0,  0) ),\n",
    "            Label(  'static'               ,  4 ,      255 ,  True         , (  0,  0,  0) ),\n",
    "            Label(  'dynamic'              ,  5 ,      255 ,  True         , (111, 74,  0) ),\n",
    "            Label(  'ground'               ,  6 ,      255 ,  True         , ( 81,  0, 81) ),\n",
    "            Label(  'road'                 ,  7 ,        0 ,  False        , (128, 64,128) ),\n",
    "            Label(  'sidewalk'             ,  8 ,        1 ,  False        , (244, 35,232) ),\n",
    "            Label(  'parking'              ,  9 ,      255 ,  True         , (250,170,160) ),\n",
    "            Label(  'rail track'           , 10 ,      255 ,  True         , (230,150,140) ),\n",
    "            Label(  'building'             , 11 ,        2 ,  False        , ( 70, 70, 70) ),\n",
    "            Label(  'wall'                 , 12 ,        3 ,  False        , (102,102,156) ),\n",
    "            Label(  'fence'                , 13 ,        4 ,  False        , (190,153,153) ),\n",
    "            Label(  'guard rail'           , 14 ,      255 ,  True         , (180,165,180) ),\n",
    "            Label(  'bridge'               , 15 ,      255 ,  True         , (150,100,100) ),\n",
    "            Label(  'tunnel'               , 16 ,      255 ,  True         , (150,120, 90) ),\n",
    "            Label(  'pole'                 , 17 ,        5 ,  False        , (153,153,153) ),\n",
    "            Label(  'polegroup'            , 18 ,      255 ,  True         , (153,153,153) ),\n",
    "            Label(  'traffic light'        , 19 ,        6 ,  False        , (250,170, 30) ),\n",
    "            Label(  'traffic sign'         , 20 ,        7 ,  False        , (220,220,  0) ),\n",
    "            Label(  'vegetation'           , 21 ,        8 ,  False        , (107,142, 35) ),\n",
    "            Label(  'terrain'              , 22 ,        9 ,  False        , (152,251,152) ),\n",
    "            Label(  'sky'                  , 23 ,       10 ,  False        , ( 70,130,180) ),\n",
    "            Label(  'person'               , 24 ,       11 ,  False        , (220, 20, 60) ),\n",
    "            Label(  'rider'                , 25 ,       12 ,  False        , (255,  0,  0) ),\n",
    "            Label(  'car'                  , 26 ,       13 ,  False        , (  0,  0,142) ),\n",
    "            Label(  'truck'                , 27 ,       14 ,  False        , (  0,  0, 70) ),\n",
    "            Label(  'bus'                  , 28 ,       15 ,  False        , (  0, 60,100) ),\n",
    "            Label(  'caravan'              , 29 ,      255 ,  True         , (  0,  0, 90) ),\n",
    "            Label(  'trailer'              , 30 ,      255 ,  True         , (  0,  0,110) ),\n",
    "            Label(  'train'                , 31 ,       16 ,  False        , (  0, 80,100) ),\n",
    "            Label(  'motorcycle'           , 32 ,       17 ,  False        , (  0,  0,230) ),\n",
    "            Label(  'bicycle'              , 33 ,       18 ,  False        , (119, 11, 32) ),\n",
    "            Label(  'license plate'        , -1 ,       -1 ,  True         , (  0,  0,142) ),\n",
    "        ]\n",
    "\n",
    "#--------------------------------------------------------------------------------\n",
    "# Create dictionaries for a fast lookup\n",
    "#--------------------------------------------------------------------------------\n",
    "\n",
    "# name to label object\n",
    "name2label      = { label.name    : label for label in labels           }\n",
    "# id to label object\n",
    "id2label        = { label.id      : label for label in labels           }\n",
    "# trainId to label object\n",
    "trainId2label   = { label.trainId : label for label in reversed(labels) }\n"
   ]
  },
  {
   "cell_type": "code",
   "execution_count": null,
   "id": "095014a7-7b54-4cd6-ac5a-5f8381cb2048",
   "metadata": {
    "papermill": {
     "duration": null,
     "end_time": null,
     "exception": null,
     "start_time": null,
     "status": "pending"
    },
    "tags": []
   },
   "outputs": [],
   "source": []
  },
  {
   "cell_type": "code",
   "execution_count": null,
   "id": "eb42b3de-1a85-40d1-be88-3e5cb6945052",
   "metadata": {
    "papermill": {
     "duration": null,
     "end_time": null,
     "exception": null,
     "start_time": null,
     "status": "pending"
    },
    "tags": []
   },
   "outputs": [],
   "source": [
    "trainId = {\n",
    "    0: 0,  # unlabeled\n",
    "    1: 0,  # ego vehicle\n",
    "    2: 0,  # rect border\n",
    "    3: 0,  # out of roi\n",
    "    4: 0,  # static\n",
    "    5: 0,  # dynamic\n",
    "    6: 0,  # ground\n",
    "    7: 1,  # road\n",
    "    8: 0,  # sidewalk\n",
    "    9: 0,  # parking\n",
    "    10: 0,  # rail track\n",
    "    11: 0,  # building\n",
    "    12: 0,  # wall\n",
    "    13: 0,  # fence\n",
    "    14: 0,  # guard rail\n",
    "    15: 0,  # bridge\n",
    "    16: 0,  # tunnel\n",
    "    17: 0,  # pole\n",
    "    18: 0,  # polegroup\n",
    "    19: 0,  # traffic light\n",
    "    20: 0,  # traffic sign\n",
    "    21: 0,  # vegetation\n",
    "    22: 0,  # terrain\n",
    "    23: 2,  # sky\n",
    "    24: 0,  # person\n",
    "    25: 0,  # rider\n",
    "    26: 3,  # car\n",
    "    27: 0,  # truck\n",
    "    28: 0,  # bus\n",
    "    29: 0,  # caravan\n",
    "    30: 0,  # trailer\n",
    "    31: 0,  # train\n",
    "    32: 0,  # motorcycle\n",
    "    33: 0,  # bicycle\n",
    "    -1: 0  # licenseplate\n",
    "}"
   ]
  },
  {
   "cell_type": "code",
   "execution_count": null,
   "id": "f562d9ae-a36d-4475-9dfa-b2bff0348d27",
   "metadata": {
    "papermill": {
     "duration": null,
     "end_time": null,
     "exception": null,
     "start_time": null,
     "status": "pending"
    },
    "tags": []
   },
   "outputs": [],
   "source": [
    "mapping.get(33)"
   ]
  },
  {
   "cell_type": "code",
   "execution_count": null,
   "id": "fb120cc1-a174-4b3d-9c28-e8642c214b30",
   "metadata": {
    "papermill": {
     "duration": null,
     "end_time": null,
     "exception": null,
     "start_time": null,
     "status": "pending"
    },
    "tags": []
   },
   "outputs": [],
   "source": [
    "torch.tensor([1,2]) + torch.tensor([0,1])"
   ]
  },
  {
   "cell_type": "code",
   "execution_count": null,
   "id": "cf159667-bf49-4050-95b0-56740fcc8448",
   "metadata": {
    "papermill": {
     "duration": null,
     "end_time": null,
     "exception": null,
     "start_time": null,
     "status": "pending"
    },
    "tags": []
   },
   "outputs": [],
   "source": []
  },
  {
   "cell_type": "code",
   "execution_count": null,
   "id": "7cc44e0d-c00f-42bf-b70b-412e96e5203b",
   "metadata": {
    "papermill": {
     "duration": null,
     "end_time": null,
     "exception": null,
     "start_time": null,
     "status": "pending"
    },
    "tags": []
   },
   "outputs": [],
   "source": [
    "trainId = {\n",
    "    0: 0,  # unlabeled\n",
    "    1: 0,  # ego vehicle\n",
    "    2: 0,  # rect border\n",
    "    3: 1,  # out of roi\n",
    "    4: 1,  # static\n",
    "}"
   ]
  },
  {
   "cell_type": "code",
   "execution_count": null,
   "id": "8d31a59a-69f0-4ab7-ab1f-10e36045a11d",
   "metadata": {
    "papermill": {
     "duration": null,
     "end_time": null,
     "exception": null,
     "start_time": null,
     "status": "pending"
    },
    "tags": []
   },
   "outputs": [],
   "source": [
    "img = torch.tensor([[0,1,2,4,0,1],[3,4,0,1,2,4]])"
   ]
  },
  {
   "cell_type": "code",
   "execution_count": null,
   "id": "83ac1dde-7753-403d-92db-cb9ec6ca14a4",
   "metadata": {
    "papermill": {
     "duration": null,
     "end_time": null,
     "exception": null,
     "start_time": null,
     "status": "pending"
    },
    "tags": []
   },
   "outputs": [],
   "source": [
    "mask = torch.zeros_like(img).repeat(2, 1, 1)"
   ]
  },
  {
   "cell_type": "code",
   "execution_count": null,
   "id": "a481b324-a295-473a-9489-e621b3bcd20a",
   "metadata": {
    "papermill": {
     "duration": null,
     "end_time": null,
     "exception": null,
     "start_time": null,
     "status": "pending"
    },
    "tags": []
   },
   "outputs": [],
   "source": [
    "img = img.resize(-1)"
   ]
  },
  {
   "cell_type": "code",
   "execution_count": null,
   "id": "6a2364e3-b96b-480d-a1f1-00c8f88bc6b3",
   "metadata": {
    "papermill": {
     "duration": null,
     "end_time": null,
     "exception": null,
     "start_time": null,
     "status": "pending"
    },
    "tags": []
   },
   "outputs": [],
   "source": [
    "for k in trainId:\n",
    "    trainClass = trainId.get(k)\n",
    "    mask[trainClass,:] += ((img == k)*1)"
   ]
  },
  {
   "cell_type": "code",
   "execution_count": null,
   "id": "4a5c6fd0-bf6d-47d1-a4f9-4725acf260e5",
   "metadata": {
    "papermill": {
     "duration": null,
     "end_time": null,
     "exception": null,
     "start_time": null,
     "status": "pending"
    },
    "tags": []
   },
   "outputs": [],
   "source": [
    "mask"
   ]
  },
  {
   "cell_type": "code",
   "execution_count": null,
   "id": "127c635b-ef9d-4dfd-bb7f-f4383ccd93ba",
   "metadata": {
    "papermill": {
     "duration": null,
     "end_time": null,
     "exception": null,
     "start_time": null,
     "status": "pending"
    },
    "tags": []
   },
   "outputs": [],
   "source": [
    "mask[0]+mask[1]"
   ]
  },
  {
   "cell_type": "code",
   "execution_count": null,
   "id": "3352396a-b99d-47e6-9a5d-f7a7e7b688c5",
   "metadata": {
    "papermill": {
     "duration": null,
     "end_time": null,
     "exception": null,
     "start_time": null,
     "status": "pending"
    },
    "tags": []
   },
   "outputs": [],
   "source": []
  }
 ],
 "metadata": {
  "kernelspec": {
   "display_name": "Python 3 (ipykernel)",
   "language": "python",
   "name": "python3"
  },
  "language_info": {
   "codemirror_mode": {
    "name": "ipython",
    "version": 3
   },
   "file_extension": ".py",
   "mimetype": "text/x-python",
   "name": "python",
   "nbconvert_exporter": "python",
   "pygments_lexer": "ipython3",
   "version": "3.9.5"
  },
  "papermill": {
   "default_parameters": {},
   "duration": 48894.341043,
   "end_time": "2023-02-28T10:43:10.904262",
   "environment_variables": {},
   "exception": true,
   "input_path": "first_trial.ipynb",
   "output_path": "28_02_fcn_6classes.ipynb",
   "parameters": {},
   "start_time": "2023-02-27T21:08:16.563219",
   "version": "2.4.0"
  },
  "toc-autonumbering": true
 },
 "nbformat": 4,
 "nbformat_minor": 5
}