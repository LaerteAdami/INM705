{
 "cells": [
  {
   "cell_type": "markdown",
   "id": "53f9aa5f-1e91-43f4-aeb4-b9446ac3159c",
   "metadata": {
    "papermill": {
     "duration": 0.033726,
     "end_time": "2023-03-03T10:00:56.489101",
     "exception": false,
     "start_time": "2023-03-03T10:00:56.455375",
     "status": "completed"
    },
    "tags": []
   },
   "source": [
    "# INM705 - Deep Learning for Image Analysis\n",
    "\n",
    "Authors: Laerte Adami - Alperen Erol"
   ]
  },
  {
   "cell_type": "code",
   "execution_count": 1,
   "id": "3cb185d6-cc12-44d7-8b2b-e891fa83e141",
   "metadata": {
    "execution": {
     "iopub.execute_input": "2023-03-03T10:00:56.545372Z",
     "iopub.status.busy": "2023-03-03T10:00:56.544733Z",
     "iopub.status.idle": "2023-03-03T10:00:56.546826Z",
     "shell.execute_reply": "2023-03-03T10:00:56.547405Z"
    },
    "papermill": {
     "duration": 0.031349,
     "end_time": "2023-03-03T10:00:56.547648",
     "exception": false,
     "start_time": "2023-03-03T10:00:56.516299",
     "status": "completed"
    },
    "tags": []
   },
   "outputs": [],
   "source": [
    "#from torchvision.models import vgg16\n",
    "# https://github.com/pochih/FCN-pytorch/blob/master/python/fcn.py"
   ]
  },
  {
   "cell_type": "code",
   "execution_count": 2,
   "id": "733e5071-6d0a-43e5-beb5-17e484d3ab95",
   "metadata": {
    "execution": {
     "iopub.execute_input": "2023-03-03T10:00:56.594329Z",
     "iopub.status.busy": "2023-03-03T10:00:56.593311Z",
     "iopub.status.idle": "2023-03-03T10:00:56.595400Z",
     "shell.execute_reply": "2023-03-03T10:00:56.596211Z"
    },
    "papermill": {
     "duration": 0.027586,
     "end_time": "2023-03-03T10:00:56.596459",
     "exception": false,
     "start_time": "2023-03-03T10:00:56.568873",
     "status": "completed"
    },
    "tags": []
   },
   "outputs": [],
   "source": [
    "#from Utilities.UNET.unetModel import UnetGenerator as Unet"
   ]
  },
  {
   "cell_type": "code",
   "execution_count": 3,
   "id": "bf31f482-d70a-424f-9622-c899fe79abe2",
   "metadata": {
    "execution": {
     "iopub.execute_input": "2023-03-03T10:00:56.667271Z",
     "iopub.status.busy": "2023-03-03T10:00:56.666619Z",
     "iopub.status.idle": "2023-03-03T10:00:58.380855Z",
     "shell.execute_reply": "2023-03-03T10:00:58.379455Z"
    },
    "papermill": {
     "duration": 1.753243,
     "end_time": "2023-03-03T10:00:58.381085",
     "exception": false,
     "start_time": "2023-03-03T10:00:56.627842",
     "status": "completed"
    },
    "tags": []
   },
   "outputs": [],
   "source": [
    "from Utilities.FCN.myFcn import my_fcn_resnet50\n",
    "\n",
    "#FCN_weights = FCN_ResNet50_Weights.DEFAULT\n",
    "#backbone_weights = ResNet50_Weights.DEFAULT\n",
    "#mymodel = my_fcn_resnet50(backbone_weights=backbone_weights).to(device)"
   ]
  },
  {
   "cell_type": "code",
   "execution_count": 4,
   "id": "8e30d5ba-cb54-4659-941e-c4b2b0d785c9",
   "metadata": {
    "execution": {
     "iopub.execute_input": "2023-03-03T10:00:58.448959Z",
     "iopub.status.busy": "2023-03-03T10:00:58.448231Z",
     "iopub.status.idle": "2023-03-03T10:01:00.319960Z",
     "shell.execute_reply": "2023-03-03T10:01:00.319206Z"
    },
    "papermill": {
     "duration": 1.907523,
     "end_time": "2023-03-03T10:01:00.320159",
     "exception": false,
     "start_time": "2023-03-03T10:00:58.412636",
     "status": "completed"
    },
    "tags": []
   },
   "outputs": [],
   "source": [
    "# https://github.com/goldbattle/pytorch_unet/blob/master/datasets.py\n",
    "\n",
    "# Custom functionalities\n",
    "from Utilities.classHandler import CityscapesClass\n",
    "from Utilities.datasetHandler import CityscapesDataset, visualise_and_save\n",
    "from Utilities.modelHandler import modelFCN, modelUNet\n",
    "from Utilities.metrics import meanPixelwiseAccuracy, meanIoU\n",
    "#from Utilities.unet import UNet\n",
    "from Utilities.customLoss import DiceLoss\n",
    "\n",
    "import os\n",
    "import time\n",
    "import torch\n",
    "import torch.nn.functional as F\n",
    "from torchvision.io.image import read_image\n",
    "from torchvision.transforms.functional import to_pil_image\n",
    "from torch.utils.data import DataLoader\n",
    "from torch import nn\n",
    "from torchvision.models import ResNet50_Weights\n",
    "from torchvision.models.segmentation import fcn_resnet50, FCN_ResNet50_Weights\n",
    "from torch.nn import CrossEntropyLoss\n",
    "from torch.optim import Adam\n",
    "from torchvision.utils import draw_segmentation_masks\n",
    "import matplotlib.pyplot as plt\n",
    "\n",
    "device = torch.device('cpu')\n",
    "if torch.cuda.is_available(): device = torch.device('cuda')\n",
    "\n",
    "torch.cuda.empty_cache()\n",
    "\n",
    "#plt.rcParams['text.usetex'] = True\n",
    "plt.rcParams['font.size'] = 17"
   ]
  },
  {
   "cell_type": "markdown",
   "id": "04d2c447-fc4a-42d4-9f7b-56cb365ca21e",
   "metadata": {
    "papermill": {
     "duration": 0.02495,
     "end_time": "2023-03-03T10:01:00.374411",
     "exception": false,
     "start_time": "2023-03-03T10:01:00.349461",
     "status": "completed"
    },
    "tags": []
   },
   "source": [
    "## Data"
   ]
  },
  {
   "cell_type": "code",
   "execution_count": 5,
   "id": "f2002b42-ba95-40eb-b42d-5a287daccfc7",
   "metadata": {
    "execution": {
     "iopub.execute_input": "2023-03-03T10:01:00.507965Z",
     "iopub.status.busy": "2023-03-03T10:01:00.507509Z",
     "iopub.status.idle": "2023-03-03T10:01:00.529408Z",
     "shell.execute_reply": "2023-03-03T10:01:00.529912Z"
    },
    "papermill": {
     "duration": 0.13364,
     "end_time": "2023-03-03T10:01:00.530038",
     "exception": false,
     "start_time": "2023-03-03T10:01:00.396398",
     "status": "completed"
    },
    "tags": []
   },
   "outputs": [
    {
     "name": "stdout",
     "output_type": "stream",
     "text": [
      "Training set dimension: 2975\n"
     ]
    }
   ],
   "source": [
    "### DATASET ###\n",
    "classes = CityscapesClass(\"6 classes\") # Pick a case: \"4 classes\", \"6 classes\", \"10 classes\"\n",
    "\n",
    "img_directory = '/mnt/data/course/psarin/inm705/leftImg8bit'\n",
    "ground_truth_directory = '/mnt/data/course/psarin/inm705/gtFine_trainvaltest/gtFine'\n",
    "n_classes = len(classes.labels) \n",
    "resize_dimensions = (128, 256)#(205,410)\n",
    "\n",
    "dataset_args = {'image_directory' : img_directory,\n",
    "                'gt_directory' : ground_truth_directory,\n",
    "                'trainId' : classes.trainId,\n",
    "                'colors' : classes.colors,\n",
    "                'num_classes' : n_classes,\n",
    "                'resize_dimensions' : resize_dimensions}\n",
    "\n",
    "# Import datasets\n",
    "dt_train = CityscapesDataset(phase = 'train', **dataset_args)\n",
    "\n",
    "dt_val = CityscapesDataset(phase = 'val', **dataset_args)\n",
    "\n",
    "dt_test = CityscapesDataset(phase = 'test', **dataset_args)\n",
    "\n",
    "# Initialise dataloaders\n",
    "dataloader_args = {'batch_size':32, 'shuffle':True}\n",
    "\n",
    "## TRAIN dataset\n",
    "trainloader = DataLoader(dt_train, **dataloader_args)\n",
    "## VAL dataset\n",
    "valloader = DataLoader(dt_val, batch_size = 32)  \n",
    "## TEST dataset\n",
    "testloader = DataLoader(dt_test, batch_size=10)  \n",
    "\n",
    "print(\"Training set dimension: {}\".format(dt_train.__len__()))"
   ]
  },
  {
   "cell_type": "markdown",
   "id": "911e65d5-c6e0-4d9b-9fae-c8721d5fbf29",
   "metadata": {
    "papermill": {
     "duration": 0.013679,
     "end_time": "2023-03-03T10:01:00.558077",
     "exception": false,
     "start_time": "2023-03-03T10:01:00.544398",
     "status": "completed"
    },
    "tags": []
   },
   "source": [
    "- Aggiungi un layer\n",
    "- Togli un layer\n",
    "- Prova diversi features extractor\n",
    "- prova diversi loss\n",
    "- Valuta la accuracy per class"
   ]
  },
  {
   "cell_type": "code",
   "execution_count": 6,
   "id": "02cccf07-9642-4475-8689-64b1f7fa55d8",
   "metadata": {
    "execution": {
     "iopub.execute_input": "2023-03-03T10:01:00.588932Z",
     "iopub.status.busy": "2023-03-03T10:01:00.588589Z",
     "iopub.status.idle": "2023-03-03T10:01:01.031459Z",
     "shell.execute_reply": "2023-03-03T10:01:01.031888Z"
    },
    "papermill": {
     "duration": 0.46046,
     "end_time": "2023-03-03T10:01:01.032005",
     "exception": false,
     "start_time": "2023-03-03T10:01:00.571545",
     "status": "completed"
    },
    "tags": []
   },
   "outputs": [
    {
     "data": {
      "image/png": "[encoded data removed]",
      "text/plain": [
       "<PIL.Image.Image image mode=RGB size=256x128 at 0x2B80D0F82820>"
      ]
     },
     "execution_count": 6,
     "metadata": {},
     "output_type": "execute_result"
    }
   ],
   "source": [
    "# Check dataset\n",
    "X_viz, X_viz_norm = dt_train.get_image_visualization(10)\n",
    "gt_mask = dt_train.get_ground_truth(10)\n",
    "gt_mask = gt_mask.argmax(dim=0)\n",
    "\n",
    "bool_masks = gt_mask == torch.arange(n_classes)[:, None, None]\n",
    "\n",
    "sm = draw_segmentation_masks(X_viz, masks=bool_masks, alpha=0.6, colors = dt_train.colors)\n",
    "to_pil_image(sm)"
   ]
  },
  {
   "cell_type": "markdown",
   "id": "5e509130-1a8e-44a5-be8a-dd1de76cf784",
   "metadata": {
    "papermill": {
     "duration": 0.014261,
     "end_time": "2023-03-03T10:01:01.065125",
     "exception": false,
     "start_time": "2023-03-03T10:01:01.050864",
     "status": "completed"
    },
    "tags": []
   },
   "source": [
    "## Model"
   ]
  },
  {
   "cell_type": "code",
   "execution_count": 7,
   "id": "66b7f582-8e2b-4896-8c6a-18554feb01e5",
   "metadata": {
    "execution": {
     "iopub.execute_input": "2023-03-03T10:01:01.097451Z",
     "iopub.status.busy": "2023-03-03T10:01:01.097095Z",
     "iopub.status.idle": "2023-03-03T10:01:01.101488Z",
     "shell.execute_reply": "2023-03-03T10:01:01.101165Z"
    },
    "papermill": {
     "duration": 0.021989,
     "end_time": "2023-03-03T10:01:01.101567",
     "exception": false,
     "start_time": "2023-03-03T10:01:01.079578",
     "status": "completed"
    },
    "tags": []
   },
   "outputs": [],
   "source": [
    "## INITIALISE EXPERIMENT ##\n",
    "exp_name = \"fcn_res_part_6clas\"\n",
    "\n",
    "## Models paramaters\n",
    "total_epochs      = 30\n",
    "save_every_epochs = 6 \n",
    "learning_rate     = 1e-3\n",
    "w_decay           = 1e-3\n",
    "\n",
    "## Create results directory\n",
    "results_path = os.path.join(\"Results/\", exp_name)\n",
    "checkpoint_path = os.path.join(\"Checkpoints/\", exp_name)\n",
    "\n",
    "if not os.path.isdir(results_path):\n",
    "    os.mkdir(results_path)\n",
    "    os.mkdir(checkpoint_path)\n",
    "else:\n",
    "    os.mkdir(results_path+\"_v2\")\n",
    "    os.mkdir(checkpoint_path+\"_v2\")"
   ]
  },
  {
   "cell_type": "markdown",
   "id": "fe7a773b-294b-4597-a280-96ef5afae49e",
   "metadata": {
    "papermill": {
     "duration": 0.017271,
     "end_time": "2023-03-03T10:01:01.137659",
     "exception": false,
     "start_time": "2023-03-03T10:01:01.120388",
     "status": "completed"
    },
    "tags": []
   },
   "source": [
    "### FCN"
   ]
  },
  {
   "cell_type": "code",
   "execution_count": 8,
   "id": "7c5ea92f-d77e-42ab-b130-2acc6d369eb3",
   "metadata": {
    "execution": {
     "iopub.execute_input": "2023-03-03T10:01:01.172250Z",
     "iopub.status.busy": "2023-03-03T10:01:01.171886Z",
     "iopub.status.idle": "2023-03-03T10:01:05.210037Z",
     "shell.execute_reply": "2023-03-03T10:01:05.209316Z"
    },
    "papermill": {
     "duration": 4.057435,
     "end_time": "2023-03-03T10:01:05.210228",
     "exception": false,
     "start_time": "2023-03-03T10:01:01.152793",
     "status": "completed"
    },
    "tags": []
   },
   "outputs": [],
   "source": [
    "##MODEL Pretrained with RESNET 50\n",
    "#Initialize model with the best available weights\n",
    "FCN_weights = FCN_ResNet50_Weights.DEFAULT\n",
    "backbone_weights = ResNet50_Weights.DEFAULT\n",
    "model = my_fcn_resnet50(backbone_weights=backbone_weights).to(device)\n",
    "#model = my_fcn_resnet50().to(device)\n",
    "\n",
    "model.backbone.requires_grad_(True)\n",
    "model.classifier[4] = nn.Conv2d(512, n_classes, kernel_size=(1, 1), stride=(1, 1))\n",
    "model.classifier.requires_grad_(True)\n",
    "\n",
    "cel = CrossEntropyLoss()\n",
    "ad = Adam(model.parameters(), lr = learning_rate, weight_decay = w_decay)\n",
    "\n",
    "fcn1 = modelFCN(model, loss_function=cel, optimizer = ad )\n",
    "fcn1.model.to(device);"
   ]
  },
  {
   "cell_type": "markdown",
   "id": "34cda646-f264-4831-bc79-a8333cda95cb",
   "metadata": {
    "papermill": {
     "duration": 0.026371,
     "end_time": "2023-03-03T10:01:05.267929",
     "exception": false,
     "start_time": "2023-03-03T10:01:05.241558",
     "status": "completed"
    },
    "tags": []
   },
   "source": [
    "### U-Net"
   ]
  },
  {
   "cell_type": "markdown",
   "id": "0211538a-0565-4acc-b6ed-159e3046c74b",
   "metadata": {
    "papermill": {
     "duration": 0.022209,
     "end_time": "2023-03-03T10:01:05.313775",
     "exception": false,
     "start_time": "2023-03-03T10:01:05.291566",
     "status": "completed"
    },
    "tags": []
   },
   "source": [
    "##MODEL\n",
    "#model = UNet(enc_chs=(3,64,128,256,512,1024), dec_chs=(1024, 512, 256, 128, 64), num_class=n_classes, retain_dim=True, out_sz=resize_dimensions)\n",
    "model = Unet(3, n_classes, 64)\n",
    "#model = model.to(device)\n",
    "\n",
    "cel = CrossEntropyLoss()\n",
    "dl = DiceLoss()\n",
    "ad = Adam(model.parameters(), lr = learning_rate, weight_decay = w_decay)\n",
    "\n",
    "fcn1 = modelUNet(model, loss_function=cel, optimizer = ad)\n",
    "fcn1.model.to(device);"
   ]
  },
  {
   "cell_type": "markdown",
   "id": "d6cda70d-6cf8-4490-8947-4c0247e48aaa",
   "metadata": {
    "papermill": {
     "duration": 0.019471,
     "end_time": "2023-03-03T10:01:05.354474",
     "exception": false,
     "start_time": "2023-03-03T10:01:05.335003",
     "status": "completed"
    },
    "tags": []
   },
   "source": [
    "## Training"
   ]
  },
  {
   "cell_type": "code",
   "execution_count": 9,
   "id": "4238ab51-1b10-4328-91d0-22faf15232ed",
   "metadata": {
    "execution": {
     "iopub.execute_input": "2023-03-03T10:01:05.397377Z",
     "iopub.status.busy": "2023-03-03T10:01:05.392118Z"
    },
    "papermill": {
     "duration": null,
     "end_time": null,
     "exception": false,
     "start_time": "2023-03-03T10:01:05.372196",
     "status": "running"
    },
    "tags": []
   },
   "outputs": [
    {
     "name": "stdout",
     "output_type": "stream",
     "text": [
      "Completed epoch 1\n"
     ]
    }
   ],
   "source": [
    "## TRAINING PHASE ##\n",
    "start_time = time.time()\n",
    "\n",
    "L, ckp_list  = fcn1.train_model(trainloader, total_epochs=total_epochs, save_every_epochs = save_every_epochs, ckp_name = checkpoint_path+\"/\"+exp_name)\n",
    "\n",
    "comp_time = time.time() - start_time\n",
    "print(\"Computational time required: {} h\".format(round(comp_time / 3600,0)))\n",
    "\n",
    "fig, ax = plt.subplots()\n",
    "ax.plot(L, linewidth = 3)\n",
    "ax.set_xlabel(\"Epochs\")\n",
    "ax.set_ylabel(\"Loss\");\n",
    "plt.savefig(results_path+\"/training_loss.png\")"
   ]
  },
  {
   "cell_type": "markdown",
   "id": "8843bb0f-ec09-406e-bb72-89afabaf95fb",
   "metadata": {
    "papermill": {
     "duration": null,
     "end_time": null,
     "exception": null,
     "start_time": null,
     "status": "pending"
    },
    "tags": []
   },
   "source": [
    "## Model validation"
   ]
  },
  {
   "cell_type": "code",
   "execution_count": null,
   "id": "7fdf5b50-f58d-4153-8090-4d81e6e781a3",
   "metadata": {
    "papermill": {
     "duration": null,
     "end_time": null,
     "exception": null,
     "start_time": null,
     "status": "pending"
    },
    "tags": []
   },
   "outputs": [],
   "source": [
    "# Load checkpoint\n",
    "#fcn1.model.load_state_dict(torch.load(\"Checkpoints/fcn_28_02_10classes_12.pth\"))\n",
    "#fcn1.model.eval();\n",
    "\n",
    "# Step 4: Use the model and visualize the prediction\n",
    "#_, X_test, y_test = next(iter(valloader))\n",
    "#X_test, y_test = X_test.to(device), y_test.to(device) \n",
    "\n",
    "#fcn1.model.to(device)\n",
    "#pred = fcn1.model(X_test)['out'] #METTILO PER FCN\n",
    "\n",
    "# Apply softmax and threshold value\n",
    "#out = F.softmax(pred,dim=1)# > 0.5\n",
    "\n",
    "#out = torch.argmax(out, dim=1)\n",
    "\n",
    "#print(\"Output dimension: {}\".format(out.size()))"
   ]
  },
  {
   "cell_type": "code",
   "execution_count": null,
   "id": "286f492c-0f52-4119-b372-39853fcb03c6",
   "metadata": {
    "papermill": {
     "duration": null,
     "end_time": null,
     "exception": null,
     "start_time": null,
     "status": "pending"
    },
    "tags": []
   },
   "outputs": [],
   "source": [
    "# Computing metrics\n",
    "#mPA, PAk = meanPixelwiseAccuracy(out, y_test)\n",
    "#print(\"Mean Pixelwise Accuracy: {}\".format(round(mPA,2)))\n",
    "\n",
    "#print(\"Mean IoU: {}\".format(round(meanIoU(out, y_test),3)))"
   ]
  },
  {
   "cell_type": "markdown",
   "id": "db4217b3-3369-4d9a-9a12-69227863b11f",
   "metadata": {
    "papermill": {
     "duration": null,
     "end_time": null,
     "exception": null,
     "start_time": null,
     "status": "pending"
    },
    "tags": []
   },
   "source": [
    "## Model evaluation and visualisation"
   ]
  },
  {
   "cell_type": "markdown",
   "id": "80c82790-37e5-4049-b5bf-5952f0d42858",
   "metadata": {
    "papermill": {
     "duration": null,
     "end_time": null,
     "exception": null,
     "start_time": null,
     "status": "pending"
    },
    "tags": []
   },
   "source": [
    "ckp_list = []\n",
    "ckp_list.append(\"Checkpoints/fcn_28_02_10classes_6.pth\")\n",
    "ckp_list.append(\"Checkpoints/fcn_28_02_10classes_12.pth\")\n",
    "ckp_list.append(\"Checkpoints/fcn_28_02_10classes_18.pth\")\n",
    "ckp_list.append(\"Checkpoints/fcn_28_02_10classes_24.pth\")\n",
    "ckp_list.append(\"Checkpoints/fcn_28_02_10classes_30.pth\")"
   ]
  },
  {
   "cell_type": "code",
   "execution_count": null,
   "id": "036475e2-cee9-4502-bee8-259f95af6b74",
   "metadata": {
    "papermill": {
     "duration": null,
     "end_time": null,
     "exception": null,
     "start_time": null,
     "status": "pending"
    },
    "tags": []
   },
   "outputs": [],
   "source": [
    "ckp_list"
   ]
  },
  {
   "cell_type": "code",
   "execution_count": null,
   "id": "c4261546-0663-4ee2-a812-4d1883892425",
   "metadata": {
    "papermill": {
     "duration": null,
     "end_time": null,
     "exception": null,
     "start_time": null,
     "status": "pending"
    },
    "tags": []
   },
   "outputs": [],
   "source": [
    "image_id = 20\n",
    "\n",
    "# Create variables to store progressive results\n",
    "grid_list = []\n",
    "e_list    = []\n",
    "acc_list  = []\n",
    "iou_list  = []\n",
    "\n",
    "for ckp in ckp_list:\n",
    "    \n",
    "    # Extract the epoch number\n",
    "    e = int(ckp.split('_')[-1].split('.pth')[0])\n",
    "    e_list.append(e)\n",
    "    \n",
    "    # Metrics computation\n",
    "    mPA, PAk, mIoU, IoUk = fcn1.evaluate_model(next(iter(valloader)), ckp)\n",
    "    acc_list.append(mPA)\n",
    "    iou_list.append(mIoU)\n",
    "    \n",
    "    # Results visualisation\n",
    "    grid = visualise_and_save(ckp, fcn1, dt_val, image_id = image_id, save_name = results_path + \"/id{}_ep{}.png\".format(image_id,e))\n",
    "    grid_list.append(grid)\n",
    "\n",
    "# Plot accuracy and meanIoU over epochs\n",
    "fig, ax = plt.subplots()\n",
    "ax.plot(e_list, acc_list , linewidth = 3, label = 'meanPA')\n",
    "ax.plot(e_list, iou_list , linewidth = 3, label = 'meanIoU')\n",
    "ax.set_xlabel(\"Epochs\")\n",
    "ax.set_ylabel(\"Metrics\")\n",
    "ax.set_ylim(0,1)\n",
    "plt.legend()\n",
    "plt.savefig(results_path+\"/mPA_epochs.png\")"
   ]
  },
  {
   "cell_type": "code",
   "execution_count": null,
   "id": "d754cb68-c696-4ec7-8be1-566afe724da0",
   "metadata": {
    "papermill": {
     "duration": null,
     "end_time": null,
     "exception": null,
     "start_time": null,
     "status": "pending"
    },
    "tags": []
   },
   "outputs": [],
   "source": [
    "to_pil_image(grid_list[-1])"
   ]
  },
  {
   "cell_type": "markdown",
   "id": "419118b2-a8ff-4004-9428-a97ca90a6440",
   "metadata": {
    "papermill": {
     "duration": null,
     "end_time": null,
     "exception": null,
     "start_time": null,
     "status": "pending"
    },
    "tags": []
   },
   "source": [
    "## Old visualization"
   ]
  },
  {
   "cell_type": "markdown",
   "id": "f66f5e1b-80e5-451c-83e4-7372f5b39abd",
   "metadata": {
    "papermill": {
     "duration": null,
     "end_time": null,
     "exception": null,
     "start_time": null,
     "status": "pending"
    },
    "tags": []
   },
   "source": [
    "n_test = 8\n",
    "\n",
    "X_viz, X_viz_norm = dt_val.get_image_visualization(n_test)\n",
    "gt_viz = dt_val.get_ground_truth(n_test)\n",
    "gt_viz = gt_viz.argmax(dim=0)\n",
    "\n",
    "#Process the input with the model\n",
    "pred_viz = fcn1.model(X_viz_norm.unsqueeze(0).to(device))['out'] #METTILO PER FCN\n",
    "print(pred_viz.size())\n",
    "out_viz = F.softmax(pred_viz,dim=1)# > 0.5\n",
    "#Create the mask with argmax\n",
    "mask = torch.argmax(out_viz, dim=1)\n",
    "\n",
    "#Single class visualisation\n",
    "class_id = 4\n",
    "single_class_mask = (mask == class_id)\n",
    "\n",
    "sm = draw_segmentation_masks(X_viz, masks=single_class_mask, alpha=0.7, colors = ( 81,  0, 81))\n",
    "to_pil_image(sm)"
   ]
  },
  {
   "cell_type": "markdown",
   "id": "546b479e-af36-484d-994a-eabc2ae72796",
   "metadata": {
    "papermill": {
     "duration": null,
     "end_time": null,
     "exception": null,
     "start_time": null,
     "status": "pending"
    },
    "tags": []
   },
   "source": [
    "## Check the model"
   ]
  },
  {
   "cell_type": "markdown",
   "id": "9d3c3082-299b-4c40-92c4-41356aef0846",
   "metadata": {
    "papermill": {
     "duration": null,
     "end_time": null,
     "exception": null,
     "start_time": null,
     "status": "pending"
    },
    "tags": []
   },
   "source": [
    "from Utilities.torchsummaryNew import summary\n",
    "\n",
    "#device = torch.device('cuda')\n",
    "\n",
    "#model.to(device);\n",
    "#model = Unet(3, 10, 64).to(device)\n",
    "#model = fcn_resnet50().to(device)\n",
    "model = vgg16().to(device)\n",
    "\n",
    "summary(model, (3, 128, 256))\n",
    "#summary(mymodel, (3, 128, 256))"
   ]
  },
  {
   "cell_type": "markdown",
   "id": "f8bb930b-3671-453f-833b-2a6be6f5de08",
   "metadata": {
    "papermill": {
     "duration": null,
     "end_time": null,
     "exception": null,
     "start_time": null,
     "status": "pending"
    },
    "tags": []
   },
   "source": [
    "vgg_backbone = model.features"
   ]
  },
  {
   "cell_type": "markdown",
   "id": "5a5b07a8-f65f-4613-9039-1925538bf1d8",
   "metadata": {
    "papermill": {
     "duration": null,
     "end_time": null,
     "exception": null,
     "start_time": null,
     "status": "pending"
    },
    "tags": []
   },
   "source": [
    "vgg_net.to(device)\n",
    "summary(vgg_net, (3, 128, 256))"
   ]
  },
  {
   "cell_type": "markdown",
   "id": "8d962fb7-5d7a-4345-af7c-1a7467b6afe9",
   "metadata": {
    "papermill": {
     "duration": null,
     "end_time": null,
     "exception": null,
     "start_time": null,
     "status": "pending"
    },
    "tags": []
   },
   "source": [
    "fcn = my_fcn_resnet50()"
   ]
  },
  {
   "cell_type": "markdown",
   "id": "39afa631-6db5-410f-8fb7-3699211174e6",
   "metadata": {
    "papermill": {
     "duration": null,
     "end_time": null,
     "exception": null,
     "start_time": null,
     "status": "pending"
    },
    "tags": []
   },
   "source": [
    "vgg_net = nn.Sequential(vgg_backbone, fcn_classifier)"
   ]
  },
  {
   "cell_type": "markdown",
   "id": "28b0a433-3f36-4c5d-bec5-78f7c17d5c72",
   "metadata": {
    "papermill": {
     "duration": null,
     "end_time": null,
     "exception": null,
     "start_time": null,
     "status": "pending"
    },
    "tags": []
   },
   "source": [
    "fcn_classifier = fcn.classifier"
   ]
  },
  {
   "cell_type": "markdown",
   "id": "e9b6d593-e85f-4002-9293-0b039b7d5eb8",
   "metadata": {
    "papermill": {
     "duration": null,
     "end_time": null,
     "exception": null,
     "start_time": null,
     "status": "pending"
    },
    "tags": []
   },
   "source": [
    "fcn_classifier[0] = nn.Conv2d(512, 256, kernel_size=(3, 3), stride=(1, 1), padding=(1, 1), bias=False)\n",
    "fcn_classifier[1] = nn.BatchNorm2d(256, eps=1e-05, momentum=0.1, affine=True, track_running_stats=True)\n",
    "fcn_classifier[4] = nn.Conv2d(256, n_classes, kernel_size=(3, 3), stride=(1, 1), padding=(1, 1), bias=False)"
   ]
  },
  {
   "cell_type": "markdown",
   "id": "fa575f0e-dca7-4b90-92b1-43442d41c44d",
   "metadata": {
    "papermill": {
     "duration": null,
     "end_time": null,
     "exception": null,
     "start_time": null,
     "status": "pending"
    },
    "tags": []
   },
   "source": [
    "fcn_classifier"
   ]
  },
  {
   "cell_type": "markdown",
   "id": "120fe50c-e0c4-4d78-8f4e-c9f815fd20e3",
   "metadata": {
    "papermill": {
     "duration": null,
     "end_time": null,
     "exception": null,
     "start_time": null,
     "status": "pending"
    },
    "tags": []
   },
   "source": [
    "vgg_net"
   ]
  },
  {
   "cell_type": "markdown",
   "id": "7aef1632-9b26-478f-a9da-8b696caccba3",
   "metadata": {
    "papermill": {
     "duration": null,
     "end_time": null,
     "exception": null,
     "start_time": null,
     "status": "pending"
    },
    "tags": []
   },
   "source": [
    "fcn = fcn.to(device)\n",
    "\n",
    "summary(fcn, (3, 128, 256))"
   ]
  },
  {
   "cell_type": "code",
   "execution_count": null,
   "id": "320b4dd9-5ba8-4fea-bbde-fd3e3dad44e1",
   "metadata": {
    "papermill": {
     "duration": null,
     "end_time": null,
     "exception": null,
     "start_time": null,
     "status": "pending"
    },
    "tags": []
   },
   "outputs": [],
   "source": []
  }
 ],
 "metadata": {
  "kernelspec": {
   "display_name": "Python 3 (ipykernel)",
   "language": "python",
   "name": "python3"
  },
  "language_info": {
   "codemirror_mode": {
    "name": "ipython",
    "version": 3
   },
   "file_extension": ".py",
   "mimetype": "text/x-python",
   "name": "python",
   "nbconvert_exporter": "python",
   "pygments_lexer": "ipython3",
   "version": "3.9.5"
  },
  "papermill": {
   "default_parameters": {},
   "duration": null,
   "end_time": null,
   "environment_variables": {},
   "exception": null,
   "input_path": "INM705_notebook.ipynb",
   "output_path": "fcn_res_part_6clas.ipynb",
   "parameters": {},
   "start_time": "2023-03-03T10:00:54.479185",
   "version": "2.4.0"
  },
  "toc-autonumbering": true
 },
 "nbformat": 4,
 "nbformat_minor": 5
}