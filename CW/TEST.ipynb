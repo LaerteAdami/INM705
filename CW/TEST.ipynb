{
 "cells": [
  {
   "cell_type": "code",
   "execution_count": 1,
   "id": "324c80d2-a4bc-477c-8d0c-4c0852e1cc68",
   "metadata": {},
   "outputs": [],
   "source": [
    "# https://github.com/pochih/FCN-pytorch/blob/master/python/fcn.py\n",
    "from torchvision.models import vgg16\n",
    "from Utilities.FCN.myFcn import my_fcn_resnet50\n",
    "\n",
    "# Custom functionalities\n",
    "from Utilities.classHandler import CityscapesClass\n",
    "from Utilities.datasetHandler import CityscapesDataset, visualise_and_save\n",
    "from Utilities.modelHandler import modelFCN\n",
    "from Utilities.metrics import meanPixelwiseAccuracy, meanIoU\n",
    "from Utilities.customLoss import DiceLoss\n",
    "from Utilities.myModel import modelConstructor\n",
    "\n",
    "import os\n",
    "import time\n",
    "import torch\n",
    "import torch.nn.functional as F\n",
    "from torchvision.io.image import read_image\n",
    "from torchvision.transforms.functional import to_pil_image\n",
    "from torch.utils.data import DataLoader\n",
    "from torch import nn\n",
    "from torchvision.models import ResNet50_Weights\n",
    "from torchvision.models.segmentation import fcn_resnet50, FCN_ResNet50_Weights\n",
    "from torch.nn import CrossEntropyLoss\n",
    "from torch.optim import Adam\n",
    "from torchvision.utils import draw_segmentation_masks\n",
    "import matplotlib.pyplot as plt\n",
    "\n",
    "device = torch.device('cpu')\n",
    "if torch.cuda.is_available(): device = torch.device('cuda')\n",
    "\n",
    "torch.cuda.empty_cache()\n",
    "\n",
    "#plt.rcParams['text.usetex'] = True\n",
    "plt.rcParams['font.size'] = 17"
   ]
  },
  {
   "cell_type": "markdown",
   "id": "361ca50e-ca89-4886-a49b-d45fcac1d190",
   "metadata": {},
   "source": [
    "import numpy as np\n",
    "import torch\n",
    "\n",
    "def meanPixelwiseAccuracy(pred, gt):\n",
    "    '''\n",
    "    Compute the mean pixelwise accuracy averaged across one batch\n",
    "    pred dimensions: B x W x H\n",
    "    gt dimensions: B x C x W x H\n",
    "    \n",
    "    PAk = sum( True positives for class k) / (H x W) \n",
    "    \n",
    "    mPA = sum(PAk) / k  --> average on the classes\n",
    "    \n",
    "    '''\n",
    "    \n",
    "    num_classes = gt.size(1)\n",
    "    batch_size = pred.size(0)\n",
    "    \n",
    "    gt = gt.argmax(dim=1)\n",
    "\n",
    "    acc = np.zeros((num_classes, batch_size)) # k: channels, B: batches\n",
    "\n",
    "    check = 0\n",
    "    \n",
    "    for idx, p in enumerate(pred): # loop on the batch\n",
    "        # p and yy have dimensions: 1 x H x W\n",
    "        yy = gt[idx]   \n",
    "\n",
    "        for k in range(num_classes):\n",
    "            TP = torch.logical_and((p==k), (yy==k)).sum().item() # True positives in the k-th class\n",
    "            check += TP\n",
    "            acc[k, idx] = TP / (p.size(0)*p.size(1))\n",
    "\n",
    "        print(check)\n",
    "        acc_per_channel = list(np.mean(acc, axis = 1)) # take the mean across batches to have the accuracy per channel\n",
    "\n",
    "        mPA = np.mean(np.mean(acc, axis = 0)) # take the mean across channels to have the accuracy per batch, then take the mean for the meanPixelwiseAccuracy\n",
    "\n",
    "    return mPA, acc_per_channel       \n",
    "    \n",
    "\n",
    "def meanIoU(pred, gt):\n",
    "    '''\n",
    "    Compute the mean Intersection over Union across one batch\n",
    "    pred dimensions: B x W x H\n",
    "    gt dimensions: B x C x W x H\n",
    "    \n",
    "    IoUk = pred *intersection* gt  / pred *union* gt\n",
    "    \n",
    "    mIoU = sum(IoUk) / k  --> average on the classes\n",
    "    \n",
    "    '''\n",
    "    \n",
    "    num_classes = gt.size(1)\n",
    "    batch_size = pred.size(0)\n",
    "    \n",
    "    gt = gt.argmax(dim=1)\n",
    "\n",
    "    iou = np.zeros((num_classes, batch_size)) # k: channels, B: batches\n",
    " \n",
    "    for idx, p in enumerate(pred): # loop on the batch\n",
    "        # p and yy have dimensions: 1 x H x W\n",
    "        yy = gt[idx]   \n",
    "        \n",
    "        for k in range(num_classes):   \n",
    "            intersection = torch.logical_and((p==k), (yy==k)).sum().item() # pred *intersection* gt in the k-th class\n",
    "            union = torch.logical_or((p==k), (yy==k)).sum().item() # pred *union* gt in the k-th class\n",
    "            \n",
    "            if union != 0:\n",
    "                iou[k, idx] = intersection / union   \n",
    "            else:\n",
    "                iou[k, idx] = 1 # OPPURE 0\n",
    "                \n",
    "        iou_per_channel = list(np.mean(iou, axis = 1)) # take the mean across batches to have the IoU per channel\n",
    "\n",
    "        mIoU = np.mean(np.mean(iou, axis = 0)) # take the mean across channels to have the IoU per batch, then take the mean for the meanIoU\n",
    "\n",
    "    return mIoU, iou_per_channel       "
   ]
  },
  {
   "cell_type": "code",
   "execution_count": 56,
   "id": "1cf8291f-74ba-4b54-822a-82afa1381850",
   "metadata": {},
   "outputs": [],
   "source": [
    "import numpy as np\n",
    "import torch\n",
    "\n",
    "def meanPixelwiseAccuracy(pred, gt):\n",
    "    '''\n",
    "    Compute the mean pixelwise accuracy averaged across one batch\n",
    "    pred dimensions: B x W x H\n",
    "    gt dimensions: B x C x W x H\n",
    "    \n",
    "    PAk = sum( True positives for class k) / (H x W) \n",
    "    \n",
    "    mPA = sum(PAk) / k  --> average on the classes\n",
    "    \n",
    "    '''\n",
    "    \n",
    "    num_classes = gt.size(1)\n",
    "    batch_size = pred.size(0)\n",
    "    \n",
    "    gt = gt.argmax(dim=1)\n",
    "    \n",
    "    acc = np.zeros((num_classes, batch_size)) # k: channels, B: batches\n",
    "    \n",
    "    for idx, p in enumerate(pred): # loop on the batch\n",
    "        # p and yy have dimensions: 1 x H x W\n",
    "        yy = gt[idx]   \n",
    "\n",
    "        for k in range(num_classes):\n",
    "            TP = torch.logical_and((p==k), (yy==k)).sum().item() # True positives in the k-th class\n",
    "            denum = (yy==k).sum().item()\n",
    "            \n",
    "            if denum == 0:\n",
    "                if TP == 0:  \n",
    "                    acc[k, idx] = 1\n",
    "                else:\n",
    "                    acc[k, idx] = 0\n",
    "            else:\n",
    "                acc[k, idx] = TP / denum\n",
    "\n",
    "        acc_per_channel = list(np.mean(acc, axis = 1)) # take the mean across batches to have the accuracy per channel\n",
    "\n",
    "        mPA = np.mean(np.mean(acc, axis = 0)) # take the mean across channels to have the accuracy per batch, then take the mean for the meanPixelwiseAccuracy\n",
    "\n",
    "    return mPA, acc_per_channel       \n",
    "    \n",
    "\n",
    "def meanIoU(pred, gt):\n",
    "    '''\n",
    "    Compute the mean Intersection over Union across one batch\n",
    "    pred dimensions: B x W x H\n",
    "    gt dimensions: B x C x W x H\n",
    "    \n",
    "    IoUk = pred *intersection* gt  / pred *union* gt\n",
    "    \n",
    "    mIoU = sum(IoUk) / k  --> average on the classes\n",
    "    \n",
    "    '''\n",
    "    \n",
    "    num_classes = gt.size(1)\n",
    "    batch_size = pred.size(0)\n",
    "    \n",
    "    gt = gt.argmax(dim=1)\n",
    "\n",
    "    iou = np.zeros((num_classes, batch_size)) # k: channels, B: batches\n",
    " \n",
    "    for idx, p in enumerate(pred): # loop on the batch\n",
    "        # p and yy have dimensions: 1 x H x W\n",
    "        yy = gt[idx]   \n",
    "        \n",
    "        for k in range(num_classes):   \n",
    "            intersection = torch.logical_and((p==k), (yy==k)).sum().item() # pred *intersection* gt in the k-th class\n",
    "            union = torch.logical_or((p==k), (yy==k)).sum().item() # pred *union* gt in the k-th class\n",
    "            \n",
    "            if union != 0:\n",
    "                iou[k, idx] = intersection / union   \n",
    "            else:\n",
    "                iou[k, idx] = 1 # OPPURE 0\n",
    "                \n",
    "        iou_per_channel = list(np.mean(iou, axis = 1)) # take the mean across batches to have the IoU per channel\n",
    "\n",
    "        mIoU = np.mean(np.mean(iou, axis = 0)) # take the mean across channels to have the IoU per batch, then take the mean for the meanIoU\n",
    "\n",
    "    return mIoU, iou_per_channel       "
   ]
  },
  {
   "cell_type": "code",
   "execution_count": 57,
   "id": "d067eb15-710a-4026-8a5f-09d831b57332",
   "metadata": {},
   "outputs": [
    {
     "data": {
      "image/png": "[encoded data removed]",
      "text/plain": [
       "<PIL.Image.Image image mode=RGB size=256x128 at 0x2AF69EA52880>"
      ]
     },
     "execution_count": 57,
     "metadata": {},
     "output_type": "execute_result"
    }
   ],
   "source": [
    "### DATASET ###\n",
    "classes = CityscapesClass(\"10 classes\") # Pick a case: \"4 classes\", \"6 classes\", \"10 classes\"\n",
    "\n",
    "img_directory = '/mnt/data/course/psarin/inm705/leftImg8bit'\n",
    "ground_truth_directory = '/mnt/data/course/psarin/inm705/gtFine_trainvaltest/gtFine'\n",
    "n_classes = len(classes.labels) \n",
    "resize_dimensions = (128, 256)#(205,410)\n",
    "\n",
    "dataset_args = {'image_directory' : img_directory,\n",
    "                'gt_directory' : ground_truth_directory,\n",
    "                'trainId' : classes.trainId,\n",
    "                'colors' : classes.colors,\n",
    "                'num_classes' : n_classes,\n",
    "                'resize_dimensions' : resize_dimensions}\n",
    "\n",
    "# Import datasets\n",
    "dt_train = CityscapesDataset(phase = 'train', **dataset_args)\n",
    "\n",
    "\n",
    "## TRAIN dataset\n",
    "trainloader = DataLoader(dt_train, batch_size=1)\n",
    "\n",
    "# Check dataset\n",
    "X_viz, X_viz_norm = dt_train.get_image_visualization(1)\n",
    "gt_mask = dt_train.get_ground_truth(1)\n",
    "gt_mask = gt_mask.argmax(dim=0)\n",
    "\n",
    "bool_masks = gt_mask == torch.arange(n_classes)[:, None, None]\n",
    "\n",
    "sm = draw_segmentation_masks(X_viz, masks=bool_masks, alpha=0.6, colors = dt_train.colors)\n",
    "to_pil_image(sm)"
   ]
  },
  {
   "cell_type": "code",
   "execution_count": 58,
   "id": "a75c0d26-9689-4ae9-b40d-447f365e86b1",
   "metadata": {},
   "outputs": [
    {
     "data": {
      "text/plain": [
       "tensor([0, 1, 2, 3, 4, 5, 7])"
      ]
     },
     "execution_count": 58,
     "metadata": {},
     "output_type": "execute_result"
    }
   ],
   "source": [
    "gt_mask.unique()"
   ]
  },
  {
   "cell_type": "code",
   "execution_count": 34,
   "id": "7636d9a3-ab9f-44e0-9db9-514e1b611a62",
   "metadata": {},
   "outputs": [],
   "source": [
    "## INITIALISE EXPERIMENT ##\n",
    "exp_name = \"fcn_res_yes\"\n",
    "\n",
    "## Models paramaters\n",
    "total_epochs      = 30\n",
    "save_every_epochs = 6 \n",
    "learning_rate     = 1e-3\n",
    "w_decay           = 1e-3\n",
    "\n",
    "\n",
    "##MODEL Pretrained with RESNET 50\n",
    "#Initialize model with the best available weights\n",
    "FCN_weights = FCN_ResNet50_Weights.DEFAULT\n",
    "backbone_weights = ResNet50_Weights.DEFAULT\n",
    "model = my_fcn_resnet50(backbone_weights=backbone_weights).to(device)\n",
    "#model = my_fcn_resnet50().to(device)\n",
    "\n",
    "model.backbone.requires_grad_(False)\n",
    "model.classifier[4] = nn.Conv2d(512, n_classes, kernel_size=(1, 1), stride=(1, 1))\n",
    "model.classifier.requires_grad_(True)\n",
    "\n",
    "cel = CrossEntropyLoss()\n",
    "ad = Adam(model.parameters(), lr = learning_rate, weight_decay = w_decay)\n",
    "\n",
    "fcn1 = modelFCN(model, loss_function=cel, optimizer = ad )\n",
    "fcn1.model.to(device);"
   ]
  },
  {
   "cell_type": "code",
   "execution_count": 5,
   "id": "b3357518-f8ad-4190-b53b-d8917046946f",
   "metadata": {},
   "outputs": [],
   "source": [
    "mPA, PAk, mIoU, IoUk = fcn1.evaluate_model(next(iter(trainloader)),'Checkpoints/fcn_res_yes/fcn_res_yes_30.pth')"
   ]
  },
  {
   "cell_type": "code",
   "execution_count": 35,
   "id": "09fec96f-d10e-4ecf-ac07-ebb0dfceb4fa",
   "metadata": {},
   "outputs": [],
   "source": [
    "i,x,y = next(iter(trainloader))"
   ]
  },
  {
   "cell_type": "code",
   "execution_count": 36,
   "id": "90e01cdc-e742-4f59-8f67-3897c19efd0f",
   "metadata": {},
   "outputs": [
    {
     "data": {
      "text/plain": [
       "torch.Size([1, 10, 128, 256])"
      ]
     },
     "execution_count": 36,
     "metadata": {},
     "output_type": "execute_result"
    }
   ],
   "source": [
    "y.size()"
   ]
  },
  {
   "cell_type": "code",
   "execution_count": 37,
   "id": "b1d46b5a-e808-4822-9b68-3d81b8eb3c45",
   "metadata": {},
   "outputs": [
    {
     "data": {
      "text/plain": [
       "tensor([0.0000, 0.2500, 0.5000, 0.7500, 1.0000])"
      ]
     },
     "execution_count": 37,
     "metadata": {},
     "output_type": "execute_result"
    }
   ],
   "source": [
    "y.unique()"
   ]
  },
  {
   "cell_type": "code",
   "execution_count": 38,
   "id": "ed88fb17-21ef-4a1a-ad3d-b258f8666031",
   "metadata": {},
   "outputs": [],
   "source": [
    "model.load_state_dict(torch.load('Checkpoints/fcn_res_yes/fcn_res_yes_30.pth'))\n",
    "model.eval()\n",
    "model.to(device);"
   ]
  },
  {
   "cell_type": "code",
   "execution_count": 39,
   "id": "7c0003f5-74d4-49c9-afef-7ca9bbb98515",
   "metadata": {},
   "outputs": [],
   "source": [
    "from torch.nn.functional import softmax\n",
    "pred = model(x.to(device))\n",
    "\n",
    "# Apply softmax and threshold value\n",
    "out = softmax(pred,dim=1)# > 0.5\n",
    "#out = out.int()\n",
    "out = torch.argmax(out, dim=1)"
   ]
  },
  {
   "cell_type": "code",
   "execution_count": 45,
   "id": "bafd6e30-16ce-4688-bf01-3d2032604c99",
   "metadata": {},
   "outputs": [
    {
     "data": {
      "text/plain": [
       "tensor([0, 1, 2, 4, 5, 7], device='cuda:0')"
      ]
     },
     "execution_count": 45,
     "metadata": {},
     "output_type": "execute_result"
    }
   ],
   "source": [
    "out.unique()"
   ]
  },
  {
   "cell_type": "code",
   "execution_count": 46,
   "id": "f7b70b2a-6815-4420-b5ca-e8eacebf6931",
   "metadata": {},
   "outputs": [
    {
     "data": {
      "text/plain": [
       "tensor([0, 1, 2, 3, 4, 5, 6, 7, 9])"
      ]
     },
     "execution_count": 46,
     "metadata": {},
     "output_type": "execute_result"
    }
   ],
   "source": [
    "yy = torch.argmax(y, dim=1)\n",
    "yy.unique()"
   ]
  },
  {
   "cell_type": "code",
   "execution_count": 59,
   "id": "0d10aaf6-7c25-404b-8cc0-b3056f17184b",
   "metadata": {},
   "outputs": [],
   "source": [
    "m,k = meanPixelwiseAccuracy(out.to(device),y.to(device))"
   ]
  },
  {
   "cell_type": "code",
   "execution_count": 54,
   "id": "f156f00c-9718-46e0-8eca-473157f199ef",
   "metadata": {},
   "outputs": [
    {
     "data": {
      "text/plain": [
       "tensor([0.0000, 0.2500, 0.5000, 0.7500, 1.0000])"
      ]
     },
     "execution_count": 54,
     "metadata": {},
     "output_type": "execute_result"
    }
   ],
   "source": [
    "y.unique()"
   ]
  },
  {
   "cell_type": "code",
   "execution_count": 60,
   "id": "066147dc-af05-4423-9ea8-35e75fb30c62",
   "metadata": {},
   "outputs": [
    {
     "data": {
      "text/plain": [
       "0.5064158482435877"
      ]
     },
     "execution_count": 60,
     "metadata": {},
     "output_type": "execute_result"
    }
   ],
   "source": [
    "m"
   ]
  },
  {
   "cell_type": "code",
   "execution_count": 61,
   "id": "b0a50a01-4c6a-423a-b017-9c68274e681a",
   "metadata": {},
   "outputs": [
    {
     "data": {
      "text/plain": [
       "[0.8155602864331334,\n",
       " 0.782315561066336,\n",
       " 0.8995245641838352,\n",
       " 0.0,\n",
       " 0.7032389845345783,\n",
       " 0.5437062937062938,\n",
       " 0.0,\n",
       " 0.31981279251170047,\n",
       " 1.0,\n",
       " 0.0]"
      ]
     },
     "execution_count": 61,
     "metadata": {},
     "output_type": "execute_result"
    }
   ],
   "source": [
    "k"
   ]
  },
  {
   "cell_type": "code",
   "execution_count": 62,
   "id": "a879d400-de40-4afc-95b2-5920ebfa07d7",
   "metadata": {},
   "outputs": [
    {
     "data": {
      "text/plain": [
       "0.5064158482435877"
      ]
     },
     "execution_count": 62,
     "metadata": {},
     "output_type": "execute_result"
    }
   ],
   "source": [
    "sum(k)/10"
   ]
  },
  {
   "cell_type": "code",
   "execution_count": 65,
   "id": "b35a4921-2eb6-4e65-b0c7-0ac9d20ebbc2",
   "metadata": {},
   "outputs": [],
   "source": [
    "mm,kk = meanIoU(out.to(device),y.to(device))"
   ]
  },
  {
   "cell_type": "code",
   "execution_count": 66,
   "id": "c92cf966-f903-47cc-9de0-83b4f95d785a",
   "metadata": {},
   "outputs": [
    {
     "data": {
      "text/plain": [
       "0.4283331000198286"
      ]
     },
     "execution_count": 66,
     "metadata": {},
     "output_type": "execute_result"
    }
   ],
   "source": [
    "mm"
   ]
  },
  {
   "cell_type": "code",
   "execution_count": 67,
   "id": "41ec2426-ca6a-423b-97d8-032405439617",
   "metadata": {},
   "outputs": [
    {
     "data": {
      "text/plain": [
       "0.4283331000198286"
      ]
     },
     "execution_count": 67,
     "metadata": {},
     "output_type": "execute_result"
    }
   ],
   "source": [
    "sum(kk)/10"
   ]
  },
  {
   "cell_type": "code",
   "execution_count": 68,
   "id": "3c38a898-b73f-4214-aa00-e986ceabcc6f",
   "metadata": {},
   "outputs": [
    {
     "data": {
      "text/plain": [
       "[0.4626701800614844,\n",
       " 0.7716709983183,\n",
       " 0.7509260892573646,\n",
       " 0.0,\n",
       " 0.5649320206282231,\n",
       " 0.4325452016689847,\n",
       " 0.0,\n",
       " 0.30058651026392963,\n",
       " 1.0,\n",
       " 0.0]"
      ]
     },
     "execution_count": 68,
     "metadata": {},
     "output_type": "execute_result"
    }
   ],
   "source": [
    "kk"
   ]
  },
  {
   "cell_type": "code",
   "execution_count": 63,
   "id": "19c0ac43-e78b-4711-bc58-511deaf542c5",
   "metadata": {},
   "outputs": [],
   "source": [
    "import numpy as np\n",
    "\n",
    "results_path = \".\"\n",
    "def metrics_per_class(X, PA, IoU, results_path):  \n",
    "    X_axis = np.arange(len(classes.labels))\n",
    "\n",
    "    plt.bar(X_axis - 0.15, PA, 0.3,label = 'PA')\n",
    "    plt.bar(X_axis + 0.15, IoU, 0.3,label = 'IoU')\n",
    "\n",
    "    plt.xticks(X_axis, classes.labels)\n",
    "    plt.xticks(rotation=90)\n",
    "    #plt.xlabel(\"Lables\")\n",
    "    plt.ylabel(\"Metrics\")\n",
    "    plt.legend()\n",
    "    plt.savefig(results_path+\"/metrics_per_class.png\")\n",
    "    plt.show()"
   ]
  },
  {
   "cell_type": "code",
   "execution_count": 69,
   "id": "977b242c-0f3b-4806-bcb8-8b164829e367",
   "metadata": {},
   "outputs": [
    {
     "data": {
      "image/png": "[encoded data removed]",
      "text/plain": [
       "<Figure size 432x288 with 1 Axes>"
      ]
     },
     "metadata": {
      "needs_background": "light"
     },
     "output_type": "display_data"
    }
   ],
   "source": [
    "metrics_per_class(classes.labels, k, kk, \".\")"
   ]
  },
  {
   "cell_type": "code",
   "execution_count": null,
   "id": "ea4a1d0e-e574-4283-94ba-f2fe725dc8ab",
   "metadata": {},
   "outputs": [],
   "source": []
  }
 ],
 "metadata": {
  "kernelspec": {
   "display_name": "Python 3 (ipykernel)",
   "language": "python",
   "name": "python3"
  },
  "language_info": {
   "codemirror_mode": {
    "name": "ipython",
    "version": 3
   },
   "file_extension": ".py",
   "mimetype": "text/x-python",
   "name": "python",
   "nbconvert_exporter": "python",
   "pygments_lexer": "ipython3",
   "version": "3.9.5"
  }
 },
 "nbformat": 4,
 "nbformat_minor": 5
}
