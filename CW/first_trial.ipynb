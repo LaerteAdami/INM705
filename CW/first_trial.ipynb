{
 "cells": [
  {
   "cell_type": "code",
   "execution_count": 73,
   "id": "8e30d5ba-cb54-4659-941e-c4b2b0d785c9",
   "metadata": {},
   "outputs": [],
   "source": [
    "# Custom functionalities\n",
    "import visionNew\n",
    "from Utilities.metrics import pixelwiseAccuracy\n",
    "from Utilities.datasetHandler import CityscapesDataset\n",
    "from Utilities.modelHandler import modelFCN\n",
    "\n",
    "import torch\n",
    "from torchvision.io.image import read_image\n",
    "from torchvision.transforms.functional import to_pil_image\n",
    "from torch.utils.data import DataLoader\n",
    "from  torch import nn\n",
    "from torchvision.models import ResNet50_Weights\n",
    "from torchvision.models.segmentation import fcn_resnet50, FCN_ResNet50_Weights\n",
    "from torch.nn import CrossEntropyLoss\n",
    "from torch.optim import Adam\n",
    "\n",
    "device = torch.device('cpu')\n",
    "if torch.cuda.is_available(): device = torch.device('cuda')\n",
    "\n",
    "torch.cuda.empty_cache()"
   ]
  },
  {
   "cell_type": "markdown",
   "id": "7dfa924d-282c-4b3d-8e5e-af825a7dd21e",
   "metadata": {
    "tags": []
   },
   "source": [
    "## Test dataset\n",
    "\n",
    "# Read single image\n",
    "dtTEST = CityscapesDataset(image_directory=\"TestPascal\", phase=None, num_classes=30)\n",
    "\n",
    "\n",
    "gt = read_image(\"aachen_000000_000019_gtFine_labelIds.png\")      \n",
    "#img = dtTEST.get_ground_truth_path(\"berlin_000000_000019_gtFine_labelIds.png\")"
   ]
  },
  {
   "cell_type": "code",
   "execution_count": 74,
   "id": "70d04553-c49e-4a4e-948f-c80bb23d759c",
   "metadata": {},
   "outputs": [
    {
     "name": "stdout",
     "output_type": "stream",
     "text": [
      "['aachen']\n",
      "['frankfurt']\n",
      "['berlin']\n"
     ]
    }
   ],
   "source": [
    "### DATASET ###\n",
    "img_directory = '/mnt/data/course/psarin/inm705/leftImg8bit'\n",
    "ground_truth_directory = '/mnt/data/course/psarin/inm705/gtFine_trainvaltest/gtFine'\n",
    "n_classes = 30\n",
    "\n",
    "# Import datasets\n",
    "dt_train = CityscapesDataset(image_directory = img_directory,\n",
    "                            gt_directory = ground_truth_directory,\n",
    "                            phase = 'train',\n",
    "                            num_classes = n_classes)\n",
    "\n",
    "dt_val = CityscapesDataset(image_directory = img_directory,\n",
    "                            gt_directory = ground_truth_directory,\n",
    "                            phase = 'val',\n",
    "                            num_classes = n_classes)\n",
    "\n",
    "dt_test = CityscapesDataset(image_directory = img_directory,\n",
    "                            gt_directory = ground_truth_directory,\n",
    "                            phase = 'test',\n",
    "                            num_classes = n_classes)\n",
    "\n",
    "# Initialise dataloaders\n",
    "dataloader_args = {'batch_size':20, 'shuffle':False}\n",
    "\n",
    "## TRAIN dataset\n",
    "trainloader = DataLoader(dt_train, **dataloader_args)\n",
    "## VAL dataset\n",
    "valloader = DataLoader(dt_val, **dataloader_args)\n",
    "## TEST dataset\n",
    "testloader = DataLoader(dt_test, batch_size=10)\n",
    "\n",
    "\n",
    "# Pascal VOC categories\n",
    "object_categories = ['aeroplane', 'bicycle', 'bird', 'boat',\n",
    "                     'bottle', 'bus', 'car', 'cat', 'chair',\n",
    "                      'cow', 'diningtable', 'dog', 'horse',\n",
    "                      'motorbike', 'person', 'pottedplant',\n",
    "                     'sheep', 'sofa', 'train', 'tvmonitor']\n",
    "#weights.meta[\"categories\"]\n",
    "\n",
    "\n",
    "# convert list to dict\n",
    "pascal_voc_classes = {}\n",
    "for id, name in enumerate(object_categories): \n",
    "    pascal_voc_classes[name]=id # these are the same indices used to create the label vector y in the dataset \n",
    "    "
   ]
  },
  {
   "cell_type": "code",
   "execution_count": 75,
   "id": "efae0a8c-9ade-4e00-9376-1af109c6c65e",
   "metadata": {},
   "outputs": [
    {
     "data": {
      "text/plain": [
       "FCNHead(\n",
       "  (0): Conv2d(2048, 512, kernel_size=(3, 3), stride=(1, 1), padding=(1, 1), bias=False)\n",
       "  (1): BatchNorm2d(512, eps=1e-05, momentum=0.1, affine=True, track_running_stats=True)\n",
       "  (2): ReLU()\n",
       "  (3): Dropout(p=0.1, inplace=False)\n",
       "  (4): Conv2d(512, 30, kernel_size=(1, 1), stride=(1, 1))\n",
       ")"
      ]
     },
     "execution_count": 75,
     "metadata": {},
     "output_type": "execute_result"
    }
   ],
   "source": [
    "## MODEL Pretrained with RESNET 50\n",
    "# Initialize model with the best available weights\n",
    "FCN_weights = FCN_ResNet50_Weights.DEFAULT\n",
    "backbone_weights = ResNet50_Weights.DEFAULT\n",
    "model = fcn_resnet50(backbone_weights=backbone_weights).to(device)\n",
    "\n",
    "model.backbone.requires_grad_(False)\n",
    "model.classifier[4] = nn.Conv2d(512, 30, kernel_size=(1, 1), stride=(1, 1))\n",
    "model.classifier.requires_grad_(True)\n"
   ]
  },
  {
   "cell_type": "code",
   "execution_count": 76,
   "id": "503887c4-273b-448c-9e0d-d16623b7445d",
   "metadata": {},
   "outputs": [],
   "source": [
    "cel = CrossEntropyLoss()\n",
    "ad = Adam(model.parameters())\n",
    "\n",
    "fcn1 = modelFCN(model, loss_function=cel, optimizer = ad )"
   ]
  },
  {
   "cell_type": "code",
   "execution_count": 77,
   "id": "8827c712-5a6d-4f02-9e50-cb8b8c0aeaa4",
   "metadata": {},
   "outputs": [],
   "source": [
    "#L = fcn1.train_model(trainloader, total_epochs=4)"
   ]
  },
  {
   "cell_type": "code",
   "execution_count": 78,
   "id": "94d76afa-5449-4f83-a6e9-6d38822ec415",
   "metadata": {},
   "outputs": [],
   "source": [
    "# Load checkpoint\n",
    "#fcn1.model.load_state_dict(torch.load(\"Checkpoints/test_epoch_0.pth\"))\n",
    "fcn1.model.load_state_dict(torch.load(\"city_test_epoch_3.pth\"))#.\n",
    "fcn1.model.eval();"
   ]
  },
  {
   "cell_type": "code",
   "execution_count": 79,
   "id": "7fdf5b50-f58d-4153-8090-4d81e6e781a3",
   "metadata": {},
   "outputs": [],
   "source": [
    "# Step 4: Use the model and visualize the prediction\n",
    "_, X_test, y_test = next(iter(testloader))\n",
    "X_test, y_test = X_test.to(device), y_test.to(device) \n",
    "\n",
    "fcn1.model.to(device)\n",
    "pred = fcn1.model(X_test)['out']"
   ]
  },
  {
   "cell_type": "code",
   "execution_count": 80,
   "id": "85a9bcb5-ac05-4f64-987b-f7f5e0dd2079",
   "metadata": {},
   "outputs": [],
   "source": [
    "out = torch.sigmoid(pred) > 0.5 # probability tensor for 0 vs 1 separatation threshold\n",
    "out = out.int()"
   ]
  },
  {
   "cell_type": "code",
   "execution_count": 81,
   "id": "74f51bad-2a5f-4df2-9a65-1aefe64e20d5",
   "metadata": {},
   "outputs": [],
   "source": [
    "# Step 4: Use the model and visualize the prediction\n",
    "#prediction = pred[\"out\"]\n",
    "#pred_aux = pred[\"aux\"]\n",
    "\n",
    "\n",
    "#normalized_masks = pred.softmax(dim=1)\n",
    "#normalized_aux = pred_aux.softmax(dim=1)\n",
    "\n",
    "# Indices of classes\n",
    "#class_to_idx = {cls: idx for (idx, cls) in enumerate(weights.meta[\"categories\"])}\n",
    "\n",
    "#n_lab = 2\n",
    "\n",
    "\n",
    "#mask = normalized_masks[0, 3]#class_to_idx[\"sofa\"]] #+ normalized_masks[0, class_to_idx[\"horse\"]]\n",
    "#to_pil_image(mask)\n",
    "\n",
    "#print(mask.size())\n"
   ]
  },
  {
   "cell_type": "code",
   "execution_count": 82,
   "id": "12eef9b1-a05d-4b4f-96c0-007a8e7de7fe",
   "metadata": {},
   "outputs": [
    {
     "data": {
      "text/plain": [
       "0.9891991019248962"
      ]
     },
     "execution_count": 82,
     "metadata": {},
     "output_type": "execute_result"
    }
   ],
   "source": [
    "pixelwiseAccuracy(out,y_test)"
   ]
  },
  {
   "cell_type": "code",
   "execution_count": null,
   "id": "c33a0767-06df-451c-8efc-f9781a0012e9",
   "metadata": {},
   "outputs": [],
   "source": []
  },
  {
   "cell_type": "markdown",
   "id": "546b479e-af36-484d-994a-eabc2ae72796",
   "metadata": {
    "tags": []
   },
   "source": [
    "## Check the model"
   ]
  },
  {
   "cell_type": "code",
   "execution_count": 83,
   "id": "fdf63503-ccc1-4448-9a78-321a5febfe03",
   "metadata": {},
   "outputs": [],
   "source": [
    "from Utilities.torchsummaryNew import summary"
   ]
  },
  {
   "cell_type": "code",
   "execution_count": 84,
   "id": "aefd8e55-1e2c-4353-946f-acba927b9833",
   "metadata": {},
   "outputs": [],
   "source": [
    "device = torch.device('cuda')"
   ]
  },
  {
   "cell_type": "code",
   "execution_count": 85,
   "id": "1675ad56-e464-4a47-b32b-25806a8590bf",
   "metadata": {},
   "outputs": [],
   "source": [
    "x = torch.randn(1, 3, 224, 224).to(device)\n",
    "fcn1.model.to(device);"
   ]
  },
  {
   "cell_type": "code",
   "execution_count": 86,
   "id": "edcb1816-6203-428c-8555-635e545a1fd3",
   "metadata": {},
   "outputs": [
    {
     "name": "stdout",
     "output_type": "stream",
     "text": [
      "----------------------------------------------------------------\n",
      "        Layer (type)               Output Shape         Param #\n",
      "================================================================\n",
      "            Conv2d-1         [-1, 64, 112, 112]           9,408\n",
      "       BatchNorm2d-2         [-1, 64, 112, 112]             128\n",
      "              ReLU-3         [-1, 64, 112, 112]               0\n",
      "         MaxPool2d-4           [-1, 64, 56, 56]               0\n",
      "            Conv2d-5           [-1, 64, 56, 56]           4,096\n",
      "       BatchNorm2d-6           [-1, 64, 56, 56]             128\n",
      "              ReLU-7           [-1, 64, 56, 56]               0\n",
      "            Conv2d-8           [-1, 64, 56, 56]          36,864\n",
      "       BatchNorm2d-9           [-1, 64, 56, 56]             128\n",
      "             ReLU-10           [-1, 64, 56, 56]               0\n",
      "           Conv2d-11          [-1, 256, 56, 56]          16,384\n",
      "      BatchNorm2d-12          [-1, 256, 56, 56]             512\n",
      "           Conv2d-13          [-1, 256, 56, 56]          16,384\n",
      "      BatchNorm2d-14          [-1, 256, 56, 56]             512\n",
      "             ReLU-15          [-1, 256, 56, 56]               0\n",
      "       Bottleneck-16          [-1, 256, 56, 56]               0\n",
      "           Conv2d-17           [-1, 64, 56, 56]          16,384\n",
      "      BatchNorm2d-18           [-1, 64, 56, 56]             128\n",
      "             ReLU-19           [-1, 64, 56, 56]               0\n",
      "           Conv2d-20           [-1, 64, 56, 56]          36,864\n",
      "      BatchNorm2d-21           [-1, 64, 56, 56]             128\n",
      "             ReLU-22           [-1, 64, 56, 56]               0\n",
      "           Conv2d-23          [-1, 256, 56, 56]          16,384\n",
      "      BatchNorm2d-24          [-1, 256, 56, 56]             512\n",
      "             ReLU-25          [-1, 256, 56, 56]               0\n",
      "       Bottleneck-26          [-1, 256, 56, 56]               0\n",
      "           Conv2d-27           [-1, 64, 56, 56]          16,384\n",
      "      BatchNorm2d-28           [-1, 64, 56, 56]             128\n",
      "             ReLU-29           [-1, 64, 56, 56]               0\n",
      "           Conv2d-30           [-1, 64, 56, 56]          36,864\n",
      "      BatchNorm2d-31           [-1, 64, 56, 56]             128\n",
      "             ReLU-32           [-1, 64, 56, 56]               0\n",
      "           Conv2d-33          [-1, 256, 56, 56]          16,384\n",
      "      BatchNorm2d-34          [-1, 256, 56, 56]             512\n",
      "             ReLU-35          [-1, 256, 56, 56]               0\n",
      "       Bottleneck-36          [-1, 256, 56, 56]               0\n",
      "           Conv2d-37          [-1, 128, 56, 56]          32,768\n",
      "      BatchNorm2d-38          [-1, 128, 56, 56]             256\n",
      "             ReLU-39          [-1, 128, 56, 56]               0\n",
      "           Conv2d-40          [-1, 128, 28, 28]         147,456\n",
      "      BatchNorm2d-41          [-1, 128, 28, 28]             256\n",
      "             ReLU-42          [-1, 128, 28, 28]               0\n",
      "           Conv2d-43          [-1, 512, 28, 28]          65,536\n",
      "      BatchNorm2d-44          [-1, 512, 28, 28]           1,024\n",
      "           Conv2d-45          [-1, 512, 28, 28]         131,072\n",
      "      BatchNorm2d-46          [-1, 512, 28, 28]           1,024\n",
      "             ReLU-47          [-1, 512, 28, 28]               0\n",
      "       Bottleneck-48          [-1, 512, 28, 28]               0\n",
      "           Conv2d-49          [-1, 128, 28, 28]          65,536\n",
      "      BatchNorm2d-50          [-1, 128, 28, 28]             256\n",
      "             ReLU-51          [-1, 128, 28, 28]               0\n",
      "           Conv2d-52          [-1, 128, 28, 28]         147,456\n",
      "      BatchNorm2d-53          [-1, 128, 28, 28]             256\n",
      "             ReLU-54          [-1, 128, 28, 28]               0\n",
      "           Conv2d-55          [-1, 512, 28, 28]          65,536\n",
      "      BatchNorm2d-56          [-1, 512, 28, 28]           1,024\n",
      "             ReLU-57          [-1, 512, 28, 28]               0\n",
      "       Bottleneck-58          [-1, 512, 28, 28]               0\n",
      "           Conv2d-59          [-1, 128, 28, 28]          65,536\n",
      "      BatchNorm2d-60          [-1, 128, 28, 28]             256\n",
      "             ReLU-61          [-1, 128, 28, 28]               0\n",
      "           Conv2d-62          [-1, 128, 28, 28]         147,456\n",
      "      BatchNorm2d-63          [-1, 128, 28, 28]             256\n",
      "             ReLU-64          [-1, 128, 28, 28]               0\n",
      "           Conv2d-65          [-1, 512, 28, 28]          65,536\n",
      "      BatchNorm2d-66          [-1, 512, 28, 28]           1,024\n",
      "             ReLU-67          [-1, 512, 28, 28]               0\n",
      "       Bottleneck-68          [-1, 512, 28, 28]               0\n",
      "           Conv2d-69          [-1, 128, 28, 28]          65,536\n",
      "      BatchNorm2d-70          [-1, 128, 28, 28]             256\n",
      "             ReLU-71          [-1, 128, 28, 28]               0\n",
      "           Conv2d-72          [-1, 128, 28, 28]         147,456\n",
      "      BatchNorm2d-73          [-1, 128, 28, 28]             256\n",
      "             ReLU-74          [-1, 128, 28, 28]               0\n",
      "           Conv2d-75          [-1, 512, 28, 28]          65,536\n",
      "      BatchNorm2d-76          [-1, 512, 28, 28]           1,024\n",
      "             ReLU-77          [-1, 512, 28, 28]               0\n",
      "       Bottleneck-78          [-1, 512, 28, 28]               0\n",
      "           Conv2d-79          [-1, 256, 28, 28]         131,072\n",
      "      BatchNorm2d-80          [-1, 256, 28, 28]             512\n",
      "             ReLU-81          [-1, 256, 28, 28]               0\n",
      "           Conv2d-82          [-1, 256, 28, 28]         589,824\n",
      "      BatchNorm2d-83          [-1, 256, 28, 28]             512\n",
      "             ReLU-84          [-1, 256, 28, 28]               0\n",
      "           Conv2d-85         [-1, 1024, 28, 28]         262,144\n",
      "      BatchNorm2d-86         [-1, 1024, 28, 28]           2,048\n",
      "           Conv2d-87         [-1, 1024, 28, 28]         524,288\n",
      "      BatchNorm2d-88         [-1, 1024, 28, 28]           2,048\n",
      "             ReLU-89         [-1, 1024, 28, 28]               0\n",
      "       Bottleneck-90         [-1, 1024, 28, 28]               0\n",
      "           Conv2d-91          [-1, 256, 28, 28]         262,144\n",
      "      BatchNorm2d-92          [-1, 256, 28, 28]             512\n",
      "             ReLU-93          [-1, 256, 28, 28]               0\n",
      "           Conv2d-94          [-1, 256, 28, 28]         589,824\n",
      "      BatchNorm2d-95          [-1, 256, 28, 28]             512\n",
      "             ReLU-96          [-1, 256, 28, 28]               0\n",
      "           Conv2d-97         [-1, 1024, 28, 28]         262,144\n",
      "      BatchNorm2d-98         [-1, 1024, 28, 28]           2,048\n",
      "             ReLU-99         [-1, 1024, 28, 28]               0\n",
      "      Bottleneck-100         [-1, 1024, 28, 28]               0\n",
      "          Conv2d-101          [-1, 256, 28, 28]         262,144\n",
      "     BatchNorm2d-102          [-1, 256, 28, 28]             512\n",
      "            ReLU-103          [-1, 256, 28, 28]               0\n",
      "          Conv2d-104          [-1, 256, 28, 28]         589,824\n",
      "     BatchNorm2d-105          [-1, 256, 28, 28]             512\n",
      "            ReLU-106          [-1, 256, 28, 28]               0\n",
      "          Conv2d-107         [-1, 1024, 28, 28]         262,144\n",
      "     BatchNorm2d-108         [-1, 1024, 28, 28]           2,048\n",
      "            ReLU-109         [-1, 1024, 28, 28]               0\n",
      "      Bottleneck-110         [-1, 1024, 28, 28]               0\n",
      "          Conv2d-111          [-1, 256, 28, 28]         262,144\n",
      "     BatchNorm2d-112          [-1, 256, 28, 28]             512\n",
      "            ReLU-113          [-1, 256, 28, 28]               0\n",
      "          Conv2d-114          [-1, 256, 28, 28]         589,824\n",
      "     BatchNorm2d-115          [-1, 256, 28, 28]             512\n",
      "            ReLU-116          [-1, 256, 28, 28]               0\n",
      "          Conv2d-117         [-1, 1024, 28, 28]         262,144\n",
      "     BatchNorm2d-118         [-1, 1024, 28, 28]           2,048\n",
      "            ReLU-119         [-1, 1024, 28, 28]               0\n",
      "      Bottleneck-120         [-1, 1024, 28, 28]               0\n",
      "          Conv2d-121          [-1, 256, 28, 28]         262,144\n",
      "     BatchNorm2d-122          [-1, 256, 28, 28]             512\n",
      "            ReLU-123          [-1, 256, 28, 28]               0\n",
      "          Conv2d-124          [-1, 256, 28, 28]         589,824\n",
      "     BatchNorm2d-125          [-1, 256, 28, 28]             512\n",
      "            ReLU-126          [-1, 256, 28, 28]               0\n",
      "          Conv2d-127         [-1, 1024, 28, 28]         262,144\n",
      "     BatchNorm2d-128         [-1, 1024, 28, 28]           2,048\n",
      "            ReLU-129         [-1, 1024, 28, 28]               0\n",
      "      Bottleneck-130         [-1, 1024, 28, 28]               0\n",
      "          Conv2d-131          [-1, 256, 28, 28]         262,144\n",
      "     BatchNorm2d-132          [-1, 256, 28, 28]             512\n",
      "            ReLU-133          [-1, 256, 28, 28]               0\n",
      "          Conv2d-134          [-1, 256, 28, 28]         589,824\n",
      "     BatchNorm2d-135          [-1, 256, 28, 28]             512\n",
      "            ReLU-136          [-1, 256, 28, 28]               0\n",
      "          Conv2d-137         [-1, 1024, 28, 28]         262,144\n",
      "     BatchNorm2d-138         [-1, 1024, 28, 28]           2,048\n",
      "            ReLU-139         [-1, 1024, 28, 28]               0\n",
      "      Bottleneck-140         [-1, 1024, 28, 28]               0\n",
      "          Conv2d-141          [-1, 512, 28, 28]         524,288\n",
      "     BatchNorm2d-142          [-1, 512, 28, 28]           1,024\n",
      "            ReLU-143          [-1, 512, 28, 28]               0\n",
      "          Conv2d-144          [-1, 512, 28, 28]       2,359,296\n",
      "     BatchNorm2d-145          [-1, 512, 28, 28]           1,024\n",
      "            ReLU-146          [-1, 512, 28, 28]               0\n",
      "          Conv2d-147         [-1, 2048, 28, 28]       1,048,576\n",
      "     BatchNorm2d-148         [-1, 2048, 28, 28]           4,096\n",
      "          Conv2d-149         [-1, 2048, 28, 28]       2,097,152\n",
      "     BatchNorm2d-150         [-1, 2048, 28, 28]           4,096\n",
      "            ReLU-151         [-1, 2048, 28, 28]               0\n",
      "      Bottleneck-152         [-1, 2048, 28, 28]               0\n",
      "          Conv2d-153          [-1, 512, 28, 28]       1,048,576\n",
      "     BatchNorm2d-154          [-1, 512, 28, 28]           1,024\n",
      "            ReLU-155          [-1, 512, 28, 28]               0\n",
      "          Conv2d-156          [-1, 512, 28, 28]       2,359,296\n",
      "     BatchNorm2d-157          [-1, 512, 28, 28]           1,024\n",
      "            ReLU-158          [-1, 512, 28, 28]               0\n",
      "          Conv2d-159         [-1, 2048, 28, 28]       1,048,576\n",
      "     BatchNorm2d-160         [-1, 2048, 28, 28]           4,096\n",
      "            ReLU-161         [-1, 2048, 28, 28]               0\n",
      "      Bottleneck-162         [-1, 2048, 28, 28]               0\n",
      "          Conv2d-163          [-1, 512, 28, 28]       1,048,576\n",
      "     BatchNorm2d-164          [-1, 512, 28, 28]           1,024\n",
      "            ReLU-165          [-1, 512, 28, 28]               0\n",
      "          Conv2d-166          [-1, 512, 28, 28]       2,359,296\n",
      "     BatchNorm2d-167          [-1, 512, 28, 28]           1,024\n",
      "            ReLU-168          [-1, 512, 28, 28]               0\n",
      "          Conv2d-169         [-1, 2048, 28, 28]       1,048,576\n",
      "     BatchNorm2d-170         [-1, 2048, 28, 28]           4,096\n",
      "            ReLU-171         [-1, 2048, 28, 28]               0\n",
      "      Bottleneck-172         [-1, 2048, 28, 28]               0\n",
      "IntermediateLayerGetter-173         [-1, 2048, 28, 28]               0\n",
      "          Conv2d-174          [-1, 512, 28, 28]       9,437,184\n",
      "     BatchNorm2d-175          [-1, 512, 28, 28]           1,024\n",
      "            ReLU-176          [-1, 512, 28, 28]               0\n",
      "         Dropout-177          [-1, 512, 28, 28]               0\n",
      "          Conv2d-178           [-1, 30, 28, 28]          15,390\n",
      "             FCN-179         [-1, 30, 224, 224]               0\n",
      "================================================================\n",
      "Total params: 32,961,630\n",
      "Trainable params: 9,453,598\n",
      "Non-trainable params: 23,508,032\n",
      "----------------------------------------------------------------\n",
      "Input size (MB): 0.57\n",
      "Forward/backward pass size (MB): 690.77\n",
      "Params size (MB): 125.74\n",
      "Estimated Total Size (MB): 817.09\n",
      "----------------------------------------------------------------\n",
      "\n"
     ]
    },
    {
     "data": {
      "text/plain": [
       "(tensor(32961630), tensor(9453598))"
      ]
     },
     "execution_count": 86,
     "metadata": {},
     "output_type": "execute_result"
    }
   ],
   "source": [
    "summary(fcn1.model, (3, 224, 224))"
   ]
  },
  {
   "cell_type": "code",
   "execution_count": null,
   "id": "1df84a3e-218e-4284-b0a0-4bdc18a31444",
   "metadata": {},
   "outputs": [],
   "source": []
  }
 ],
 "metadata": {
  "kernelspec": {
   "display_name": "Python 3 (ipykernel)",
   "language": "python",
   "name": "python3"
  },
  "language_info": {
   "codemirror_mode": {
    "name": "ipython",
    "version": 3
   },
   "file_extension": ".py",
   "mimetype": "text/x-python",
   "name": "python",
   "nbconvert_exporter": "python",
   "pygments_lexer": "ipython3",
   "version": "3.9.5"
  }
 },
 "nbformat": 4,
 "nbformat_minor": 5
}
