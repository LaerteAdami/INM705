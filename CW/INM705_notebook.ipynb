{
 "cells": [
  {
   "cell_type": "markdown",
   "id": "0c8a28a6-4b39-4793-b3a1-4dfa82a97d02",
   "metadata": {},
   "source": [
    "# INM705 Deep Learning for Image analysis"
   ]
  },
  {
   "cell_type": "markdown",
   "id": "26f16a5b-deaf-4d41-9bca-dd59ee4d2381",
   "metadata": {},
   "source": [
    "Authors: Laerte Adami - "
   ]
  },
  {
   "cell_type": "code",
   "execution_count": 1,
   "id": "649d2877-c171-47ff-969d-1920abe9ab62",
   "metadata": {},
   "outputs": [
    {
     "ename": "SyntaxError",
     "evalue": "invalid syntax (3769422433.py, line 1)",
     "output_type": "error",
     "traceback": [
      "\u001b[0;36m  File \u001b[0;32m\"/tmp/ipykernel_7172/3769422433.py\"\u001b[0;36m, line \u001b[0;32m1\u001b[0m\n\u001b[0;31m    curl https://sdk.cloud.google.com | bash\u001b[0m\n\u001b[0m         ^\u001b[0m\n\u001b[0;31mSyntaxError\u001b[0m\u001b[0;31m:\u001b[0m invalid syntax\n"
     ]
    }
   ],
   "source": [
    "curl https://sdk.cloud.google.com | bash"
   ]
  },
  {
   "cell_type": "code",
   "execution_count": null,
   "id": "ccd8d310-4e2c-431e-85b8-56dafa0f2579",
   "metadata": {},
   "outputs": [],
   "source": []
  }
 ],
 "metadata": {
  "kernelspec": {
   "display_name": "Python 3 (ipykernel)",
   "language": "python",
   "name": "python3"
  },
  "language_info": {
   "codemirror_mode": {
    "name": "ipython",
    "version": 3
   },
   "file_extension": ".py",
   "mimetype": "text/x-python",
   "name": "python",
   "nbconvert_exporter": "python",
   "pygments_lexer": "ipython3",
   "version": "3.9.5"
  }
 },
 "nbformat": 4,
 "nbformat_minor": 5
}
