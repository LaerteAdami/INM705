{
 "cells": [
  {
   "cell_type": "markdown",
   "id": "53f9aa5f-1e91-43f4-aeb4-b9446ac3159c",
   "metadata": {
    "tags": []
   },
   "source": [
    "# INM705 - Deep Learning for Image Analysis\n",
    "\n",
    "Authors: Laerte Adami - Alperen Erol"
   ]
  },
  {
   "cell_type": "code",
   "execution_count": 1,
   "id": "8e30d5ba-cb54-4659-941e-c4b2b0d785c9",
   "metadata": {},
   "outputs": [
    {
     "name": "stderr",
     "output_type": "stream",
     "text": [
      "/users/adcy359/.local/lib/python3.9/site-packages/torchvision/io/image.py:13: UserWarning: Failed to load image Python extension: libtorch_cuda_cu.so: cannot open shared object file: No such file or directory\n",
      "  warn(f\"Failed to load image Python extension: {e}\")\n"
     ]
    }
   ],
   "source": [
    "# https://github.com/pochih/FCN-pytorch/blob/master/python/fcn.py\n",
    "\n",
    "# Custom functionalities\n",
    "from Utilities.classHandler import CityscapesClass\n",
    "from Utilities.datasetHandler import CityscapesDataset, visualise_and_save\n",
    "from Utilities.modelHandler import modelFCN\n",
    "from Utilities.metrics import metrics_per_class\n",
    "from Utilities.customLoss import DiceLoss, DiceBCELoss\n",
    "from Utilities.myModel import modelConstructor\n",
    "\n",
    "import os\n",
    "import time\n",
    "import matplotlib.pyplot as plt\n",
    "import torch\n",
    "from torch import nn\n",
    "from torch.optim import Adam\n",
    "import torch.nn.functional as F\n",
    "from torch.nn import CrossEntropyLoss\n",
    "from torch.utils.data import DataLoader\n",
    "from torchvision.models import vgg16\n",
    "from torchvision.models import ResNet50_Weights\n",
    "from torchvision.utils import draw_segmentation_masks\n",
    "from torchvision.transforms.functional import to_pil_image\n",
    "from torchvision.models.segmentation import fcn_resnet50, FCN_ResNet50_Weights\n",
    "\n",
    "device = torch.device('cpu')\n",
    "if torch.cuda.is_available(): device = torch.device('cuda')\n",
    "torch.cuda.empty_cache()\n",
    "\n",
    "plt.rcParams['font.size'] = 17"
   ]
  },
  {
   "cell_type": "markdown",
   "id": "04d2c447-fc4a-42d4-9f7b-56cb365ca21e",
   "metadata": {},
   "source": [
    "## Data"
   ]
  },
  {
   "cell_type": "code",
   "execution_count": 2,
   "id": "f2002b42-ba95-40eb-b42d-5a287daccfc7",
   "metadata": {},
   "outputs": [
    {
     "name": "stdout",
     "output_type": "stream",
     "text": [
      "Training set dimension: 174\n"
     ]
    }
   ],
   "source": [
    "### DATASET ###\n",
    "classes = CityscapesClass(\"10 classes\") # Pick a case: \"4 classes\", \"6 classes\", \"10 classes\"\n",
    "\n",
    "img_directory = '/mnt/data/course/psarin/inm705/leftImg8bit'\n",
    "ground_truth_directory = '/mnt/data/course/psarin/inm705/gtFine_trainvaltest/gtFine'\n",
    "n_classes = len(classes.labels) \n",
    "resize_dimensions = (128, 256)\n",
    "\n",
    "dataset_args = {'image_directory' : img_directory,\n",
    "                'gt_directory' : ground_truth_directory,\n",
    "                'trainId' : classes.trainId,\n",
    "                'colors' : classes.colors,\n",
    "                'num_classes' : n_classes,\n",
    "                'resize_dimensions' : resize_dimensions}\n",
    "\n",
    "# Import datasets\n",
    "dt_train = CityscapesDataset(phase = 'train', **dataset_args)\n",
    "\n",
    "dt_val = CityscapesDataset(phase = 'val', **dataset_args)\n",
    "\n",
    "dt_test = CityscapesDataset(phase = 'test', **dataset_args)\n",
    "\n",
    "# Initialise dataloaders\n",
    "dataloader_args = {'batch_size':32, 'shuffle':True}\n",
    "\n",
    "## TRAIN dataset\n",
    "trainloader = DataLoader(dt_train, **dataloader_args)\n",
    "## VAL dataset\n",
    "valloader = DataLoader(dt_val, batch_size = 32)  \n",
    "## TEST dataset\n",
    "testloader = DataLoader(dt_test, batch_size=10)  \n",
    "\n",
    "print(\"Training set dimension: {}\".format(dt_train.__len__()))"
   ]
  },
  {
   "cell_type": "code",
   "execution_count": 3,
   "id": "02cccf07-9642-4475-8689-64b1f7fa55d8",
   "metadata": {},
   "outputs": [
    {
     "ename": "AttributeError",
     "evalue": "'_OpNamespace' 'image' object has no attribute 'read_file'",
     "output_type": "error",
     "traceback": [
      "\u001b[0;31m---------------------------------------------------------------------------\u001b[0m",
      "\u001b[0;31mRuntimeError\u001b[0m                              Traceback (most recent call last)",
      "\u001b[0;32m~/.local/lib/python3.9/site-packages/torch/_ops.py\u001b[0m in \u001b[0;36m__getattr__\u001b[0;34m(self, op_name)\u001b[0m\n\u001b[1;32m    564\u001b[0m         \u001b[0;32mtry\u001b[0m\u001b[0;34m:\u001b[0m\u001b[0;34m\u001b[0m\u001b[0;34m\u001b[0m\u001b[0m\n\u001b[0;32m--> 565\u001b[0;31m             \u001b[0mop\u001b[0m\u001b[0;34m,\u001b[0m \u001b[0moverload_names\u001b[0m \u001b[0;34m=\u001b[0m \u001b[0mtorch\u001b[0m\u001b[0;34m.\u001b[0m\u001b[0m_C\u001b[0m\u001b[0;34m.\u001b[0m\u001b[0m_jit_get_operation\u001b[0m\u001b[0;34m(\u001b[0m\u001b[0mqualified_op_name\u001b[0m\u001b[0;34m)\u001b[0m\u001b[0;34m\u001b[0m\u001b[0;34m\u001b[0m\u001b[0m\n\u001b[0m\u001b[1;32m    566\u001b[0m         \u001b[0;32mexcept\u001b[0m \u001b[0mRuntimeError\u001b[0m \u001b[0;32mas\u001b[0m \u001b[0me\u001b[0m\u001b[0;34m:\u001b[0m\u001b[0;34m\u001b[0m\u001b[0;34m\u001b[0m\u001b[0m\n",
      "\u001b[0;31mRuntimeError\u001b[0m: No such operator image::read_file",
      "\nThe above exception was the direct cause of the following exception:\n",
      "\u001b[0;31mAttributeError\u001b[0m                            Traceback (most recent call last)",
      "\u001b[0;32m/tmp/ipykernel_210299/3460750238.py\u001b[0m in \u001b[0;36m<module>\u001b[0;34m\u001b[0m\n\u001b[1;32m      1\u001b[0m \u001b[0mid_image\u001b[0m \u001b[0;34m=\u001b[0m \u001b[0;36m12\u001b[0m\u001b[0;34m\u001b[0m\u001b[0;34m\u001b[0m\u001b[0m\n\u001b[1;32m      2\u001b[0m \u001b[0;31m# Check dataset\u001b[0m\u001b[0;34m\u001b[0m\u001b[0;34m\u001b[0m\u001b[0;34m\u001b[0m\u001b[0m\n\u001b[0;32m----> 3\u001b[0;31m \u001b[0mX_viz\u001b[0m\u001b[0;34m,\u001b[0m \u001b[0mX_viz_norm\u001b[0m \u001b[0;34m=\u001b[0m \u001b[0mdt_train\u001b[0m\u001b[0;34m.\u001b[0m\u001b[0mget_image_visualization\u001b[0m\u001b[0;34m(\u001b[0m\u001b[0mid_image\u001b[0m\u001b[0;34m)\u001b[0m\u001b[0;34m\u001b[0m\u001b[0;34m\u001b[0m\u001b[0m\n\u001b[0m\u001b[1;32m      4\u001b[0m \u001b[0mgt_mask\u001b[0m \u001b[0;34m=\u001b[0m \u001b[0mdt_train\u001b[0m\u001b[0;34m.\u001b[0m\u001b[0mget_ground_truth\u001b[0m\u001b[0;34m(\u001b[0m\u001b[0mid_image\u001b[0m\u001b[0;34m)\u001b[0m\u001b[0;34m\u001b[0m\u001b[0;34m\u001b[0m\u001b[0m\n\u001b[1;32m      5\u001b[0m \u001b[0mgt_mask\u001b[0m \u001b[0;34m=\u001b[0m \u001b[0mgt_mask\u001b[0m\u001b[0;34m.\u001b[0m\u001b[0margmax\u001b[0m\u001b[0;34m(\u001b[0m\u001b[0mdim\u001b[0m\u001b[0;34m=\u001b[0m\u001b[0;36m0\u001b[0m\u001b[0;34m)\u001b[0m\u001b[0;34m\u001b[0m\u001b[0;34m\u001b[0m\u001b[0m\n",
      "\u001b[0;32m~/INM705/CW/Utilities/datasetHandler.py\u001b[0m in \u001b[0;36mget_image_visualization\u001b[0;34m(self, idx)\u001b[0m\n\u001b[1;32m    111\u001b[0m \u001b[0;34m\u001b[0m\u001b[0m\n\u001b[1;32m    112\u001b[0m         \u001b[0mtresize_\u001b[0m \u001b[0;34m=\u001b[0m \u001b[0mtransforms\u001b[0m\u001b[0;34m.\u001b[0m\u001b[0mResize\u001b[0m\u001b[0;34m(\u001b[0m\u001b[0mself\u001b[0m\u001b[0;34m.\u001b[0m\u001b[0mre_dim\u001b[0m\u001b[0;34m)\u001b[0m\u001b[0;34m\u001b[0m\u001b[0;34m\u001b[0m\u001b[0m\n\u001b[0;32m--> 113\u001b[0;31m         \u001b[0mimg\u001b[0m \u001b[0;34m=\u001b[0m \u001b[0mread_image\u001b[0m\u001b[0;34m(\u001b[0m\u001b[0mself\u001b[0m\u001b[0;34m.\u001b[0m\u001b[0mimg_paths_list\u001b[0m\u001b[0;34m[\u001b[0m\u001b[0midx\u001b[0m\u001b[0;34m]\u001b[0m\u001b[0;34m)\u001b[0m\u001b[0;34m\u001b[0m\u001b[0;34m\u001b[0m\u001b[0m\n\u001b[0m\u001b[1;32m    114\u001b[0m         \u001b[0;32mreturn\u001b[0m \u001b[0mtresize_\u001b[0m\u001b[0;34m(\u001b[0m\u001b[0mimg\u001b[0m\u001b[0;34m)\u001b[0m\u001b[0;34m,\u001b[0m \u001b[0mself\u001b[0m\u001b[0;34m.\u001b[0m\u001b[0mt_\u001b[0m\u001b[0;34m(\u001b[0m\u001b[0mimg\u001b[0m\u001b[0;34m)\u001b[0m\u001b[0;34m\u001b[0m\u001b[0;34m\u001b[0m\u001b[0m\n\u001b[1;32m    115\u001b[0m \u001b[0;34m\u001b[0m\u001b[0m\n",
      "\u001b[0;32m~/.local/lib/python3.9/site-packages/torchvision/io/image.py\u001b[0m in \u001b[0;36mread_image\u001b[0;34m(path, mode)\u001b[0m\n\u001b[1;32m    251\u001b[0m     \u001b[0;32mif\u001b[0m \u001b[0;32mnot\u001b[0m \u001b[0mtorch\u001b[0m\u001b[0;34m.\u001b[0m\u001b[0mjit\u001b[0m\u001b[0;34m.\u001b[0m\u001b[0mis_scripting\u001b[0m\u001b[0;34m(\u001b[0m\u001b[0;34m)\u001b[0m \u001b[0;32mand\u001b[0m \u001b[0;32mnot\u001b[0m \u001b[0mtorch\u001b[0m\u001b[0;34m.\u001b[0m\u001b[0mjit\u001b[0m\u001b[0;34m.\u001b[0m\u001b[0mis_tracing\u001b[0m\u001b[0;34m(\u001b[0m\u001b[0;34m)\u001b[0m\u001b[0;34m:\u001b[0m\u001b[0;34m\u001b[0m\u001b[0;34m\u001b[0m\u001b[0m\n\u001b[1;32m    252\u001b[0m         \u001b[0m_log_api_usage_once\u001b[0m\u001b[0;34m(\u001b[0m\u001b[0mread_image\u001b[0m\u001b[0;34m)\u001b[0m\u001b[0;34m\u001b[0m\u001b[0;34m\u001b[0m\u001b[0m\n\u001b[0;32m--> 253\u001b[0;31m     \u001b[0mdata\u001b[0m \u001b[0;34m=\u001b[0m \u001b[0mread_file\u001b[0m\u001b[0;34m(\u001b[0m\u001b[0mpath\u001b[0m\u001b[0;34m)\u001b[0m\u001b[0;34m\u001b[0m\u001b[0;34m\u001b[0m\u001b[0m\n\u001b[0m\u001b[1;32m    254\u001b[0m     \u001b[0;32mreturn\u001b[0m \u001b[0mdecode_image\u001b[0m\u001b[0;34m(\u001b[0m\u001b[0mdata\u001b[0m\u001b[0;34m,\u001b[0m \u001b[0mmode\u001b[0m\u001b[0;34m)\u001b[0m\u001b[0;34m\u001b[0m\u001b[0;34m\u001b[0m\u001b[0m\n\u001b[1;32m    255\u001b[0m \u001b[0;34m\u001b[0m\u001b[0m\n",
      "\u001b[0;32m~/.local/lib/python3.9/site-packages/torchvision/io/image.py\u001b[0m in \u001b[0;36mread_file\u001b[0;34m(path)\u001b[0m\n\u001b[1;32m     45\u001b[0m     \u001b[0;32mif\u001b[0m \u001b[0;32mnot\u001b[0m \u001b[0mtorch\u001b[0m\u001b[0;34m.\u001b[0m\u001b[0mjit\u001b[0m\u001b[0;34m.\u001b[0m\u001b[0mis_scripting\u001b[0m\u001b[0;34m(\u001b[0m\u001b[0;34m)\u001b[0m \u001b[0;32mand\u001b[0m \u001b[0;32mnot\u001b[0m \u001b[0mtorch\u001b[0m\u001b[0;34m.\u001b[0m\u001b[0mjit\u001b[0m\u001b[0;34m.\u001b[0m\u001b[0mis_tracing\u001b[0m\u001b[0;34m(\u001b[0m\u001b[0;34m)\u001b[0m\u001b[0;34m:\u001b[0m\u001b[0;34m\u001b[0m\u001b[0;34m\u001b[0m\u001b[0m\n\u001b[1;32m     46\u001b[0m         \u001b[0m_log_api_usage_once\u001b[0m\u001b[0;34m(\u001b[0m\u001b[0mread_file\u001b[0m\u001b[0;34m)\u001b[0m\u001b[0;34m\u001b[0m\u001b[0;34m\u001b[0m\u001b[0m\n\u001b[0;32m---> 47\u001b[0;31m     \u001b[0mdata\u001b[0m \u001b[0;34m=\u001b[0m \u001b[0mtorch\u001b[0m\u001b[0;34m.\u001b[0m\u001b[0mops\u001b[0m\u001b[0;34m.\u001b[0m\u001b[0mimage\u001b[0m\u001b[0;34m.\u001b[0m\u001b[0mread_file\u001b[0m\u001b[0;34m(\u001b[0m\u001b[0mpath\u001b[0m\u001b[0;34m)\u001b[0m\u001b[0;34m\u001b[0m\u001b[0;34m\u001b[0m\u001b[0m\n\u001b[0m\u001b[1;32m     48\u001b[0m     \u001b[0;32mreturn\u001b[0m \u001b[0mdata\u001b[0m\u001b[0;34m\u001b[0m\u001b[0;34m\u001b[0m\u001b[0m\n\u001b[1;32m     49\u001b[0m \u001b[0;34m\u001b[0m\u001b[0m\n",
      "\u001b[0;32m~/.local/lib/python3.9/site-packages/torch/_ops.py\u001b[0m in \u001b[0;36m__getattr__\u001b[0;34m(self, op_name)\u001b[0m\n\u001b[1;32m    567\u001b[0m             \u001b[0;31m# Turn this into AttributeError so getattr(obj, key, default)\u001b[0m\u001b[0;34m\u001b[0m\u001b[0;34m\u001b[0m\u001b[0;34m\u001b[0m\u001b[0m\n\u001b[1;32m    568\u001b[0m             \u001b[0;31m# works (this is called by TorchScript with __origin__)\u001b[0m\u001b[0;34m\u001b[0m\u001b[0;34m\u001b[0m\u001b[0;34m\u001b[0m\u001b[0m\n\u001b[0;32m--> 569\u001b[0;31m             raise AttributeError(\n\u001b[0m\u001b[1;32m    570\u001b[0m                 \u001b[0;34mf\"'_OpNamespace' '{self.name}' object has no attribute '{op_name}'\"\u001b[0m\u001b[0;34m\u001b[0m\u001b[0;34m\u001b[0m\u001b[0m\n\u001b[1;32m    571\u001b[0m             ) from e\n",
      "\u001b[0;31mAttributeError\u001b[0m: '_OpNamespace' 'image' object has no attribute 'read_file'"
     ]
    }
   ],
   "source": [
    "id_image = 12\n",
    "# Check dataset\n",
    "X_viz, X_viz_norm = dt_train.get_image_visualization(id_image)\n",
    "gt_mask = dt_train.get_ground_truth(id_image)\n",
    "gt_mask = gt_mask.argmax(dim=0)\n",
    "\n",
    "bool_masks = gt_mask == torch.arange(n_classes)[:, None, None]\n",
    "\n",
    "sm = draw_segmentation_masks(X_viz, masks=bool_masks, alpha=0.6, colors = dt_train.colors)\n",
    "to_pil_image(sm)"
   ]
  },
  {
   "cell_type": "markdown",
   "id": "5e509130-1a8e-44a5-be8a-dd1de76cf784",
   "metadata": {},
   "source": [
    "## Model"
   ]
  },
  {
   "cell_type": "markdown",
   "id": "a43d177b-c761-4598-bf8b-426349305309",
   "metadata": {},
   "source": [
    "Models available:\n",
    "\n",
    "- Resnet50 backbone\n",
    "- Vgg16 backbone"
   ]
  },
  {
   "cell_type": "code",
   "execution_count": 6,
   "id": "aa8ac2cf-9156-4e6e-a76d-7f5697dbf277",
   "metadata": {},
   "outputs": [],
   "source": [
    "## INITIALISE EXPERIMENT ##\n",
    "exp_name = \"TEST_NAME\"\n",
    "\n",
    "## Create results directory\n",
    "results_path = os.path.join(\"Results/\", exp_name)\n",
    "checkpoint_path = os.path.join(\"Checkpoints/\", exp_name)\n",
    "\n",
    "if not os.path.isdir(results_path):\n",
    "    os.mkdir(results_path)\n",
    "    os.mkdir(checkpoint_path)\n",
    "else:\n",
    "    os.mkdir(results_path+\"_v2\")\n",
    "    os.mkdir(checkpoint_path+\"_v2\")"
   ]
  },
  {
   "cell_type": "markdown",
   "id": "fe7a773b-294b-4597-a280-96ef5afae49e",
   "metadata": {},
   "source": [
    "### Resnet model - Simple decoder"
   ]
  },
  {
   "cell_type": "code",
   "execution_count": 4,
   "id": "9f6bcd05-a084-4864-8d00-8c6cf834d057",
   "metadata": {},
   "outputs": [],
   "source": [
    "##MODEL Pretrained with RESNET 50\n",
    "#Initialize model with the best available weights\n",
    "FCN_weights = FCN_ResNet50_Weights.DEFAULT\n",
    "backbone_weights = ResNet50_Weights.DEFAULT\n",
    "\n",
    "#Initialise backbone weights\n",
    "model = fcn_resnet50(backbone_weights=backbone_weights).to(device)\n",
    "#model = fcn_resnet50().to(device)\n",
    "\n",
    "model.backbone.requires_grad_(True)\n",
    "model.classifier[4] = nn.Conv2d(512, n_classes, kernel_size=(1, 1), stride=(1, 1))\n",
    "model.classifier.requires_grad_(True);"
   ]
  },
  {
   "cell_type": "markdown",
   "id": "f427f3c3-4776-4b74-b198-ba4588751ee4",
   "metadata": {},
   "source": [
    "### Resnet model - Improved decoder"
   ]
  },
  {
   "cell_type": "markdown",
   "id": "3d8d1acf-bbdc-4d51-9b35-bcfb4d286171",
   "metadata": {},
   "source": [
    "Source for the improved architecture: https://github.com/pochih/FCN-pytorch/blob/master/python/fcn.py"
   ]
  },
  {
   "cell_type": "code",
   "execution_count": null,
   "id": "e19bcf94-3f24-4334-9bee-7b1e603e353b",
   "metadata": {},
   "outputs": [],
   "source": [
    "fcn_backbone = fcn_resnet50()\n",
    "\n",
    "improved_decoder = nn.Sequential(nn.ReLU(),\n",
    "                                 nn.ConvTranspose2d(2048, 512, kernel_size=3, stride=2, padding=1, dilation=1, output_padding=1),\n",
    "                                 nn.BatchNorm2d(512),\n",
    "                                 nn.ConvTranspose2d(512, 256, kernel_size=3, stride=2, padding=1, dilation=1, output_padding=1),\n",
    "                                 nn.BatchNorm2d(256),\n",
    "                                 nn.Conv2d(256, 128, kernel_size=1),\n",
    "                                 nn.BatchNorm2d(128),\n",
    "                                 nn.ConvTranspose2d(128, 64, kernel_size=3, stride=2, padding=1, dilation=1, output_padding=1),\n",
    "                                 nn.BatchNorm2d(64),\n",
    "                                 nn.Conv2d(64, n_classes, kernel_size=1))\n",
    "\n",
    "model = modelConstructor(fcn_backbone.backbone, improved_decoder)"
   ]
  },
  {
   "cell_type": "markdown",
   "id": "9b309853-c2cc-4374-a44e-7710669ff36c",
   "metadata": {},
   "source": [
    "### Resnet model - Modified backbone and improved decoder "
   ]
  },
  {
   "cell_type": "code",
   "execution_count": 8,
   "id": "129e6e97-22c9-4ef0-ae3c-b15308bd1520",
   "metadata": {},
   "outputs": [],
   "source": [
    "fcn_backbone = fcn_resnet50().backbone\n",
    "\n",
    "# Remove last layer in the Resnet backbone\n",
    "fcn_backbone_mod = nn.Sequential(*[fcn_backbone.conv1,\n",
    "                                   fcn_backbone.bn1, \n",
    "                                   fcn_backbone.relu, \n",
    "                                   fcn_backbone.maxpool, \n",
    "                                   fcn_backbone.layer1, \n",
    "                                   fcn_backbone.layer2, \n",
    "                                   fcn_backbone.layer3])\n",
    "\n",
    "improved_decoder = nn.Sequential(nn.ReLU(),\n",
    "                                 nn.ConvTranspose2d(1024, 512, kernel_size=3, stride=2, padding=1, dilation=1, output_padding=1),\n",
    "                                 nn.BatchNorm2d(512),\n",
    "                                 nn.ConvTranspose2d(512, 256, kernel_size=3, stride=2, padding=1, dilation=1, output_padding=1),\n",
    "                                 nn.BatchNorm2d(256),\n",
    "                                 nn.Conv2d(256, 128, kernel_size=1),\n",
    "                                 nn.BatchNorm2d(128),\n",
    "                                 nn.ConvTranspose2d(128, 64, kernel_size=3, stride=2, padding=1, dilation=1, output_padding=1),\n",
    "                                 nn.BatchNorm2d(64),\n",
    "                                 nn.Conv2d(64, n_classes, kernel_size=1))\n",
    "\n",
    "model = modelConstructor(fcn_backbone_mod, improved_decoder)"
   ]
  },
  {
   "cell_type": "markdown",
   "id": "3c2b61c2-ee2c-4027-b6a6-286d25151dbf",
   "metadata": {},
   "source": [
    "### VGG model - Simple decoder"
   ]
  },
  {
   "cell_type": "code",
   "execution_count": 9,
   "id": "ef6276f7-aade-4db8-8194-15ec09368761",
   "metadata": {
    "jp-MarkdownHeadingCollapsed": true,
    "tags": []
   },
   "outputs": [],
   "source": [
    "#Define backbone\n",
    "vgg = vgg16() \n",
    "vgg_backbone = vgg.features\n",
    "\n",
    "#Define decoder\n",
    "fcn = fcn_resnet50()\n",
    "\n",
    "#Adapt FCN simple decoder \n",
    "fcn_classifier = fcn.classifier\n",
    "fcn_classifier[0] = nn.Conv2d(512, 256, kernel_size=(3, 3), stride=(1, 1), padding=(1, 1), bias=False)\n",
    "fcn_classifier[1] = nn.BatchNorm2d(256, eps=1e-05, momentum=0.1, affine=True, track_running_stats=True)\n",
    "fcn_classifier[4] = nn.Conv2d(256, n_classes, kernel_size=(3, 3), stride=(1, 1), padding=(1, 1), bias=False)\n",
    "\n",
    "model = modelConstructor(vgg_backbone, fcn_classifier, resize_dimensions)"
   ]
  },
  {
   "cell_type": "markdown",
   "id": "f682934b-1026-4beb-b943-d2d5ffed6f2b",
   "metadata": {
    "tags": []
   },
   "source": [
    "### VGG model - Improved decoder"
   ]
  },
  {
   "cell_type": "code",
   "execution_count": 3,
   "id": "89dc80e7-3e58-4db2-abfd-c448df1cb16c",
   "metadata": {},
   "outputs": [
    {
     "ename": "NameError",
     "evalue": "name 'vgg16' is not defined",
     "output_type": "error",
     "traceback": [
      "\u001b[0;31m---------------------------------------------------------------------------\u001b[0m",
      "\u001b[0;31mNameError\u001b[0m                                 Traceback (most recent call last)",
      "\u001b[0;32m/tmp/ipykernel_115924/2653691935.py\u001b[0m in \u001b[0;36m<module>\u001b[0;34m\u001b[0m\n\u001b[1;32m      1\u001b[0m \u001b[0;31m#Define backbone\u001b[0m\u001b[0;34m\u001b[0m\u001b[0;34m\u001b[0m\u001b[0;34m\u001b[0m\u001b[0m\n\u001b[0;32m----> 2\u001b[0;31m \u001b[0mvgg\u001b[0m \u001b[0;34m=\u001b[0m \u001b[0mvgg16\u001b[0m\u001b[0;34m(\u001b[0m\u001b[0;34m)\u001b[0m\u001b[0;34m\u001b[0m\u001b[0;34m\u001b[0m\u001b[0m\n\u001b[0m\u001b[1;32m      3\u001b[0m \u001b[0mvgg_backbone\u001b[0m \u001b[0;34m=\u001b[0m \u001b[0mvgg\u001b[0m\u001b[0;34m.\u001b[0m\u001b[0mfeatures\u001b[0m\u001b[0;34m\u001b[0m\u001b[0;34m\u001b[0m\u001b[0m\n\u001b[1;32m      4\u001b[0m \u001b[0;34m\u001b[0m\u001b[0m\n\u001b[1;32m      5\u001b[0m \u001b[0;31m#Define decoder\u001b[0m\u001b[0;34m\u001b[0m\u001b[0;34m\u001b[0m\u001b[0;34m\u001b[0m\u001b[0m\n",
      "\u001b[0;31mNameError\u001b[0m: name 'vgg16' is not defined"
     ]
    }
   ],
   "source": [
    "#Define backbone\n",
    "vgg = vgg16() \n",
    "vgg_backbone = vgg.features\n",
    "\n",
    "#Define decoder\n",
    "improved_decoder = nn.Sequential(nn.ReLU(),\n",
    "                                 nn.ConvTranspose2d(512, 256, kernel_size=3, stride=2, padding=1, dilation=1, output_padding=1),\n",
    "                                 nn.BatchNorm2d(256),\n",
    "                                 nn.ConvTranspose2d(256, 128, kernel_size=3, stride=2, padding=1, dilation=1, output_padding=1),\n",
    "                                 nn.BatchNorm2d(128),\n",
    "                                 nn.ConvTranspose2d(128, 64, kernel_size=3, stride=2, padding=1, dilation=1, output_padding=1),\n",
    "                                 nn.BatchNorm2d(64),\n",
    "                                 nn.ConvTranspose2d(64, 32, kernel_size=3, stride=2, padding=1, dilation=1, output_padding=1),\n",
    "                                 nn.BatchNorm2d(32),\n",
    "                                 nn.ConvTranspose2d(32, 16, kernel_size=3, stride=2, padding=1, dilation=1, output_padding=1),\n",
    "                                 nn.BatchNorm2d(16),\n",
    "                                 nn.Conv2d(16, n_classes, kernel_size=1))\n",
    "\n",
    "model = modelConstructor(vgg_backbone, improved_decoder)"
   ]
  },
  {
   "cell_type": "markdown",
   "id": "6333758a-e67f-49e7-bb2d-3c2c72414cc6",
   "metadata": {},
   "source": [
    "### VGG model - Modified backbone and improved decoder"
   ]
  },
  {
   "cell_type": "code",
   "execution_count": 12,
   "id": "78670dcb-cbc6-4278-801d-3ab1a130aa12",
   "metadata": {},
   "outputs": [],
   "source": [
    "#Define backbone\n",
    "vgg = vgg16() \n",
    "vgg_backbone = vgg.features\n",
    "#Remove final two layers in the vgg backbone\n",
    "layers = [vgg_backbone[idx] for idx in range(29)]\n",
    "vgg_backbone_mod = nn.Sequential(*layers)\n",
    "\n",
    "#Define decoder\n",
    "improved_decoder = nn.Sequential(nn.ReLU(),\n",
    "                                 nn.ConvTranspose2d(512, 256, kernel_size=3, stride=2, padding=1, dilation=1, output_padding=1),\n",
    "                                 nn.BatchNorm2d(256),\n",
    "                                 nn.ConvTranspose2d(256, 128, kernel_size=3, stride=2, padding=1, dilation=1, output_padding=1),\n",
    "                                 nn.BatchNorm2d(128),\n",
    "                                 nn.ConvTranspose2d(128, 64, kernel_size=3, stride=2, padding=1, dilation=1, output_padding=1),\n",
    "                                 nn.BatchNorm2d(64),\n",
    "                                 nn.ConvTranspose2d(64, 32, kernel_size=3, stride=2, padding=1, dilation=1, output_padding=1),\n",
    "                                 nn.BatchNorm2d(32),\n",
    "                                 nn.Conv2d(32, n_classes, kernel_size=1))\n",
    "\n",
    "model = modelConstructor(vgg_backbone_mod, improved_decoder)"
   ]
  },
  {
   "cell_type": "markdown",
   "id": "d6cda70d-6cf8-4490-8947-4c0247e48aaa",
   "metadata": {},
   "source": [
    "## Training"
   ]
  },
  {
   "cell_type": "code",
   "execution_count": 7,
   "id": "0dc7a828-c530-42a8-96f4-055243584db1",
   "metadata": {},
   "outputs": [],
   "source": [
    "## Models paramaters\n",
    "total_epochs      = 30\n",
    "save_every_epochs = 6 \n",
    "learning_rate     = 1e-4\n",
    "w_decay           = 1e-3\n",
    "\n",
    "# Loss functions\n",
    "cel = CrossEntropyLoss()\n",
    "diceloss = DiceLoss()\n",
    "bce_diceloss = DiceBCELoss()\n",
    "\n",
    "# Adam optimizer\n",
    "ad = Adam(model.parameters(), lr = learning_rate, weight_decay = w_decay)\n",
    "\n",
    "# Initialise the model handler\n",
    "my_model = modelFCN(model, loss_function = bce_diceloss, optimizer = ad )\n",
    "my_model.model.to(device);"
   ]
  },
  {
   "cell_type": "code",
   "execution_count": 8,
   "id": "4238ab51-1b10-4328-91d0-22faf15232ed",
   "metadata": {},
   "outputs": [
    {
     "ename": "AttributeError",
     "evalue": "'_OpNamespace' 'image' object has no attribute 'read_file'",
     "output_type": "error",
     "traceback": [
      "\u001b[0;31m---------------------------------------------------------------------------\u001b[0m",
      "\u001b[0;31mRuntimeError\u001b[0m                              Traceback (most recent call last)",
      "\u001b[0;32m~/.local/lib/python3.9/site-packages/torch/_ops.py\u001b[0m in \u001b[0;36m__getattr__\u001b[0;34m(self, op_name)\u001b[0m\n\u001b[1;32m    564\u001b[0m         \u001b[0;32mtry\u001b[0m\u001b[0;34m:\u001b[0m\u001b[0;34m\u001b[0m\u001b[0;34m\u001b[0m\u001b[0m\n\u001b[0;32m--> 565\u001b[0;31m             \u001b[0mop\u001b[0m\u001b[0;34m,\u001b[0m \u001b[0moverload_names\u001b[0m \u001b[0;34m=\u001b[0m \u001b[0mtorch\u001b[0m\u001b[0;34m.\u001b[0m\u001b[0m_C\u001b[0m\u001b[0;34m.\u001b[0m\u001b[0m_jit_get_operation\u001b[0m\u001b[0;34m(\u001b[0m\u001b[0mqualified_op_name\u001b[0m\u001b[0;34m)\u001b[0m\u001b[0;34m\u001b[0m\u001b[0;34m\u001b[0m\u001b[0m\n\u001b[0m\u001b[1;32m    566\u001b[0m         \u001b[0;32mexcept\u001b[0m \u001b[0mRuntimeError\u001b[0m \u001b[0;32mas\u001b[0m \u001b[0me\u001b[0m\u001b[0;34m:\u001b[0m\u001b[0;34m\u001b[0m\u001b[0;34m\u001b[0m\u001b[0m\n",
      "\u001b[0;31mRuntimeError\u001b[0m: No such operator image::read_file",
      "\nThe above exception was the direct cause of the following exception:\n",
      "\u001b[0;31mAttributeError\u001b[0m                            Traceback (most recent call last)",
      "\u001b[0;32m/tmp/ipykernel_210299/4067347941.py\u001b[0m in \u001b[0;36m<module>\u001b[0;34m\u001b[0m\n\u001b[1;32m      2\u001b[0m \u001b[0mstart_time\u001b[0m \u001b[0;34m=\u001b[0m \u001b[0mtime\u001b[0m\u001b[0;34m.\u001b[0m\u001b[0mtime\u001b[0m\u001b[0;34m(\u001b[0m\u001b[0;34m)\u001b[0m\u001b[0;34m\u001b[0m\u001b[0;34m\u001b[0m\u001b[0m\n\u001b[1;32m      3\u001b[0m \u001b[0;34m\u001b[0m\u001b[0m\n\u001b[0;32m----> 4\u001b[0;31m \u001b[0mL\u001b[0m\u001b[0;34m,\u001b[0m \u001b[0mckp_list\u001b[0m  \u001b[0;34m=\u001b[0m \u001b[0mmy_model\u001b[0m\u001b[0;34m.\u001b[0m\u001b[0mtrain_model\u001b[0m\u001b[0;34m(\u001b[0m\u001b[0mtrainloader\u001b[0m\u001b[0;34m,\u001b[0m \u001b[0mtotal_epochs\u001b[0m\u001b[0;34m=\u001b[0m\u001b[0mtotal_epochs\u001b[0m\u001b[0;34m,\u001b[0m \u001b[0msave_every_epochs\u001b[0m \u001b[0;34m=\u001b[0m \u001b[0msave_every_epochs\u001b[0m\u001b[0;34m,\u001b[0m \u001b[0mckp_name\u001b[0m \u001b[0;34m=\u001b[0m \u001b[0mcheckpoint_path\u001b[0m\u001b[0;34m+\u001b[0m\u001b[0;34m\"/\"\u001b[0m\u001b[0;34m+\u001b[0m\u001b[0mexp_name\u001b[0m\u001b[0;34m)\u001b[0m\u001b[0;34m\u001b[0m\u001b[0;34m\u001b[0m\u001b[0m\n\u001b[0m\u001b[1;32m      5\u001b[0m \u001b[0;34m\u001b[0m\u001b[0m\n\u001b[1;32m      6\u001b[0m \u001b[0mcomp_time\u001b[0m \u001b[0;34m=\u001b[0m \u001b[0mtime\u001b[0m\u001b[0;34m.\u001b[0m\u001b[0mtime\u001b[0m\u001b[0;34m(\u001b[0m\u001b[0;34m)\u001b[0m \u001b[0;34m-\u001b[0m \u001b[0mstart_time\u001b[0m\u001b[0;34m\u001b[0m\u001b[0;34m\u001b[0m\u001b[0m\n",
      "\u001b[0;32m~/INM705/CW/Utilities/modelHandler.py\u001b[0m in \u001b[0;36mtrain_model\u001b[0;34m(self, dataloader, total_epochs, save_every_epochs, ckp_name)\u001b[0m\n\u001b[1;32m     29\u001b[0m             \u001b[0mtotal_loss_epoch\u001b[0m \u001b[0;34m=\u001b[0m \u001b[0;36m0\u001b[0m\u001b[0;34m\u001b[0m\u001b[0;34m\u001b[0m\u001b[0m\n\u001b[1;32m     30\u001b[0m \u001b[0;34m\u001b[0m\u001b[0m\n\u001b[0;32m---> 31\u001b[0;31m             \u001b[0;32mfor\u001b[0m \u001b[0mid_batch\u001b[0m\u001b[0;34m,\u001b[0m \u001b[0mbatch\u001b[0m \u001b[0;32min\u001b[0m \u001b[0menumerate\u001b[0m\u001b[0;34m(\u001b[0m\u001b[0mdataloader\u001b[0m\u001b[0;34m)\u001b[0m\u001b[0;34m:\u001b[0m\u001b[0;34m\u001b[0m\u001b[0;34m\u001b[0m\u001b[0m\n\u001b[0m\u001b[1;32m     32\u001b[0m \u001b[0;34m\u001b[0m\u001b[0m\n\u001b[1;32m     33\u001b[0m                 \u001b[0mself\u001b[0m\u001b[0;34m.\u001b[0m\u001b[0mopt\u001b[0m\u001b[0;34m.\u001b[0m\u001b[0mzero_grad\u001b[0m\u001b[0;34m(\u001b[0m\u001b[0;34m)\u001b[0m\u001b[0;34m\u001b[0m\u001b[0;34m\u001b[0m\u001b[0m\n",
      "\u001b[0;32m~/.local/lib/python3.9/site-packages/torch/utils/data/dataloader.py\u001b[0m in \u001b[0;36m__next__\u001b[0;34m(self)\u001b[0m\n\u001b[1;32m    632\u001b[0m                 \u001b[0;31m# TODO(https://github.com/pytorch/pytorch/issues/76750)\u001b[0m\u001b[0;34m\u001b[0m\u001b[0;34m\u001b[0m\u001b[0;34m\u001b[0m\u001b[0m\n\u001b[1;32m    633\u001b[0m                 \u001b[0mself\u001b[0m\u001b[0;34m.\u001b[0m\u001b[0m_reset\u001b[0m\u001b[0;34m(\u001b[0m\u001b[0;34m)\u001b[0m  \u001b[0;31m# type: ignore[call-arg]\u001b[0m\u001b[0;34m\u001b[0m\u001b[0;34m\u001b[0m\u001b[0m\n\u001b[0;32m--> 634\u001b[0;31m             \u001b[0mdata\u001b[0m \u001b[0;34m=\u001b[0m \u001b[0mself\u001b[0m\u001b[0;34m.\u001b[0m\u001b[0m_next_data\u001b[0m\u001b[0;34m(\u001b[0m\u001b[0;34m)\u001b[0m\u001b[0;34m\u001b[0m\u001b[0;34m\u001b[0m\u001b[0m\n\u001b[0m\u001b[1;32m    635\u001b[0m             \u001b[0mself\u001b[0m\u001b[0;34m.\u001b[0m\u001b[0m_num_yielded\u001b[0m \u001b[0;34m+=\u001b[0m \u001b[0;36m1\u001b[0m\u001b[0;34m\u001b[0m\u001b[0;34m\u001b[0m\u001b[0m\n\u001b[1;32m    636\u001b[0m             \u001b[0;32mif\u001b[0m \u001b[0mself\u001b[0m\u001b[0;34m.\u001b[0m\u001b[0m_dataset_kind\u001b[0m \u001b[0;34m==\u001b[0m \u001b[0m_DatasetKind\u001b[0m\u001b[0;34m.\u001b[0m\u001b[0mIterable\u001b[0m \u001b[0;32mand\u001b[0m\u001b[0;31m \u001b[0m\u001b[0;31m\\\u001b[0m\u001b[0;34m\u001b[0m\u001b[0;34m\u001b[0m\u001b[0m\n",
      "\u001b[0;32m~/.local/lib/python3.9/site-packages/torch/utils/data/dataloader.py\u001b[0m in \u001b[0;36m_next_data\u001b[0;34m(self)\u001b[0m\n\u001b[1;32m    676\u001b[0m     \u001b[0;32mdef\u001b[0m \u001b[0m_next_data\u001b[0m\u001b[0;34m(\u001b[0m\u001b[0mself\u001b[0m\u001b[0;34m)\u001b[0m\u001b[0;34m:\u001b[0m\u001b[0;34m\u001b[0m\u001b[0;34m\u001b[0m\u001b[0m\n\u001b[1;32m    677\u001b[0m         \u001b[0mindex\u001b[0m \u001b[0;34m=\u001b[0m \u001b[0mself\u001b[0m\u001b[0;34m.\u001b[0m\u001b[0m_next_index\u001b[0m\u001b[0;34m(\u001b[0m\u001b[0;34m)\u001b[0m  \u001b[0;31m# may raise StopIteration\u001b[0m\u001b[0;34m\u001b[0m\u001b[0;34m\u001b[0m\u001b[0m\n\u001b[0;32m--> 678\u001b[0;31m         \u001b[0mdata\u001b[0m \u001b[0;34m=\u001b[0m \u001b[0mself\u001b[0m\u001b[0;34m.\u001b[0m\u001b[0m_dataset_fetcher\u001b[0m\u001b[0;34m.\u001b[0m\u001b[0mfetch\u001b[0m\u001b[0;34m(\u001b[0m\u001b[0mindex\u001b[0m\u001b[0;34m)\u001b[0m  \u001b[0;31m# may raise StopIteration\u001b[0m\u001b[0;34m\u001b[0m\u001b[0;34m\u001b[0m\u001b[0m\n\u001b[0m\u001b[1;32m    679\u001b[0m         \u001b[0;32mif\u001b[0m \u001b[0mself\u001b[0m\u001b[0;34m.\u001b[0m\u001b[0m_pin_memory\u001b[0m\u001b[0;34m:\u001b[0m\u001b[0;34m\u001b[0m\u001b[0;34m\u001b[0m\u001b[0m\n\u001b[1;32m    680\u001b[0m             \u001b[0mdata\u001b[0m \u001b[0;34m=\u001b[0m \u001b[0m_utils\u001b[0m\u001b[0;34m.\u001b[0m\u001b[0mpin_memory\u001b[0m\u001b[0;34m.\u001b[0m\u001b[0mpin_memory\u001b[0m\u001b[0;34m(\u001b[0m\u001b[0mdata\u001b[0m\u001b[0;34m,\u001b[0m \u001b[0mself\u001b[0m\u001b[0;34m.\u001b[0m\u001b[0m_pin_memory_device\u001b[0m\u001b[0;34m)\u001b[0m\u001b[0;34m\u001b[0m\u001b[0;34m\u001b[0m\u001b[0m\n",
      "\u001b[0;32m~/.local/lib/python3.9/site-packages/torch/utils/data/_utils/fetch.py\u001b[0m in \u001b[0;36mfetch\u001b[0;34m(self, possibly_batched_index)\u001b[0m\n\u001b[1;32m     49\u001b[0m                 \u001b[0mdata\u001b[0m \u001b[0;34m=\u001b[0m \u001b[0mself\u001b[0m\u001b[0;34m.\u001b[0m\u001b[0mdataset\u001b[0m\u001b[0;34m.\u001b[0m\u001b[0m__getitems__\u001b[0m\u001b[0;34m(\u001b[0m\u001b[0mpossibly_batched_index\u001b[0m\u001b[0;34m)\u001b[0m\u001b[0;34m\u001b[0m\u001b[0;34m\u001b[0m\u001b[0m\n\u001b[1;32m     50\u001b[0m             \u001b[0;32melse\u001b[0m\u001b[0;34m:\u001b[0m\u001b[0;34m\u001b[0m\u001b[0;34m\u001b[0m\u001b[0m\n\u001b[0;32m---> 51\u001b[0;31m                 \u001b[0mdata\u001b[0m \u001b[0;34m=\u001b[0m \u001b[0;34m[\u001b[0m\u001b[0mself\u001b[0m\u001b[0;34m.\u001b[0m\u001b[0mdataset\u001b[0m\u001b[0;34m[\u001b[0m\u001b[0midx\u001b[0m\u001b[0;34m]\u001b[0m \u001b[0;32mfor\u001b[0m \u001b[0midx\u001b[0m \u001b[0;32min\u001b[0m \u001b[0mpossibly_batched_index\u001b[0m\u001b[0;34m]\u001b[0m\u001b[0;34m\u001b[0m\u001b[0;34m\u001b[0m\u001b[0m\n\u001b[0m\u001b[1;32m     52\u001b[0m         \u001b[0;32melse\u001b[0m\u001b[0;34m:\u001b[0m\u001b[0;34m\u001b[0m\u001b[0;34m\u001b[0m\u001b[0m\n\u001b[1;32m     53\u001b[0m             \u001b[0mdata\u001b[0m \u001b[0;34m=\u001b[0m \u001b[0mself\u001b[0m\u001b[0;34m.\u001b[0m\u001b[0mdataset\u001b[0m\u001b[0;34m[\u001b[0m\u001b[0mpossibly_batched_index\u001b[0m\u001b[0;34m]\u001b[0m\u001b[0;34m\u001b[0m\u001b[0;34m\u001b[0m\u001b[0m\n",
      "\u001b[0;32m~/.local/lib/python3.9/site-packages/torch/utils/data/_utils/fetch.py\u001b[0m in \u001b[0;36m<listcomp>\u001b[0;34m(.0)\u001b[0m\n\u001b[1;32m     49\u001b[0m                 \u001b[0mdata\u001b[0m \u001b[0;34m=\u001b[0m \u001b[0mself\u001b[0m\u001b[0;34m.\u001b[0m\u001b[0mdataset\u001b[0m\u001b[0;34m.\u001b[0m\u001b[0m__getitems__\u001b[0m\u001b[0;34m(\u001b[0m\u001b[0mpossibly_batched_index\u001b[0m\u001b[0;34m)\u001b[0m\u001b[0;34m\u001b[0m\u001b[0;34m\u001b[0m\u001b[0m\n\u001b[1;32m     50\u001b[0m             \u001b[0;32melse\u001b[0m\u001b[0;34m:\u001b[0m\u001b[0;34m\u001b[0m\u001b[0;34m\u001b[0m\u001b[0m\n\u001b[0;32m---> 51\u001b[0;31m                 \u001b[0mdata\u001b[0m \u001b[0;34m=\u001b[0m \u001b[0;34m[\u001b[0m\u001b[0mself\u001b[0m\u001b[0;34m.\u001b[0m\u001b[0mdataset\u001b[0m\u001b[0;34m[\u001b[0m\u001b[0midx\u001b[0m\u001b[0;34m]\u001b[0m \u001b[0;32mfor\u001b[0m \u001b[0midx\u001b[0m \u001b[0;32min\u001b[0m \u001b[0mpossibly_batched_index\u001b[0m\u001b[0;34m]\u001b[0m\u001b[0;34m\u001b[0m\u001b[0;34m\u001b[0m\u001b[0m\n\u001b[0m\u001b[1;32m     52\u001b[0m         \u001b[0;32melse\u001b[0m\u001b[0;34m:\u001b[0m\u001b[0;34m\u001b[0m\u001b[0;34m\u001b[0m\u001b[0m\n\u001b[1;32m     53\u001b[0m             \u001b[0mdata\u001b[0m \u001b[0;34m=\u001b[0m \u001b[0mself\u001b[0m\u001b[0;34m.\u001b[0m\u001b[0mdataset\u001b[0m\u001b[0;34m[\u001b[0m\u001b[0mpossibly_batched_index\u001b[0m\u001b[0;34m]\u001b[0m\u001b[0;34m\u001b[0m\u001b[0;34m\u001b[0m\u001b[0m\n",
      "\u001b[0;32m~/INM705/CW/Utilities/datasetHandler.py\u001b[0m in \u001b[0;36m__getitem__\u001b[0;34m(self, idx)\u001b[0m\n\u001b[1;32m    121\u001b[0m     \u001b[0;32mdef\u001b[0m \u001b[0m__getitem__\u001b[0m\u001b[0;34m(\u001b[0m\u001b[0mself\u001b[0m\u001b[0;34m,\u001b[0m \u001b[0midx\u001b[0m\u001b[0;34m)\u001b[0m\u001b[0;34m:\u001b[0m\u001b[0;34m\u001b[0m\u001b[0;34m\u001b[0m\u001b[0m\n\u001b[1;32m    122\u001b[0m \u001b[0;34m\u001b[0m\u001b[0m\n\u001b[0;32m--> 123\u001b[0;31m         \u001b[0mimg\u001b[0m \u001b[0;34m=\u001b[0m \u001b[0mself\u001b[0m\u001b[0;34m.\u001b[0m\u001b[0mget_image\u001b[0m\u001b[0;34m(\u001b[0m\u001b[0midx\u001b[0m\u001b[0;34m)\u001b[0m\u001b[0;34m\u001b[0m\u001b[0;34m\u001b[0m\u001b[0m\n\u001b[0m\u001b[1;32m    124\u001b[0m         \u001b[0mgt\u001b[0m \u001b[0;34m=\u001b[0m \u001b[0mself\u001b[0m\u001b[0;34m.\u001b[0m\u001b[0mget_ground_truth\u001b[0m\u001b[0;34m(\u001b[0m\u001b[0midx\u001b[0m\u001b[0;34m)\u001b[0m\u001b[0;34m\u001b[0m\u001b[0;34m\u001b[0m\u001b[0m\n\u001b[1;32m    125\u001b[0m \u001b[0;34m\u001b[0m\u001b[0m\n",
      "\u001b[0;32m~/INM705/CW/Utilities/datasetHandler.py\u001b[0m in \u001b[0;36mget_image\u001b[0;34m(self, idx)\u001b[0m\n\u001b[1;32m     82\u001b[0m \u001b[0;34m\u001b[0m\u001b[0m\n\u001b[1;32m     83\u001b[0m     \u001b[0;32mdef\u001b[0m \u001b[0mget_image\u001b[0m\u001b[0;34m(\u001b[0m\u001b[0mself\u001b[0m\u001b[0;34m,\u001b[0m \u001b[0midx\u001b[0m\u001b[0;34m)\u001b[0m\u001b[0;34m:\u001b[0m\u001b[0;34m\u001b[0m\u001b[0;34m\u001b[0m\u001b[0m\n\u001b[0;32m---> 84\u001b[0;31m         \u001b[0mimg\u001b[0m \u001b[0;34m=\u001b[0m \u001b[0mread_image\u001b[0m\u001b[0;34m(\u001b[0m\u001b[0mself\u001b[0m\u001b[0;34m.\u001b[0m\u001b[0mimg_paths_list\u001b[0m\u001b[0;34m[\u001b[0m\u001b[0midx\u001b[0m\u001b[0;34m]\u001b[0m\u001b[0;34m)\u001b[0m\u001b[0;34m\u001b[0m\u001b[0;34m\u001b[0m\u001b[0m\n\u001b[0m\u001b[1;32m     85\u001b[0m         \u001b[0;32mreturn\u001b[0m \u001b[0mself\u001b[0m\u001b[0;34m.\u001b[0m\u001b[0mt_\u001b[0m\u001b[0;34m(\u001b[0m\u001b[0mimg\u001b[0m\u001b[0;34m)\u001b[0m\u001b[0;34m\u001b[0m\u001b[0;34m\u001b[0m\u001b[0m\n\u001b[1;32m     86\u001b[0m \u001b[0;34m\u001b[0m\u001b[0m\n",
      "\u001b[0;32m~/.local/lib/python3.9/site-packages/torchvision/io/image.py\u001b[0m in \u001b[0;36mread_image\u001b[0;34m(path, mode)\u001b[0m\n\u001b[1;32m    251\u001b[0m     \u001b[0;32mif\u001b[0m \u001b[0;32mnot\u001b[0m \u001b[0mtorch\u001b[0m\u001b[0;34m.\u001b[0m\u001b[0mjit\u001b[0m\u001b[0;34m.\u001b[0m\u001b[0mis_scripting\u001b[0m\u001b[0;34m(\u001b[0m\u001b[0;34m)\u001b[0m \u001b[0;32mand\u001b[0m \u001b[0;32mnot\u001b[0m \u001b[0mtorch\u001b[0m\u001b[0;34m.\u001b[0m\u001b[0mjit\u001b[0m\u001b[0;34m.\u001b[0m\u001b[0mis_tracing\u001b[0m\u001b[0;34m(\u001b[0m\u001b[0;34m)\u001b[0m\u001b[0;34m:\u001b[0m\u001b[0;34m\u001b[0m\u001b[0;34m\u001b[0m\u001b[0m\n\u001b[1;32m    252\u001b[0m         \u001b[0m_log_api_usage_once\u001b[0m\u001b[0;34m(\u001b[0m\u001b[0mread_image\u001b[0m\u001b[0;34m)\u001b[0m\u001b[0;34m\u001b[0m\u001b[0;34m\u001b[0m\u001b[0m\n\u001b[0;32m--> 253\u001b[0;31m     \u001b[0mdata\u001b[0m \u001b[0;34m=\u001b[0m \u001b[0mread_file\u001b[0m\u001b[0;34m(\u001b[0m\u001b[0mpath\u001b[0m\u001b[0;34m)\u001b[0m\u001b[0;34m\u001b[0m\u001b[0;34m\u001b[0m\u001b[0m\n\u001b[0m\u001b[1;32m    254\u001b[0m     \u001b[0;32mreturn\u001b[0m \u001b[0mdecode_image\u001b[0m\u001b[0;34m(\u001b[0m\u001b[0mdata\u001b[0m\u001b[0;34m,\u001b[0m \u001b[0mmode\u001b[0m\u001b[0;34m)\u001b[0m\u001b[0;34m\u001b[0m\u001b[0;34m\u001b[0m\u001b[0m\n\u001b[1;32m    255\u001b[0m \u001b[0;34m\u001b[0m\u001b[0m\n",
      "\u001b[0;32m~/.local/lib/python3.9/site-packages/torchvision/io/image.py\u001b[0m in \u001b[0;36mread_file\u001b[0;34m(path)\u001b[0m\n\u001b[1;32m     45\u001b[0m     \u001b[0;32mif\u001b[0m \u001b[0;32mnot\u001b[0m \u001b[0mtorch\u001b[0m\u001b[0;34m.\u001b[0m\u001b[0mjit\u001b[0m\u001b[0;34m.\u001b[0m\u001b[0mis_scripting\u001b[0m\u001b[0;34m(\u001b[0m\u001b[0;34m)\u001b[0m \u001b[0;32mand\u001b[0m \u001b[0;32mnot\u001b[0m \u001b[0mtorch\u001b[0m\u001b[0;34m.\u001b[0m\u001b[0mjit\u001b[0m\u001b[0;34m.\u001b[0m\u001b[0mis_tracing\u001b[0m\u001b[0;34m(\u001b[0m\u001b[0;34m)\u001b[0m\u001b[0;34m:\u001b[0m\u001b[0;34m\u001b[0m\u001b[0;34m\u001b[0m\u001b[0m\n\u001b[1;32m     46\u001b[0m         \u001b[0m_log_api_usage_once\u001b[0m\u001b[0;34m(\u001b[0m\u001b[0mread_file\u001b[0m\u001b[0;34m)\u001b[0m\u001b[0;34m\u001b[0m\u001b[0;34m\u001b[0m\u001b[0m\n\u001b[0;32m---> 47\u001b[0;31m     \u001b[0mdata\u001b[0m \u001b[0;34m=\u001b[0m \u001b[0mtorch\u001b[0m\u001b[0;34m.\u001b[0m\u001b[0mops\u001b[0m\u001b[0;34m.\u001b[0m\u001b[0mimage\u001b[0m\u001b[0;34m.\u001b[0m\u001b[0mread_file\u001b[0m\u001b[0;34m(\u001b[0m\u001b[0mpath\u001b[0m\u001b[0;34m)\u001b[0m\u001b[0;34m\u001b[0m\u001b[0;34m\u001b[0m\u001b[0m\n\u001b[0m\u001b[1;32m     48\u001b[0m     \u001b[0;32mreturn\u001b[0m \u001b[0mdata\u001b[0m\u001b[0;34m\u001b[0m\u001b[0;34m\u001b[0m\u001b[0m\n\u001b[1;32m     49\u001b[0m \u001b[0;34m\u001b[0m\u001b[0m\n",
      "\u001b[0;32m~/.local/lib/python3.9/site-packages/torch/_ops.py\u001b[0m in \u001b[0;36m__getattr__\u001b[0;34m(self, op_name)\u001b[0m\n\u001b[1;32m    567\u001b[0m             \u001b[0;31m# Turn this into AttributeError so getattr(obj, key, default)\u001b[0m\u001b[0;34m\u001b[0m\u001b[0;34m\u001b[0m\u001b[0;34m\u001b[0m\u001b[0m\n\u001b[1;32m    568\u001b[0m             \u001b[0;31m# works (this is called by TorchScript with __origin__)\u001b[0m\u001b[0;34m\u001b[0m\u001b[0;34m\u001b[0m\u001b[0;34m\u001b[0m\u001b[0m\n\u001b[0;32m--> 569\u001b[0;31m             raise AttributeError(\n\u001b[0m\u001b[1;32m    570\u001b[0m                 \u001b[0;34mf\"'_OpNamespace' '{self.name}' object has no attribute '{op_name}'\"\u001b[0m\u001b[0;34m\u001b[0m\u001b[0;34m\u001b[0m\u001b[0m\n\u001b[1;32m    571\u001b[0m             ) from e\n",
      "\u001b[0;31mAttributeError\u001b[0m: '_OpNamespace' 'image' object has no attribute 'read_file'"
     ]
    }
   ],
   "source": [
    "## TRAINING PHASE ##\n",
    "start_time = time.time()\n",
    "\n",
    "L, ckp_list  = my_model.train_model(trainloader, total_epochs=total_epochs, save_every_epochs = save_every_epochs, ckp_name = checkpoint_path+\"/\"+exp_name)\n",
    "\n",
    "comp_time = time.time() - start_time\n",
    "print(\"Computational time required: {} h\".format(round(comp_time / 3600,0)))\n",
    "\n",
    "fig, ax = plt.subplots()\n",
    "ax.plot(L, linewidth = 3)\n",
    "ax.set_xlabel(\"Epochs\")\n",
    "ax.set_ylabel(\"Loss\");\n",
    "plt.savefig(results_path+\"/training_loss.png\")"
   ]
  },
  {
   "cell_type": "markdown",
   "id": "db4217b3-3369-4d9a-9a12-69227863b11f",
   "metadata": {
    "tags": []
   },
   "source": [
    "## Model evaluation and visualisation"
   ]
  },
  {
   "cell_type": "code",
   "execution_count": 14,
   "id": "036475e2-cee9-4502-bee8-259f95af6b74",
   "metadata": {},
   "outputs": [
    {
     "data": {
      "text/plain": [
       "['Checkpoints/TESTONE/TESTONE_1.pth']"
      ]
     },
     "execution_count": 14,
     "metadata": {},
     "output_type": "execute_result"
    }
   ],
   "source": [
    "ckp_list"
   ]
  },
  {
   "cell_type": "code",
   "execution_count": 15,
   "id": "c4261546-0663-4ee2-a812-4d1883892425",
   "metadata": {},
   "outputs": [
    {
     "data": {
      "image/png": "[encoded data removed]",
      "text/plain": [
       "<Figure size 432x288 with 1 Axes>"
      ]
     },
     "metadata": {
      "needs_background": "light"
     },
     "output_type": "display_data"
    }
   ],
   "source": [
    "image_id = 20\n",
    "image_id2 = 9 \n",
    "\n",
    "# Create variables to store progressive results\n",
    "grid_list = []\n",
    "e_list    = []\n",
    "acc_list  = []\n",
    "iou_list  = []\n",
    "\n",
    "for ckp in ckp_list:\n",
    "    \n",
    "    # Extract the epoch number\n",
    "    e = int(ckp.split('_')[-1].split('.pth')[0])\n",
    "    e_list.append(e)\n",
    "    \n",
    "    # Metrics computation\n",
    "    mPA, PAk, mIoU, IoUk = my_model.evaluate_model(next(iter(valloader)), ckp)\n",
    "    acc_list.append(mPA)\n",
    "    iou_list.append(mIoU)\n",
    "    \n",
    "    # Results visualisation\n",
    "    grid = visualise_and_save(ckp, my_model, dt_val, image_id = image_id, save_name = results_path + \"/id{}_ep{}.png\".format(image_id,e))\n",
    "    grid2 = visualise_and_save(ckp, my_model, dt_val, image_id = image_id2, save_name = results_path + \"/id{}_ep{}.png\".format(image_id2,e))\n",
    "    grid_list.append(grid)\n",
    "\n",
    "# Plot accuracy and meanIoU over epochs\n",
    "fig, ax = plt.subplots()\n",
    "ax.plot(e_list, acc_list , linewidth = 3, label = 'meanPA')\n",
    "ax.plot(e_list, iou_list , linewidth = 3, label = 'meanIoU')\n",
    "ax.set_xlabel(\"Epochs\")\n",
    "ax.set_ylabel(\"Metrics\")\n",
    "ax.set_ylim(0,1)\n",
    "plt.legend()\n",
    "plt.savefig(results_path+\"/mPA_epochs.png\")"
   ]
  },
  {
   "cell_type": "code",
   "execution_count": null,
   "id": "160777b2-37a8-4821-9ee5-f6dc422f1b10",
   "metadata": {},
   "outputs": [],
   "source": [
    "print(\"mPA: {}, mIoU: {}\".format(mPA, mIoU))"
   ]
  },
  {
   "cell_type": "code",
   "execution_count": null,
   "id": "a45781f6-103b-4301-96fa-e7ac7846f11c",
   "metadata": {},
   "outputs": [],
   "source": [
    "metrics_per_class(classes.labels, PAk, IoUk, results_path)"
   ]
  },
  {
   "cell_type": "code",
   "execution_count": 16,
   "id": "d754cb68-c696-4ec7-8be1-566afe724da0",
   "metadata": {},
   "outputs": [
    {
     "data": {
      "image/png": "[encoded data removed]",
      "text/plain": [
       "<PIL.Image.Image image mode=RGB size=518x132 at 0x2B9A7D46B5B0>"
      ]
     },
     "execution_count": 16,
     "metadata": {},
     "output_type": "execute_result"
    }
   ],
   "source": [
    "to_pil_image(grid_list[-1])"
   ]
  },
  {
   "cell_type": "markdown",
   "id": "546b479e-af36-484d-994a-eabc2ae72796",
   "metadata": {
    "tags": []
   },
   "source": [
    "## Check the model"
   ]
  },
  {
   "cell_type": "code",
   "execution_count": 10,
   "id": "690eb200-da1c-41fd-9756-0693d12630d0",
   "metadata": {},
   "outputs": [],
   "source": [
    "model = vgg_backbone"
   ]
  },
  {
   "cell_type": "code",
   "execution_count": 11,
   "id": "1040f0c6-c34e-459e-a408-aa8cfda4705c",
   "metadata": {},
   "outputs": [
    {
     "name": "stdout",
     "output_type": "stream",
     "text": [
      "----------------------------------------------------------------\n",
      "        Layer (type)               Output Shape         Param #\n",
      "================================================================\n",
      "            Conv2d-1         [-1, 64, 128, 256]           1,792\n",
      "              ReLU-2         [-1, 64, 128, 256]               0\n",
      "            Conv2d-3         [-1, 64, 128, 256]          36,928\n",
      "              ReLU-4         [-1, 64, 128, 256]               0\n",
      "         MaxPool2d-5          [-1, 64, 64, 128]               0\n",
      "            Conv2d-6         [-1, 128, 64, 128]          73,856\n",
      "              ReLU-7         [-1, 128, 64, 128]               0\n",
      "            Conv2d-8         [-1, 128, 64, 128]         147,584\n",
      "              ReLU-9         [-1, 128, 64, 128]               0\n",
      "        MaxPool2d-10          [-1, 128, 32, 64]               0\n",
      "           Conv2d-11          [-1, 256, 32, 64]         295,168\n",
      "             ReLU-12          [-1, 256, 32, 64]               0\n",
      "           Conv2d-13          [-1, 256, 32, 64]         590,080\n",
      "             ReLU-14          [-1, 256, 32, 64]               0\n",
      "           Conv2d-15          [-1, 256, 32, 64]         590,080\n",
      "             ReLU-16          [-1, 256, 32, 64]               0\n",
      "        MaxPool2d-17          [-1, 256, 16, 32]               0\n",
      "           Conv2d-18          [-1, 512, 16, 32]       1,180,160\n",
      "             ReLU-19          [-1, 512, 16, 32]               0\n",
      "           Conv2d-20          [-1, 512, 16, 32]       2,359,808\n",
      "             ReLU-21          [-1, 512, 16, 32]               0\n",
      "           Conv2d-22          [-1, 512, 16, 32]       2,359,808\n",
      "             ReLU-23          [-1, 512, 16, 32]               0\n",
      "        MaxPool2d-24           [-1, 512, 8, 16]               0\n",
      "           Conv2d-25           [-1, 512, 8, 16]       2,359,808\n",
      "             ReLU-26           [-1, 512, 8, 16]               0\n",
      "           Conv2d-27           [-1, 512, 8, 16]       2,359,808\n",
      "             ReLU-28           [-1, 512, 8, 16]               0\n",
      "           Conv2d-29           [-1, 512, 8, 16]       2,359,808\n",
      "             ReLU-30           [-1, 512, 8, 16]               0\n",
      "        MaxPool2d-31            [-1, 512, 4, 8]               0\n",
      "================================================================\n",
      "Total params: 14,714,688\n",
      "Trainable params: 14,714,688\n",
      "Non-trainable params: 0\n",
      "----------------------------------------------------------------\n",
      "Input size (MB): 0.38\n",
      "Forward/backward pass size (MB): 142.62\n",
      "Params size (MB): 56.13\n",
      "Estimated Total Size (MB): 199.13\n",
      "----------------------------------------------------------------\n",
      "\n"
     ]
    },
    {
     "data": {
      "text/plain": [
       "(tensor(14714688), tensor(14714688))"
      ]
     },
     "execution_count": 11,
     "metadata": {},
     "output_type": "execute_result"
    }
   ],
   "source": [
    "from Utilities.torchsummaryNew import summary\n",
    "\n",
    "model.to(device);\n",
    "\n",
    "summary(model, (3, 128, 256))"
   ]
  },
  {
   "cell_type": "code",
   "execution_count": 15,
   "id": "d0434374-3a7b-4a23-876d-d09bd5c228c8",
   "metadata": {},
   "outputs": [],
   "source": [
    "model = vgg_backbone_mod"
   ]
  },
  {
   "cell_type": "code",
   "execution_count": 16,
   "id": "7298c961-028a-46ca-8d69-3a19af2861bf",
   "metadata": {},
   "outputs": [
    {
     "name": "stdout",
     "output_type": "stream",
     "text": [
      "----------------------------------------------------------------\n",
      "        Layer (type)               Output Shape         Param #\n",
      "================================================================\n",
      "            Conv2d-1         [-1, 64, 128, 256]           1,792\n",
      "              ReLU-2         [-1, 64, 128, 256]               0\n",
      "            Conv2d-3         [-1, 64, 128, 256]          36,928\n",
      "              ReLU-4         [-1, 64, 128, 256]               0\n",
      "         MaxPool2d-5          [-1, 64, 64, 128]               0\n",
      "            Conv2d-6         [-1, 128, 64, 128]          73,856\n",
      "              ReLU-7         [-1, 128, 64, 128]               0\n",
      "            Conv2d-8         [-1, 128, 64, 128]         147,584\n",
      "              ReLU-9         [-1, 128, 64, 128]               0\n",
      "        MaxPool2d-10          [-1, 128, 32, 64]               0\n",
      "           Conv2d-11          [-1, 256, 32, 64]         295,168\n",
      "             ReLU-12          [-1, 256, 32, 64]               0\n",
      "           Conv2d-13          [-1, 256, 32, 64]         590,080\n",
      "             ReLU-14          [-1, 256, 32, 64]               0\n",
      "           Conv2d-15          [-1, 256, 32, 64]         590,080\n",
      "             ReLU-16          [-1, 256, 32, 64]               0\n",
      "        MaxPool2d-17          [-1, 256, 16, 32]               0\n",
      "           Conv2d-18          [-1, 512, 16, 32]       1,180,160\n",
      "             ReLU-19          [-1, 512, 16, 32]               0\n",
      "           Conv2d-20          [-1, 512, 16, 32]       2,359,808\n",
      "             ReLU-21          [-1, 512, 16, 32]               0\n",
      "           Conv2d-22          [-1, 512, 16, 32]       2,359,808\n",
      "             ReLU-23          [-1, 512, 16, 32]               0\n",
      "        MaxPool2d-24           [-1, 512, 8, 16]               0\n",
      "           Conv2d-25           [-1, 512, 8, 16]       2,359,808\n",
      "             ReLU-26           [-1, 512, 8, 16]               0\n",
      "           Conv2d-27           [-1, 512, 8, 16]       2,359,808\n",
      "             ReLU-28           [-1, 512, 8, 16]               0\n",
      "           Conv2d-29           [-1, 512, 8, 16]       2,359,808\n",
      "================================================================\n",
      "Total params: 14,714,688\n",
      "Trainable params: 14,714,688\n",
      "Non-trainable params: 0\n",
      "----------------------------------------------------------------\n",
      "Input size (MB): 0.38\n",
      "Forward/backward pass size (MB): 142.00\n",
      "Params size (MB): 56.13\n",
      "Estimated Total Size (MB): 198.51\n",
      "----------------------------------------------------------------\n",
      "\n"
     ]
    },
    {
     "data": {
      "text/plain": [
       "(tensor(14714688), tensor(14714688))"
      ]
     },
     "execution_count": 16,
     "metadata": {},
     "output_type": "execute_result"
    }
   ],
   "source": [
    "from Utilities.torchsummaryNew import summary\n",
    "\n",
    "model.to(device);\n",
    "\n",
    "summary(model, (3, 128, 256))"
   ]
  },
  {
   "cell_type": "code",
   "execution_count": null,
   "id": "dff20e0b-2e38-4976-9273-4372398430c8",
   "metadata": {},
   "outputs": [],
   "source": []
  }
 ],
 "metadata": {
  "kernelspec": {
   "display_name": "Python 3 (ipykernel)",
   "language": "python",
   "name": "python3"
  },
  "language_info": {
   "codemirror_mode": {
    "name": "ipython",
    "version": 3
   },
   "file_extension": ".py",
   "mimetype": "text/x-python",
   "name": "python",
   "nbconvert_exporter": "python",
   "pygments_lexer": "ipython3",
   "version": "3.9.5"
  },
  "toc-autonumbering": true
 },
 "nbformat": 4,
 "nbformat_minor": 5
}
